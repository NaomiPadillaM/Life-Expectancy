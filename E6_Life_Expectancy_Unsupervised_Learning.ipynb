{
  "cells": [
    {
      "cell_type": "markdown",
      "metadata": {
        "id": "Tt5fVlamohQL"
      },
      "source": [
        "#Proyecto de aprendizaje no supervisado\n",
        "Equipo 6\n",
        "*   Adrián Landaverde Nava\n",
        "*   Naomi Padilla Mora\n",
        "*   Sabrina Nicole Rodríguez Salgado"
      ]
    },
    {
      "cell_type": "markdown",
      "metadata": {
        "id": "boxnckOXFoww"
      },
      "source": [
        "# 01. Librerías"
      ]
    },
    {
      "cell_type": "code",
      "execution_count": null,
      "metadata": {
        "colab": {
          "base_uri": "https://localhost:8080/"
        },
        "id": "kIw-0xUXuOwo",
        "outputId": "27ea775f-1d8d-4846-ba4c-7509458f8966"
      },
      "outputs": [
        {
          "name": "stdout",
          "output_type": "stream",
          "text": [
            "Looking in indexes: https://pypi.org/simple, https://us-python.pkg.dev/colab-wheels/public/simple/\n",
            "Collecting geopandas\n",
            "  Downloading geopandas-0.10.2-py2.py3-none-any.whl (1.0 MB)\n",
            "\u001b[K     |████████████████████████████████| 1.0 MB 8.0 MB/s \n",
            "\u001b[?25hRequirement already satisfied: shapely>=1.6 in /usr/local/lib/python3.7/dist-packages (from geopandas) (1.8.2)\n",
            "Collecting fiona>=1.8\n",
            "  Downloading Fiona-1.8.21-cp37-cp37m-manylinux2014_x86_64.whl (16.7 MB)\n",
            "\u001b[K     |████████████████████████████████| 16.7 MB 224 kB/s \n",
            "\u001b[?25hRequirement already satisfied: pandas>=0.25.0 in /usr/local/lib/python3.7/dist-packages (from geopandas) (1.3.5)\n",
            "Collecting pyproj>=2.2.0\n",
            "  Downloading pyproj-3.2.1-cp37-cp37m-manylinux2010_x86_64.whl (6.3 MB)\n",
            "\u001b[K     |████████████████████████████████| 6.3 MB 24.2 MB/s \n",
            "\u001b[?25hRequirement already satisfied: click>=4.0 in /usr/local/lib/python3.7/dist-packages (from fiona>=1.8->geopandas) (7.1.2)\n",
            "Requirement already satisfied: setuptools in /usr/local/lib/python3.7/dist-packages (from fiona>=1.8->geopandas) (57.4.0)\n",
            "Requirement already satisfied: six>=1.7 in /usr/local/lib/python3.7/dist-packages (from fiona>=1.8->geopandas) (1.15.0)\n",
            "Collecting cligj>=0.5\n",
            "  Downloading cligj-0.7.2-py3-none-any.whl (7.1 kB)\n",
            "Requirement already satisfied: certifi in /usr/local/lib/python3.7/dist-packages (from fiona>=1.8->geopandas) (2022.5.18.1)\n",
            "Collecting click-plugins>=1.0\n",
            "  Downloading click_plugins-1.1.1-py2.py3-none-any.whl (7.5 kB)\n",
            "Collecting munch\n",
            "  Downloading munch-2.5.0-py2.py3-none-any.whl (10 kB)\n",
            "Requirement already satisfied: attrs>=17 in /usr/local/lib/python3.7/dist-packages (from fiona>=1.8->geopandas) (21.4.0)\n",
            "Requirement already satisfied: numpy>=1.17.3 in /usr/local/lib/python3.7/dist-packages (from pandas>=0.25.0->geopandas) (1.21.6)\n",
            "Requirement already satisfied: python-dateutil>=2.7.3 in /usr/local/lib/python3.7/dist-packages (from pandas>=0.25.0->geopandas) (2.8.2)\n",
            "Requirement already satisfied: pytz>=2017.3 in /usr/local/lib/python3.7/dist-packages (from pandas>=0.25.0->geopandas) (2022.1)\n",
            "Installing collected packages: munch, cligj, click-plugins, pyproj, fiona, geopandas\n",
            "Successfully installed click-plugins-1.1.1 cligj-0.7.2 fiona-1.8.21 geopandas-0.10.2 munch-2.5.0 pyproj-3.2.1\n"
          ]
        }
      ],
      "source": [
        "!pip install geopandas"
      ]
    },
    {
      "cell_type": "code",
      "execution_count": null,
      "metadata": {
        "colab": {
          "base_uri": "https://localhost:8080/"
        },
        "id": "Ya7FFuqz8ASz",
        "outputId": "b68a2da8-502d-453c-df2b-c3fbc0b7625f"
      },
      "outputs": [
        {
          "name": "stdout",
          "output_type": "stream",
          "text": [
            "Looking in indexes: https://pypi.org/simple, https://us-python.pkg.dev/colab-wheels/public/simple/\n",
            "Collecting kneed\n",
            "  Downloading kneed-0.7.0-py2.py3-none-any.whl (9.4 kB)\n",
            "Requirement already satisfied: numpy>=1.14.2 in /usr/local/lib/python3.7/dist-packages (from kneed) (1.21.6)\n",
            "Requirement already satisfied: scipy in /usr/local/lib/python3.7/dist-packages (from kneed) (1.4.1)\n",
            "Requirement already satisfied: matplotlib in /usr/local/lib/python3.7/dist-packages (from kneed) (3.2.2)\n",
            "Requirement already satisfied: cycler>=0.10 in /usr/local/lib/python3.7/dist-packages (from matplotlib->kneed) (0.11.0)\n",
            "Requirement already satisfied: kiwisolver>=1.0.1 in /usr/local/lib/python3.7/dist-packages (from matplotlib->kneed) (1.4.2)\n",
            "Requirement already satisfied: python-dateutil>=2.1 in /usr/local/lib/python3.7/dist-packages (from matplotlib->kneed) (2.8.2)\n",
            "Requirement already satisfied: pyparsing!=2.0.4,!=2.1.2,!=2.1.6,>=2.0.1 in /usr/local/lib/python3.7/dist-packages (from matplotlib->kneed) (3.0.9)\n",
            "Requirement already satisfied: typing-extensions in /usr/local/lib/python3.7/dist-packages (from kiwisolver>=1.0.1->matplotlib->kneed) (4.2.0)\n",
            "Requirement already satisfied: six>=1.5 in /usr/local/lib/python3.7/dist-packages (from python-dateutil>=2.1->matplotlib->kneed) (1.15.0)\n",
            "Installing collected packages: kneed\n",
            "Successfully installed kneed-0.7.0\n"
          ]
        }
      ],
      "source": [
        "!pip install kneed"
      ]
    },
    {
      "cell_type": "code",
      "execution_count": null,
      "metadata": {
        "id": "eWyV0SYdb5xp"
      },
      "outputs": [],
      "source": [
        "import pandas as pd\n",
        "import numpy as np\n",
        "import geopandas as gpd\n",
        "import folium\n",
        "from sklearn.cluster import SpectralClustering\n",
        "import plotly.express as px\n",
        "from sklearn.decomposition import PCA\n",
        "from sklearn.preprocessing import StandardScaler\n",
        "from sklearn.cluster import KMeans\n",
        "from sklearn.cluster import AffinityPropagation, DBSCAN\n",
        "import matplotlib.pyplot as plt\n",
        "from kneed import KneeLocator\n",
        "from sklearn.neighbors import NearestNeighbors\n",
        "from sklearn import metrics\n",
        "from sklearn.metrics import pairwise_distances\n",
        "import numpy as np"
      ]
    },
    {
      "cell_type": "code",
      "execution_count": null,
      "metadata": {
        "colab": {
          "base_uri": "https://localhost:8080/"
        },
        "id": "l9bGwVsgrJ28",
        "outputId": "3e0dfe4d-6e4e-4bc4-8d7b-47101ea4a4e5"
      },
      "outputs": [
        {
          "name": "stdout",
          "output_type": "stream",
          "text": [
            "Mounted at /content/drive\n"
          ]
        }
      ],
      "source": [
        "from google.colab import drive\n",
        "drive.mount('/content/drive')"
      ]
    },
    {
      "cell_type": "markdown",
      "metadata": {
        "id": "HI-TYDsvGAYB"
      },
      "source": [
        "# 02. Lectura de Datos"
      ]
    },
    {
      "cell_type": "markdown",
      "metadata": {
        "id": "NrBwprQCpRD4"
      },
      "source": [
        "Dataset de factores que influyen en la esperanza de vida en distintos países."
      ]
    },
    {
      "cell_type": "code",
      "execution_count": null,
      "metadata": {
        "colab": {
          "base_uri": "https://localhost:8080/",
          "height": 502
        },
        "id": "YL_3nZoUcE_t",
        "outputId": "934dd0f3-bd60-4d13-c0d7-9b538d94cfe7"
      },
      "outputs": [
        {
          "data": {
            "text/html": [
              "\n",
              "  <div id=\"df-8d1346f8-7992-4c60-babf-11e71b7aa7f2\">\n",
              "    <div class=\"colab-df-container\">\n",
              "      <div>\n",
              "<style scoped>\n",
              "    .dataframe tbody tr th:only-of-type {\n",
              "        vertical-align: middle;\n",
              "    }\n",
              "\n",
              "    .dataframe tbody tr th {\n",
              "        vertical-align: top;\n",
              "    }\n",
              "\n",
              "    .dataframe thead th {\n",
              "        text-align: right;\n",
              "    }\n",
              "</style>\n",
              "<table border=\"1\" class=\"dataframe\">\n",
              "  <thead>\n",
              "    <tr style=\"text-align: right;\">\n",
              "      <th></th>\n",
              "      <th>Unnamed: 0</th>\n",
              "      <th>Country</th>\n",
              "      <th>Status</th>\n",
              "      <th>Life expectancy</th>\n",
              "      <th>Adult Mortality</th>\n",
              "      <th>infant deaths</th>\n",
              "      <th>percentage expenditure</th>\n",
              "      <th>Hepatitis B</th>\n",
              "      <th>Measles</th>\n",
              "      <th>BMI</th>\n",
              "      <th>under-five deaths</th>\n",
              "      <th>Polio</th>\n",
              "      <th>Diphtheria</th>\n",
              "      <th>HIV/AIDS</th>\n",
              "      <th>GDP</th>\n",
              "      <th>Population</th>\n",
              "    </tr>\n",
              "  </thead>\n",
              "  <tbody>\n",
              "    <tr>\n",
              "      <th>0</th>\n",
              "      <td>0</td>\n",
              "      <td>Afghanistan</td>\n",
              "      <td>0</td>\n",
              "      <td>58.19375</td>\n",
              "      <td>269.0625</td>\n",
              "      <td>78.2500</td>\n",
              "      <td>34.960110</td>\n",
              "      <td>64.562500</td>\n",
              "      <td>2362.2500</td>\n",
              "      <td>15.51875</td>\n",
              "      <td>107.5625</td>\n",
              "      <td>48.3750</td>\n",
              "      <td>52.3125</td>\n",
              "      <td>0.10000</td>\n",
              "      <td>340.015425</td>\n",
              "      <td>9.972260e+06</td>\n",
              "    </tr>\n",
              "    <tr>\n",
              "      <th>1</th>\n",
              "      <td>1</td>\n",
              "      <td>Albania</td>\n",
              "      <td>0</td>\n",
              "      <td>75.15625</td>\n",
              "      <td>45.0625</td>\n",
              "      <td>0.6875</td>\n",
              "      <td>193.259091</td>\n",
              "      <td>98.000000</td>\n",
              "      <td>53.3750</td>\n",
              "      <td>49.06875</td>\n",
              "      <td>0.9375</td>\n",
              "      <td>98.1250</td>\n",
              "      <td>98.0625</td>\n",
              "      <td>0.10000</td>\n",
              "      <td>2119.726679</td>\n",
              "      <td>6.969116e+05</td>\n",
              "    </tr>\n",
              "    <tr>\n",
              "      <th>2</th>\n",
              "      <td>2</td>\n",
              "      <td>Algeria</td>\n",
              "      <td>0</td>\n",
              "      <td>73.61875</td>\n",
              "      <td>108.1875</td>\n",
              "      <td>20.3125</td>\n",
              "      <td>236.185241</td>\n",
              "      <td>78.000000</td>\n",
              "      <td>1943.8750</td>\n",
              "      <td>48.74375</td>\n",
              "      <td>23.5000</td>\n",
              "      <td>91.7500</td>\n",
              "      <td>91.8750</td>\n",
              "      <td>0.10000</td>\n",
              "      <td>2847.853392</td>\n",
              "      <td>2.164983e+07</td>\n",
              "    </tr>\n",
              "    <tr>\n",
              "      <th>3</th>\n",
              "      <td>3</td>\n",
              "      <td>Angola</td>\n",
              "      <td>0</td>\n",
              "      <td>49.01875</td>\n",
              "      <td>328.5625</td>\n",
              "      <td>83.7500</td>\n",
              "      <td>102.100268</td>\n",
              "      <td>70.222222</td>\n",
              "      <td>3561.3125</td>\n",
              "      <td>18.01875</td>\n",
              "      <td>132.6250</td>\n",
              "      <td>46.1250</td>\n",
              "      <td>47.6875</td>\n",
              "      <td>2.36875</td>\n",
              "      <td>1975.143045</td>\n",
              "      <td>1.014710e+07</td>\n",
              "    </tr>\n",
              "    <tr>\n",
              "      <th>4</th>\n",
              "      <td>4</td>\n",
              "      <td>Antigua and Barbuda</td>\n",
              "      <td>0</td>\n",
              "      <td>75.05625</td>\n",
              "      <td>127.5000</td>\n",
              "      <td>0.0000</td>\n",
              "      <td>1001.585226</td>\n",
              "      <td>98.266667</td>\n",
              "      <td>0.0000</td>\n",
              "      <td>38.42500</td>\n",
              "      <td>0.0000</td>\n",
              "      <td>96.9375</td>\n",
              "      <td>98.3125</td>\n",
              "      <td>0.12500</td>\n",
              "      <td>9759.305728</td>\n",
              "      <td>8.486200e+04</td>\n",
              "    </tr>\n",
              "    <tr>\n",
              "      <th>...</th>\n",
              "      <td>...</td>\n",
              "      <td>...</td>\n",
              "      <td>...</td>\n",
              "      <td>...</td>\n",
              "      <td>...</td>\n",
              "      <td>...</td>\n",
              "      <td>...</td>\n",
              "      <td>...</td>\n",
              "      <td>...</td>\n",
              "      <td>...</td>\n",
              "      <td>...</td>\n",
              "      <td>...</td>\n",
              "      <td>...</td>\n",
              "      <td>...</td>\n",
              "      <td>...</td>\n",
              "      <td>...</td>\n",
              "    </tr>\n",
              "    <tr>\n",
              "      <th>175</th>\n",
              "      <td>175</td>\n",
              "      <td>Vanuatu</td>\n",
              "      <td>0</td>\n",
              "      <td>71.38750</td>\n",
              "      <td>137.8750</td>\n",
              "      <td>0.0000</td>\n",
              "      <td>282.325746</td>\n",
              "      <td>56.125000</td>\n",
              "      <td>20.8750</td>\n",
              "      <td>44.25625</td>\n",
              "      <td>0.0000</td>\n",
              "      <td>66.1875</td>\n",
              "      <td>59.0625</td>\n",
              "      <td>0.10000</td>\n",
              "      <td>2000.245518</td>\n",
              "      <td>1.230962e+05</td>\n",
              "    </tr>\n",
              "    <tr>\n",
              "      <th>176</th>\n",
              "      <td>176</td>\n",
              "      <td>Viet Nam</td>\n",
              "      <td>0</td>\n",
              "      <td>74.77500</td>\n",
              "      <td>126.5625</td>\n",
              "      <td>29.1875</td>\n",
              "      <td>0.000000</td>\n",
              "      <td>87.538462</td>\n",
              "      <td>4232.9375</td>\n",
              "      <td>11.18750</td>\n",
              "      <td>36.5000</td>\n",
              "      <td>94.9375</td>\n",
              "      <td>91.7500</td>\n",
              "      <td>0.14375</td>\n",
              "      <td>1474.187500</td>\n",
              "      <td>8.603386e+07</td>\n",
              "    </tr>\n",
              "    <tr>\n",
              "      <th>177</th>\n",
              "      <td>177</td>\n",
              "      <td>Yemen</td>\n",
              "      <td>0</td>\n",
              "      <td>63.86250</td>\n",
              "      <td>211.8125</td>\n",
              "      <td>39.3750</td>\n",
              "      <td>0.000000</td>\n",
              "      <td>55.687500</td>\n",
              "      <td>2761.1875</td>\n",
              "      <td>33.48750</td>\n",
              "      <td>51.6250</td>\n",
              "      <td>67.1250</td>\n",
              "      <td>72.6250</td>\n",
              "      <td>0.10000</td>\n",
              "      <td>2406.881250</td>\n",
              "      <td>2.406881e+03</td>\n",
              "    </tr>\n",
              "    <tr>\n",
              "      <th>178</th>\n",
              "      <td>178</td>\n",
              "      <td>Zambia</td>\n",
              "      <td>0</td>\n",
              "      <td>53.90625</td>\n",
              "      <td>354.3125</td>\n",
              "      <td>33.4375</td>\n",
              "      <td>89.650407</td>\n",
              "      <td>69.818182</td>\n",
              "      <td>6563.8125</td>\n",
              "      <td>17.45000</td>\n",
              "      <td>52.3750</td>\n",
              "      <td>64.3750</td>\n",
              "      <td>74.2500</td>\n",
              "      <td>11.93125</td>\n",
              "      <td>811.811841</td>\n",
              "      <td>6.260246e+06</td>\n",
              "    </tr>\n",
              "    <tr>\n",
              "      <th>179</th>\n",
              "      <td>179</td>\n",
              "      <td>Zimbabwe</td>\n",
              "      <td>0</td>\n",
              "      <td>50.48750</td>\n",
              "      <td>462.3750</td>\n",
              "      <td>26.5625</td>\n",
              "      <td>20.364271</td>\n",
              "      <td>70.562500</td>\n",
              "      <td>923.0000</td>\n",
              "      <td>25.13750</td>\n",
              "      <td>40.8125</td>\n",
              "      <td>75.6250</td>\n",
              "      <td>75.1875</td>\n",
              "      <td>23.26250</td>\n",
              "      <td>410.980194</td>\n",
              "      <td>8.021343e+06</td>\n",
              "    </tr>\n",
              "  </tbody>\n",
              "</table>\n",
              "<p>180 rows × 16 columns</p>\n",
              "</div>\n",
              "      <button class=\"colab-df-convert\" onclick=\"convertToInteractive('df-8d1346f8-7992-4c60-babf-11e71b7aa7f2')\"\n",
              "              title=\"Convert this dataframe to an interactive table.\"\n",
              "              style=\"display:none;\">\n",
              "        \n",
              "  <svg xmlns=\"http://www.w3.org/2000/svg\" height=\"24px\"viewBox=\"0 0 24 24\"\n",
              "       width=\"24px\">\n",
              "    <path d=\"M0 0h24v24H0V0z\" fill=\"none\"/>\n",
              "    <path d=\"M18.56 5.44l.94 2.06.94-2.06 2.06-.94-2.06-.94-.94-2.06-.94 2.06-2.06.94zm-11 1L8.5 8.5l.94-2.06 2.06-.94-2.06-.94L8.5 2.5l-.94 2.06-2.06.94zm10 10l.94 2.06.94-2.06 2.06-.94-2.06-.94-.94-2.06-.94 2.06-2.06.94z\"/><path d=\"M17.41 7.96l-1.37-1.37c-.4-.4-.92-.59-1.43-.59-.52 0-1.04.2-1.43.59L10.3 9.45l-7.72 7.72c-.78.78-.78 2.05 0 2.83L4 21.41c.39.39.9.59 1.41.59.51 0 1.02-.2 1.41-.59l7.78-7.78 2.81-2.81c.8-.78.8-2.07 0-2.86zM5.41 20L4 18.59l7.72-7.72 1.47 1.35L5.41 20z\"/>\n",
              "  </svg>\n",
              "      </button>\n",
              "      \n",
              "  <style>\n",
              "    .colab-df-container {\n",
              "      display:flex;\n",
              "      flex-wrap:wrap;\n",
              "      gap: 12px;\n",
              "    }\n",
              "\n",
              "    .colab-df-convert {\n",
              "      background-color: #E8F0FE;\n",
              "      border: none;\n",
              "      border-radius: 50%;\n",
              "      cursor: pointer;\n",
              "      display: none;\n",
              "      fill: #1967D2;\n",
              "      height: 32px;\n",
              "      padding: 0 0 0 0;\n",
              "      width: 32px;\n",
              "    }\n",
              "\n",
              "    .colab-df-convert:hover {\n",
              "      background-color: #E2EBFA;\n",
              "      box-shadow: 0px 1px 2px rgba(60, 64, 67, 0.3), 0px 1px 3px 1px rgba(60, 64, 67, 0.15);\n",
              "      fill: #174EA6;\n",
              "    }\n",
              "\n",
              "    [theme=dark] .colab-df-convert {\n",
              "      background-color: #3B4455;\n",
              "      fill: #D2E3FC;\n",
              "    }\n",
              "\n",
              "    [theme=dark] .colab-df-convert:hover {\n",
              "      background-color: #434B5C;\n",
              "      box-shadow: 0px 1px 3px 1px rgba(0, 0, 0, 0.15);\n",
              "      filter: drop-shadow(0px 1px 2px rgba(0, 0, 0, 0.3));\n",
              "      fill: #FFFFFF;\n",
              "    }\n",
              "  </style>\n",
              "\n",
              "      <script>\n",
              "        const buttonEl =\n",
              "          document.querySelector('#df-8d1346f8-7992-4c60-babf-11e71b7aa7f2 button.colab-df-convert');\n",
              "        buttonEl.style.display =\n",
              "          google.colab.kernel.accessAllowed ? 'block' : 'none';\n",
              "\n",
              "        async function convertToInteractive(key) {\n",
              "          const element = document.querySelector('#df-8d1346f8-7992-4c60-babf-11e71b7aa7f2');\n",
              "          const dataTable =\n",
              "            await google.colab.kernel.invokeFunction('convertToInteractive',\n",
              "                                                     [key], {});\n",
              "          if (!dataTable) return;\n",
              "\n",
              "          const docLinkHtml = 'Like what you see? Visit the ' +\n",
              "            '<a target=\"_blank\" href=https://colab.research.google.com/notebooks/data_table.ipynb>data table notebook</a>'\n",
              "            + ' to learn more about interactive tables.';\n",
              "          element.innerHTML = '';\n",
              "          dataTable['output_type'] = 'display_data';\n",
              "          await google.colab.output.renderOutput(dataTable, element);\n",
              "          const docLink = document.createElement('div');\n",
              "          docLink.innerHTML = docLinkHtml;\n",
              "          element.appendChild(docLink);\n",
              "        }\n",
              "      </script>\n",
              "    </div>\n",
              "  </div>\n",
              "  "
            ],
            "text/plain": [
              "     Unnamed: 0              Country  Status  Life expectancy   \\\n",
              "0             0          Afghanistan       0          58.19375   \n",
              "1             1              Albania       0          75.15625   \n",
              "2             2              Algeria       0          73.61875   \n",
              "3             3               Angola       0          49.01875   \n",
              "4             4  Antigua and Barbuda       0          75.05625   \n",
              "..          ...                  ...     ...               ...   \n",
              "175         175              Vanuatu       0          71.38750   \n",
              "176         176             Viet Nam       0          74.77500   \n",
              "177         177                Yemen       0          63.86250   \n",
              "178         178               Zambia       0          53.90625   \n",
              "179         179             Zimbabwe       0          50.48750   \n",
              "\n",
              "     Adult Mortality  infant deaths  percentage expenditure  Hepatitis B  \\\n",
              "0           269.0625        78.2500               34.960110    64.562500   \n",
              "1            45.0625         0.6875              193.259091    98.000000   \n",
              "2           108.1875        20.3125              236.185241    78.000000   \n",
              "3           328.5625        83.7500              102.100268    70.222222   \n",
              "4           127.5000         0.0000             1001.585226    98.266667   \n",
              "..               ...            ...                     ...          ...   \n",
              "175         137.8750         0.0000              282.325746    56.125000   \n",
              "176         126.5625        29.1875                0.000000    87.538462   \n",
              "177         211.8125        39.3750                0.000000    55.687500   \n",
              "178         354.3125        33.4375               89.650407    69.818182   \n",
              "179         462.3750        26.5625               20.364271    70.562500   \n",
              "\n",
              "      Measles       BMI   under-five deaths     Polio  Diphtheria    HIV/AIDS  \\\n",
              "0    2362.2500  15.51875            107.5625  48.3750      52.3125    0.10000   \n",
              "1      53.3750  49.06875              0.9375  98.1250      98.0625    0.10000   \n",
              "2    1943.8750  48.74375             23.5000  91.7500      91.8750    0.10000   \n",
              "3    3561.3125  18.01875            132.6250  46.1250      47.6875    2.36875   \n",
              "4       0.0000  38.42500              0.0000  96.9375      98.3125    0.12500   \n",
              "..         ...       ...                 ...      ...          ...        ...   \n",
              "175    20.8750  44.25625              0.0000  66.1875      59.0625    0.10000   \n",
              "176  4232.9375  11.18750             36.5000  94.9375      91.7500    0.14375   \n",
              "177  2761.1875  33.48750             51.6250  67.1250      72.6250    0.10000   \n",
              "178  6563.8125  17.45000             52.3750  64.3750      74.2500   11.93125   \n",
              "179   923.0000  25.13750             40.8125  75.6250      75.1875   23.26250   \n",
              "\n",
              "             GDP    Population  \n",
              "0     340.015425  9.972260e+06  \n",
              "1    2119.726679  6.969116e+05  \n",
              "2    2847.853392  2.164983e+07  \n",
              "3    1975.143045  1.014710e+07  \n",
              "4    9759.305728  8.486200e+04  \n",
              "..           ...           ...  \n",
              "175  2000.245518  1.230962e+05  \n",
              "176  1474.187500  8.603386e+07  \n",
              "177  2406.881250  2.406881e+03  \n",
              "178   811.811841  6.260246e+06  \n",
              "179   410.980194  8.021343e+06  \n",
              "\n",
              "[180 rows x 16 columns]"
            ]
          },
          "execution_count": 5,
          "metadata": {},
          "output_type": "execute_result"
        }
      ],
      "source": [
        "df_life= pd.read_csv(\"/content/drive/Shareddrives/Chin/Modelación del aprendizaje con inteligencia artificial/life.csv\")\n",
        "df_life"
      ]
    },
    {
      "cell_type": "code",
      "execution_count": null,
      "metadata": {
        "colab": {
          "base_uri": "https://localhost:8080/"
        },
        "id": "J8t6E0WwcacW",
        "outputId": "a4a63d02-0b15-4897-bead-5ee439c97c2b"
      },
      "outputs": [
        {
          "data": {
            "text/plain": [
              "Unnamed: 0                  int64\n",
              "Country                    object\n",
              "Status                      int64\n",
              "Life expectancy           float64\n",
              "Adult Mortality           float64\n",
              "infant deaths             float64\n",
              "percentage expenditure    float64\n",
              "Hepatitis B               float64\n",
              "Measles                   float64\n",
              " BMI                      float64\n",
              "under-five deaths         float64\n",
              "Polio                     float64\n",
              "Diphtheria                float64\n",
              " HIV/AIDS                 float64\n",
              "GDP                       float64\n",
              "Population                float64\n",
              "dtype: object"
            ]
          },
          "execution_count": 6,
          "metadata": {},
          "output_type": "execute_result"
        }
      ],
      "source": [
        "df_life.dtypes"
      ]
    },
    {
      "cell_type": "code",
      "execution_count": null,
      "metadata": {
        "colab": {
          "base_uri": "https://localhost:8080/"
        },
        "id": "Z3xp4-ptccQd",
        "outputId": "7cd81610-51e0-4b29-a30c-616099c2fbe0"
      },
      "outputs": [
        {
          "data": {
            "text/plain": [
              "Unnamed: 0                0\n",
              "Country                   0\n",
              "Status                    0\n",
              "Life expectancy           0\n",
              "Adult Mortality           0\n",
              "infant deaths             0\n",
              "percentage expenditure    0\n",
              "Hepatitis B               0\n",
              "Measles                   0\n",
              " BMI                      0\n",
              "under-five deaths         0\n",
              "Polio                     0\n",
              "Diphtheria                0\n",
              " HIV/AIDS                 0\n",
              "GDP                       0\n",
              "Population                0\n",
              "dtype: int64"
            ]
          },
          "execution_count": 7,
          "metadata": {},
          "output_type": "execute_result"
        }
      ],
      "source": [
        "df_life.isna().sum()"
      ]
    },
    {
      "cell_type": "code",
      "execution_count": null,
      "metadata": {
        "colab": {
          "base_uri": "https://localhost:8080/",
          "height": 424
        },
        "id": "CYFJAPxRpdCw",
        "outputId": "f0ac926b-3c96-4f0c-a3d3-7b6562db9d8e"
      },
      "outputs": [
        {
          "data": {
            "text/html": [
              "\n",
              "  <div id=\"df-70489e6b-047f-4f44-a4eb-7a7072f94207\">\n",
              "    <div class=\"colab-df-container\">\n",
              "      <div>\n",
              "<style scoped>\n",
              "    .dataframe tbody tr th:only-of-type {\n",
              "        vertical-align: middle;\n",
              "    }\n",
              "\n",
              "    .dataframe tbody tr th {\n",
              "        vertical-align: top;\n",
              "    }\n",
              "\n",
              "    .dataframe thead th {\n",
              "        text-align: right;\n",
              "    }\n",
              "</style>\n",
              "<table border=\"1\" class=\"dataframe\">\n",
              "  <thead>\n",
              "    <tr style=\"text-align: right;\">\n",
              "      <th></th>\n",
              "      <th>FID</th>\n",
              "      <th>COUNTRY</th>\n",
              "      <th>ISO</th>\n",
              "      <th>COUNTRYAFF</th>\n",
              "      <th>AFF_ISO</th>\n",
              "      <th>SHAPE_Leng</th>\n",
              "      <th>SHAPE_Area</th>\n",
              "      <th>geometry</th>\n",
              "    </tr>\n",
              "  </thead>\n",
              "  <tbody>\n",
              "    <tr>\n",
              "      <th>0</th>\n",
              "      <td>1</td>\n",
              "      <td>American Samoa</td>\n",
              "      <td>AS</td>\n",
              "      <td>United States</td>\n",
              "      <td>US</td>\n",
              "      <td>0.600124</td>\n",
              "      <td>0.013720</td>\n",
              "      <td>POLYGON ((-170.74390 -14.37555, -170.74942 -14...</td>\n",
              "    </tr>\n",
              "    <tr>\n",
              "      <th>1</th>\n",
              "      <td>2</td>\n",
              "      <td>United States Minor Outlying Islands</td>\n",
              "      <td>UM</td>\n",
              "      <td>United States</td>\n",
              "      <td>US</td>\n",
              "      <td>0.480216</td>\n",
              "      <td>0.003216</td>\n",
              "      <td>MULTIPOLYGON (((-160.02114 -0.39805, -160.0281...</td>\n",
              "    </tr>\n",
              "    <tr>\n",
              "      <th>2</th>\n",
              "      <td>3</td>\n",
              "      <td>Cook Islands</td>\n",
              "      <td>CK</td>\n",
              "      <td>New Zealand</td>\n",
              "      <td>NZ</td>\n",
              "      <td>0.980664</td>\n",
              "      <td>0.013073</td>\n",
              "      <td>MULTIPOLYGON (((-159.74698 -21.25667, -159.793...</td>\n",
              "    </tr>\n",
              "    <tr>\n",
              "      <th>3</th>\n",
              "      <td>4</td>\n",
              "      <td>French Polynesia</td>\n",
              "      <td>PF</td>\n",
              "      <td>France</td>\n",
              "      <td>FR</td>\n",
              "      <td>3.930211</td>\n",
              "      <td>0.175332</td>\n",
              "      <td>MULTIPOLYGON (((-149.17920 -17.87084, -149.258...</td>\n",
              "    </tr>\n",
              "    <tr>\n",
              "      <th>4</th>\n",
              "      <td>5</td>\n",
              "      <td>Niue</td>\n",
              "      <td>NU</td>\n",
              "      <td>New Zealand</td>\n",
              "      <td>NZ</td>\n",
              "      <td>0.541413</td>\n",
              "      <td>0.021414</td>\n",
              "      <td>POLYGON ((-169.89389 -19.14556, -169.93088 -19...</td>\n",
              "    </tr>\n",
              "    <tr>\n",
              "      <th>...</th>\n",
              "      <td>...</td>\n",
              "      <td>...</td>\n",
              "      <td>...</td>\n",
              "      <td>...</td>\n",
              "      <td>...</td>\n",
              "      <td>...</td>\n",
              "      <td>...</td>\n",
              "      <td>...</td>\n",
              "    </tr>\n",
              "    <tr>\n",
              "      <th>244</th>\n",
              "      <td>245</td>\n",
              "      <td>Northern Mariana Islands</td>\n",
              "      <td>MP</td>\n",
              "      <td>United States</td>\n",
              "      <td>US</td>\n",
              "      <td>0.908853</td>\n",
              "      <td>0.019927</td>\n",
              "      <td>MULTIPOLYGON (((145.73468 15.08722, 145.72830 ...</td>\n",
              "    </tr>\n",
              "    <tr>\n",
              "      <th>245</th>\n",
              "      <td>246</td>\n",
              "      <td>Palau</td>\n",
              "      <td>PW</td>\n",
              "      <td>Palau</td>\n",
              "      <td>PW</td>\n",
              "      <td>1.105323</td>\n",
              "      <td>0.031136</td>\n",
              "      <td>MULTIPOLYGON (((134.53137 7.35444, 134.52234 7...</td>\n",
              "    </tr>\n",
              "    <tr>\n",
              "      <th>246</th>\n",
              "      <td>247</td>\n",
              "      <td>Russian Federation</td>\n",
              "      <td>RU</td>\n",
              "      <td>Russian Federation</td>\n",
              "      <td>RU</td>\n",
              "      <td>1536.287150</td>\n",
              "      <td>2931.526082</td>\n",
              "      <td>MULTIPOLYGON (((-179.99999 68.98010, -179.9580...</td>\n",
              "    </tr>\n",
              "    <tr>\n",
              "      <th>247</th>\n",
              "      <td>248</td>\n",
              "      <td>Spain</td>\n",
              "      <td>ES</td>\n",
              "      <td>Spain</td>\n",
              "      <td>ES</td>\n",
              "      <td>51.724956</td>\n",
              "      <td>52.915449</td>\n",
              "      <td>MULTIPOLYGON (((-2.91472 35.27361, -2.93924 35...</td>\n",
              "    </tr>\n",
              "    <tr>\n",
              "      <th>248</th>\n",
              "      <td>249</td>\n",
              "      <td>Canarias</td>\n",
              "      <td>ES</td>\n",
              "      <td>Spain</td>\n",
              "      <td>ES</td>\n",
              "      <td>9.491474</td>\n",
              "      <td>0.695336</td>\n",
              "      <td>MULTIPOLYGON (((-17.91125 27.77374, -17.96389 ...</td>\n",
              "    </tr>\n",
              "  </tbody>\n",
              "</table>\n",
              "<p>249 rows × 8 columns</p>\n",
              "</div>\n",
              "      <button class=\"colab-df-convert\" onclick=\"convertToInteractive('df-70489e6b-047f-4f44-a4eb-7a7072f94207')\"\n",
              "              title=\"Convert this dataframe to an interactive table.\"\n",
              "              style=\"display:none;\">\n",
              "        \n",
              "  <svg xmlns=\"http://www.w3.org/2000/svg\" height=\"24px\"viewBox=\"0 0 24 24\"\n",
              "       width=\"24px\">\n",
              "    <path d=\"M0 0h24v24H0V0z\" fill=\"none\"/>\n",
              "    <path d=\"M18.56 5.44l.94 2.06.94-2.06 2.06-.94-2.06-.94-.94-2.06-.94 2.06-2.06.94zm-11 1L8.5 8.5l.94-2.06 2.06-.94-2.06-.94L8.5 2.5l-.94 2.06-2.06.94zm10 10l.94 2.06.94-2.06 2.06-.94-2.06-.94-.94-2.06-.94 2.06-2.06.94z\"/><path d=\"M17.41 7.96l-1.37-1.37c-.4-.4-.92-.59-1.43-.59-.52 0-1.04.2-1.43.59L10.3 9.45l-7.72 7.72c-.78.78-.78 2.05 0 2.83L4 21.41c.39.39.9.59 1.41.59.51 0 1.02-.2 1.41-.59l7.78-7.78 2.81-2.81c.8-.78.8-2.07 0-2.86zM5.41 20L4 18.59l7.72-7.72 1.47 1.35L5.41 20z\"/>\n",
              "  </svg>\n",
              "      </button>\n",
              "      \n",
              "  <style>\n",
              "    .colab-df-container {\n",
              "      display:flex;\n",
              "      flex-wrap:wrap;\n",
              "      gap: 12px;\n",
              "    }\n",
              "\n",
              "    .colab-df-convert {\n",
              "      background-color: #E8F0FE;\n",
              "      border: none;\n",
              "      border-radius: 50%;\n",
              "      cursor: pointer;\n",
              "      display: none;\n",
              "      fill: #1967D2;\n",
              "      height: 32px;\n",
              "      padding: 0 0 0 0;\n",
              "      width: 32px;\n",
              "    }\n",
              "\n",
              "    .colab-df-convert:hover {\n",
              "      background-color: #E2EBFA;\n",
              "      box-shadow: 0px 1px 2px rgba(60, 64, 67, 0.3), 0px 1px 3px 1px rgba(60, 64, 67, 0.15);\n",
              "      fill: #174EA6;\n",
              "    }\n",
              "\n",
              "    [theme=dark] .colab-df-convert {\n",
              "      background-color: #3B4455;\n",
              "      fill: #D2E3FC;\n",
              "    }\n",
              "\n",
              "    [theme=dark] .colab-df-convert:hover {\n",
              "      background-color: #434B5C;\n",
              "      box-shadow: 0px 1px 3px 1px rgba(0, 0, 0, 0.15);\n",
              "      filter: drop-shadow(0px 1px 2px rgba(0, 0, 0, 0.3));\n",
              "      fill: #FFFFFF;\n",
              "    }\n",
              "  </style>\n",
              "\n",
              "      <script>\n",
              "        const buttonEl =\n",
              "          document.querySelector('#df-70489e6b-047f-4f44-a4eb-7a7072f94207 button.colab-df-convert');\n",
              "        buttonEl.style.display =\n",
              "          google.colab.kernel.accessAllowed ? 'block' : 'none';\n",
              "\n",
              "        async function convertToInteractive(key) {\n",
              "          const element = document.querySelector('#df-70489e6b-047f-4f44-a4eb-7a7072f94207');\n",
              "          const dataTable =\n",
              "            await google.colab.kernel.invokeFunction('convertToInteractive',\n",
              "                                                     [key], {});\n",
              "          if (!dataTable) return;\n",
              "\n",
              "          const docLinkHtml = 'Like what you see? Visit the ' +\n",
              "            '<a target=\"_blank\" href=https://colab.research.google.com/notebooks/data_table.ipynb>data table notebook</a>'\n",
              "            + ' to learn more about interactive tables.';\n",
              "          element.innerHTML = '';\n",
              "          dataTable['output_type'] = 'display_data';\n",
              "          await google.colab.output.renderOutput(dataTable, element);\n",
              "          const docLink = document.createElement('div');\n",
              "          docLink.innerHTML = docLinkHtml;\n",
              "          element.appendChild(docLink);\n",
              "        }\n",
              "      </script>\n",
              "    </div>\n",
              "  </div>\n",
              "  "
            ],
            "text/plain": [
              "     FID                               COUNTRY ISO          COUNTRYAFF  \\\n",
              "0      1                        American Samoa  AS       United States   \n",
              "1      2  United States Minor Outlying Islands  UM       United States   \n",
              "2      3                          Cook Islands  CK         New Zealand   \n",
              "3      4                      French Polynesia  PF              France   \n",
              "4      5                                  Niue  NU         New Zealand   \n",
              "..   ...                                   ...  ..                 ...   \n",
              "244  245              Northern Mariana Islands  MP       United States   \n",
              "245  246                                 Palau  PW               Palau   \n",
              "246  247                    Russian Federation  RU  Russian Federation   \n",
              "247  248                                 Spain  ES               Spain   \n",
              "248  249                              Canarias  ES               Spain   \n",
              "\n",
              "    AFF_ISO   SHAPE_Leng   SHAPE_Area  \\\n",
              "0        US     0.600124     0.013720   \n",
              "1        US     0.480216     0.003216   \n",
              "2        NZ     0.980664     0.013073   \n",
              "3        FR     3.930211     0.175332   \n",
              "4        NZ     0.541413     0.021414   \n",
              "..      ...          ...          ...   \n",
              "244      US     0.908853     0.019927   \n",
              "245      PW     1.105323     0.031136   \n",
              "246      RU  1536.287150  2931.526082   \n",
              "247      ES    51.724956    52.915449   \n",
              "248      ES     9.491474     0.695336   \n",
              "\n",
              "                                              geometry  \n",
              "0    POLYGON ((-170.74390 -14.37555, -170.74942 -14...  \n",
              "1    MULTIPOLYGON (((-160.02114 -0.39805, -160.0281...  \n",
              "2    MULTIPOLYGON (((-159.74698 -21.25667, -159.793...  \n",
              "3    MULTIPOLYGON (((-149.17920 -17.87084, -149.258...  \n",
              "4    POLYGON ((-169.89389 -19.14556, -169.93088 -19...  \n",
              "..                                                 ...  \n",
              "244  MULTIPOLYGON (((145.73468 15.08722, 145.72830 ...  \n",
              "245  MULTIPOLYGON (((134.53137 7.35444, 134.52234 7...  \n",
              "246  MULTIPOLYGON (((-179.99999 68.98010, -179.9580...  \n",
              "247  MULTIPOLYGON (((-2.91472 35.27361, -2.93924 35...  \n",
              "248  MULTIPOLYGON (((-17.91125 27.77374, -17.96389 ...  \n",
              "\n",
              "[249 rows x 8 columns]"
            ]
          },
          "execution_count": 8,
          "metadata": {},
          "output_type": "execute_result"
        }
      ],
      "source": [
        "gdf_paises= gpd.read_file(\"/content/drive/Shareddrives/Chin/Modelación del aprendizaje con inteligencia artificial/Shapefile Paises/World_Countries__Generalized_.shp\")\n",
        "gdf_paises"
      ]
    },
    {
      "cell_type": "code",
      "execution_count": null,
      "metadata": {
        "colab": {
          "base_uri": "https://localhost:8080/",
          "height": 226
        },
        "id": "ujKhiN_NuMWA",
        "outputId": "c2766023-ce39-4f36-ac64-fb125c672dc6"
      },
      "outputs": [
        {
          "data": {
            "text/plain": [
              "<matplotlib.axes._subplots.AxesSubplot at 0x7f2f1f478490>"
            ]
          },
          "execution_count": 9,
          "metadata": {},
          "output_type": "execute_result"
        },
        {
          "data": {
            "image/png": "[encoded data removed]",
            "text/plain": [
              "<Figure size 432x288 with 1 Axes>"
            ]
          },
          "metadata": {},
          "output_type": "display_data"
        }
      ],
      "source": [
        "gdf_paises.plot()"
      ]
    },
    {
      "cell_type": "code",
      "execution_count": null,
      "metadata": {
        "id": "CU0YaAAiLxcc"
      },
      "outputs": [],
      "source": [
        "gdf_paises['COUNTRY'].replace({\"Bolivia\":\"Bolivia (Plurinational State of)\",\n",
        "                               \"Czech Republic\":\"Czechia\",\n",
        "                               \"Congo DRC\":\"Democratic Republic of the Congo\",\n",
        "                               \"Iran\":\"Iran (Islamic Republic of)\",\n",
        "                               \"Laos\":\"Lao People's Democratic Republic\",\n",
        "                               \"Micronesia\":\"Micronesia (Federated States of)\",\n",
        "                               \"South Korea\":\"Republic of Korea\",\n",
        "                               \"Moldova\":\"Republic of Moldova\",\n",
        "                               \"Eswatini\":\"Swaziland\",\n",
        "                               \"Syria\":\"Syrian Arab Republic\",\n",
        "                               \"United Kingdom\":\"United Kingdom of Great Britain and Northern Ireland\",\n",
        "                               \"Tanzania\":\"United Republic of Tanzania\",\n",
        "                               \"United States\":\"United States of America\",\n",
        "                               \"Vietnam\":\"Viet Nam\"},inplace=True)"
      ]
    },
    {
      "cell_type": "code",
      "execution_count": null,
      "metadata": {
        "colab": {
          "base_uri": "https://localhost:8080/",
          "height": 1000
        },
        "id": "BvxeI40BuXSw",
        "outputId": "8cc28818-dce2-4904-fe20-e5d1c853dcdb"
      },
      "outputs": [
        {
          "data": {
            "text/html": [
              "\n",
              "  <div id=\"df-f82eed3e-dfec-4f1b-9aa6-defd8cb6cc57\">\n",
              "    <div class=\"colab-df-container\">\n",
              "      <div>\n",
              "<style scoped>\n",
              "    .dataframe tbody tr th:only-of-type {\n",
              "        vertical-align: middle;\n",
              "    }\n",
              "\n",
              "    .dataframe tbody tr th {\n",
              "        vertical-align: top;\n",
              "    }\n",
              "\n",
              "    .dataframe thead th {\n",
              "        text-align: right;\n",
              "    }\n",
              "</style>\n",
              "<table border=\"1\" class=\"dataframe\">\n",
              "  <thead>\n",
              "    <tr style=\"text-align: right;\">\n",
              "      <th></th>\n",
              "      <th>Unnamed: 0</th>\n",
              "      <th>Country</th>\n",
              "      <th>Status</th>\n",
              "      <th>Life expectancy</th>\n",
              "      <th>Adult Mortality</th>\n",
              "      <th>infant deaths</th>\n",
              "      <th>percentage expenditure</th>\n",
              "      <th>Hepatitis B</th>\n",
              "      <th>Measles</th>\n",
              "      <th>BMI</th>\n",
              "      <th>...</th>\n",
              "      <th>GDP</th>\n",
              "      <th>Population</th>\n",
              "      <th>FID</th>\n",
              "      <th>COUNTRY</th>\n",
              "      <th>ISO</th>\n",
              "      <th>COUNTRYAFF</th>\n",
              "      <th>AFF_ISO</th>\n",
              "      <th>SHAPE_Leng</th>\n",
              "      <th>SHAPE_Area</th>\n",
              "      <th>geometry</th>\n",
              "    </tr>\n",
              "  </thead>\n",
              "  <tbody>\n",
              "    <tr>\n",
              "      <th>0</th>\n",
              "      <td>0</td>\n",
              "      <td>Afghanistan</td>\n",
              "      <td>0</td>\n",
              "      <td>58.19375</td>\n",
              "      <td>269.0625</td>\n",
              "      <td>78.2500</td>\n",
              "      <td>34.960110</td>\n",
              "      <td>64.562500</td>\n",
              "      <td>2362.2500</td>\n",
              "      <td>15.51875</td>\n",
              "      <td>...</td>\n",
              "      <td>340.015425</td>\n",
              "      <td>9.972260e+06</td>\n",
              "      <td>192</td>\n",
              "      <td>Afghanistan</td>\n",
              "      <td>AF</td>\n",
              "      <td>Afghanistan</td>\n",
              "      <td>AF</td>\n",
              "      <td>50.803210</td>\n",
              "      <td>62.566714</td>\n",
              "      <td>POLYGON ((61.27655 35.60725, 61.29638 35.62854...</td>\n",
              "    </tr>\n",
              "    <tr>\n",
              "      <th>1</th>\n",
              "      <td>1</td>\n",
              "      <td>Albania</td>\n",
              "      <td>0</td>\n",
              "      <td>75.15625</td>\n",
              "      <td>45.0625</td>\n",
              "      <td>0.6875</td>\n",
              "      <td>193.259091</td>\n",
              "      <td>98.000000</td>\n",
              "      <td>53.3750</td>\n",
              "      <td>49.06875</td>\n",
              "      <td>...</td>\n",
              "      <td>2119.726679</td>\n",
              "      <td>6.969116e+05</td>\n",
              "      <td>164</td>\n",
              "      <td>Albania</td>\n",
              "      <td>AL</td>\n",
              "      <td>Albania</td>\n",
              "      <td>AL</td>\n",
              "      <td>9.625038</td>\n",
              "      <td>3.073540</td>\n",
              "      <td>POLYGON ((19.57083 41.68527, 19.58195 41.69569...</td>\n",
              "    </tr>\n",
              "    <tr>\n",
              "      <th>2</th>\n",
              "      <td>2</td>\n",
              "      <td>Algeria</td>\n",
              "      <td>0</td>\n",
              "      <td>73.61875</td>\n",
              "      <td>108.1875</td>\n",
              "      <td>20.3125</td>\n",
              "      <td>236.185241</td>\n",
              "      <td>78.000000</td>\n",
              "      <td>1943.8750</td>\n",
              "      <td>48.74375</td>\n",
              "      <td>...</td>\n",
              "      <td>2847.853392</td>\n",
              "      <td>2.164983e+07</td>\n",
              "      <td>125</td>\n",
              "      <td>Algeria</td>\n",
              "      <td>DZ</td>\n",
              "      <td>Algeria</td>\n",
              "      <td>DZ</td>\n",
              "      <td>70.540082</td>\n",
              "      <td>213.513461</td>\n",
              "      <td>POLYGON ((4.60335 36.88791, 4.63555 36.88638, ...</td>\n",
              "    </tr>\n",
              "    <tr>\n",
              "      <th>3</th>\n",
              "      <td>3</td>\n",
              "      <td>Angola</td>\n",
              "      <td>0</td>\n",
              "      <td>49.01875</td>\n",
              "      <td>328.5625</td>\n",
              "      <td>83.7500</td>\n",
              "      <td>102.100268</td>\n",
              "      <td>70.222222</td>\n",
              "      <td>3561.3125</td>\n",
              "      <td>18.01875</td>\n",
              "      <td>...</td>\n",
              "      <td>1975.143045</td>\n",
              "      <td>1.014710e+07</td>\n",
              "      <td>96</td>\n",
              "      <td>Angola</td>\n",
              "      <td>AO</td>\n",
              "      <td>Angola</td>\n",
              "      <td>AO</td>\n",
              "      <td>58.873470</td>\n",
              "      <td>103.813059</td>\n",
              "      <td>MULTIPOLYGON (((23.47611 -17.62584, 23.28916 -...</td>\n",
              "    </tr>\n",
              "    <tr>\n",
              "      <th>4</th>\n",
              "      <td>4</td>\n",
              "      <td>Antigua and Barbuda</td>\n",
              "      <td>0</td>\n",
              "      <td>75.05625</td>\n",
              "      <td>127.5000</td>\n",
              "      <td>0.0000</td>\n",
              "      <td>1001.585226</td>\n",
              "      <td>98.266667</td>\n",
              "      <td>0.0000</td>\n",
              "      <td>38.42500</td>\n",
              "      <td>...</td>\n",
              "      <td>9759.305728</td>\n",
              "      <td>8.486200e+04</td>\n",
              "      <td>29</td>\n",
              "      <td>Antigua and Barbuda</td>\n",
              "      <td>AG</td>\n",
              "      <td>Antigua and Barbuda</td>\n",
              "      <td>AG</td>\n",
              "      <td>1.162901</td>\n",
              "      <td>0.045626</td>\n",
              "      <td>MULTIPOLYGON (((-61.73806 16.98972, -61.82917 ...</td>\n",
              "    </tr>\n",
              "    <tr>\n",
              "      <th>...</th>\n",
              "      <td>...</td>\n",
              "      <td>...</td>\n",
              "      <td>...</td>\n",
              "      <td>...</td>\n",
              "      <td>...</td>\n",
              "      <td>...</td>\n",
              "      <td>...</td>\n",
              "      <td>...</td>\n",
              "      <td>...</td>\n",
              "      <td>...</td>\n",
              "      <td>...</td>\n",
              "      <td>...</td>\n",
              "      <td>...</td>\n",
              "      <td>...</td>\n",
              "      <td>...</td>\n",
              "      <td>...</td>\n",
              "      <td>...</td>\n",
              "      <td>...</td>\n",
              "      <td>...</td>\n",
              "      <td>...</td>\n",
              "      <td>...</td>\n",
              "    </tr>\n",
              "    <tr>\n",
              "      <th>175</th>\n",
              "      <td>175</td>\n",
              "      <td>Vanuatu</td>\n",
              "      <td>0</td>\n",
              "      <td>71.38750</td>\n",
              "      <td>137.8750</td>\n",
              "      <td>0.0000</td>\n",
              "      <td>282.325746</td>\n",
              "      <td>56.125000</td>\n",
              "      <td>20.8750</td>\n",
              "      <td>44.25625</td>\n",
              "      <td>...</td>\n",
              "      <td>2000.245518</td>\n",
              "      <td>1.230962e+05</td>\n",
              "      <td>225</td>\n",
              "      <td>Vanuatu</td>\n",
              "      <td>VU</td>\n",
              "      <td>Vanuatu</td>\n",
              "      <td>VU</td>\n",
              "      <td>16.411468</td>\n",
              "      <td>1.037135</td>\n",
              "      <td>MULTIPOLYGON (((167.10782 -15.12370, 167.13136...</td>\n",
              "    </tr>\n",
              "    <tr>\n",
              "      <th>176</th>\n",
              "      <td>176</td>\n",
              "      <td>Viet Nam</td>\n",
              "      <td>0</td>\n",
              "      <td>74.77500</td>\n",
              "      <td>126.5625</td>\n",
              "      <td>29.1875</td>\n",
              "      <td>0.000000</td>\n",
              "      <td>87.538462</td>\n",
              "      <td>4232.9375</td>\n",
              "      <td>11.18750</td>\n",
              "      <td>...</td>\n",
              "      <td>1474.187500</td>\n",
              "      <td>8.603386e+07</td>\n",
              "      <td>232</td>\n",
              "      <td>Viet Nam</td>\n",
              "      <td>VN</td>\n",
              "      <td>Vietnam</td>\n",
              "      <td>VN</td>\n",
              "      <td>66.866802</td>\n",
              "      <td>27.556082</td>\n",
              "      <td>MULTIPOLYGON (((107.07896 17.10804, 107.08333 ...</td>\n",
              "    </tr>\n",
              "    <tr>\n",
              "      <th>177</th>\n",
              "      <td>177</td>\n",
              "      <td>Yemen</td>\n",
              "      <td>0</td>\n",
              "      <td>63.86250</td>\n",
              "      <td>211.8125</td>\n",
              "      <td>39.3750</td>\n",
              "      <td>0.000000</td>\n",
              "      <td>55.687500</td>\n",
              "      <td>2761.1875</td>\n",
              "      <td>33.48750</td>\n",
              "      <td>...</td>\n",
              "      <td>2406.881250</td>\n",
              "      <td>2.406881e+03</td>\n",
              "      <td>208</td>\n",
              "      <td>Yemen</td>\n",
              "      <td>YE</td>\n",
              "      <td>Yemen</td>\n",
              "      <td>YE</td>\n",
              "      <td>34.011327</td>\n",
              "      <td>38.289871</td>\n",
              "      <td>MULTIPOLYGON (((47.25445 13.61528, 47.16888 13...</td>\n",
              "    </tr>\n",
              "    <tr>\n",
              "      <th>178</th>\n",
              "      <td>178</td>\n",
              "      <td>Zambia</td>\n",
              "      <td>0</td>\n",
              "      <td>53.90625</td>\n",
              "      <td>354.3125</td>\n",
              "      <td>33.4375</td>\n",
              "      <td>89.650407</td>\n",
              "      <td>69.818182</td>\n",
              "      <td>6563.8125</td>\n",
              "      <td>17.45000</td>\n",
              "      <td>...</td>\n",
              "      <td>811.811841</td>\n",
              "      <td>6.260246e+06</td>\n",
              "      <td>114</td>\n",
              "      <td>Zambia</td>\n",
              "      <td>ZM</td>\n",
              "      <td>Zambia</td>\n",
              "      <td>ZM</td>\n",
              "      <td>49.141439</td>\n",
              "      <td>62.814022</td>\n",
              "      <td>POLYGON ((30.21302 -14.98172, 30.21916 -15.096...</td>\n",
              "    </tr>\n",
              "    <tr>\n",
              "      <th>179</th>\n",
              "      <td>179</td>\n",
              "      <td>Zimbabwe</td>\n",
              "      <td>0</td>\n",
              "      <td>50.48750</td>\n",
              "      <td>462.3750</td>\n",
              "      <td>26.5625</td>\n",
              "      <td>20.364271</td>\n",
              "      <td>70.562500</td>\n",
              "      <td>923.0000</td>\n",
              "      <td>25.13750</td>\n",
              "      <td>...</td>\n",
              "      <td>410.980194</td>\n",
              "      <td>8.021343e+06</td>\n",
              "      <td>115</td>\n",
              "      <td>Zimbabwe</td>\n",
              "      <td>ZW</td>\n",
              "      <td>Zimbabwe</td>\n",
              "      <td>ZW</td>\n",
              "      <td>26.298426</td>\n",
              "      <td>33.463130</td>\n",
              "      <td>POLYGON ((32.48887 -21.34445, 32.46541 -21.325...</td>\n",
              "    </tr>\n",
              "  </tbody>\n",
              "</table>\n",
              "<p>180 rows × 24 columns</p>\n",
              "</div>\n",
              "      <button class=\"colab-df-convert\" onclick=\"convertToInteractive('df-f82eed3e-dfec-4f1b-9aa6-defd8cb6cc57')\"\n",
              "              title=\"Convert this dataframe to an interactive table.\"\n",
              "              style=\"display:none;\">\n",
              "        \n",
              "  <svg xmlns=\"http://www.w3.org/2000/svg\" height=\"24px\"viewBox=\"0 0 24 24\"\n",
              "       width=\"24px\">\n",
              "    <path d=\"M0 0h24v24H0V0z\" fill=\"none\"/>\n",
              "    <path d=\"M18.56 5.44l.94 2.06.94-2.06 2.06-.94-2.06-.94-.94-2.06-.94 2.06-2.06.94zm-11 1L8.5 8.5l.94-2.06 2.06-.94-2.06-.94L8.5 2.5l-.94 2.06-2.06.94zm10 10l.94 2.06.94-2.06 2.06-.94-2.06-.94-.94-2.06-.94 2.06-2.06.94z\"/><path d=\"M17.41 7.96l-1.37-1.37c-.4-.4-.92-.59-1.43-.59-.52 0-1.04.2-1.43.59L10.3 9.45l-7.72 7.72c-.78.78-.78 2.05 0 2.83L4 21.41c.39.39.9.59 1.41.59.51 0 1.02-.2 1.41-.59l7.78-7.78 2.81-2.81c.8-.78.8-2.07 0-2.86zM5.41 20L4 18.59l7.72-7.72 1.47 1.35L5.41 20z\"/>\n",
              "  </svg>\n",
              "      </button>\n",
              "      \n",
              "  <style>\n",
              "    .colab-df-container {\n",
              "      display:flex;\n",
              "      flex-wrap:wrap;\n",
              "      gap: 12px;\n",
              "    }\n",
              "\n",
              "    .colab-df-convert {\n",
              "      background-color: #E8F0FE;\n",
              "      border: none;\n",
              "      border-radius: 50%;\n",
              "      cursor: pointer;\n",
              "      display: none;\n",
              "      fill: #1967D2;\n",
              "      height: 32px;\n",
              "      padding: 0 0 0 0;\n",
              "      width: 32px;\n",
              "    }\n",
              "\n",
              "    .colab-df-convert:hover {\n",
              "      background-color: #E2EBFA;\n",
              "      box-shadow: 0px 1px 2px rgba(60, 64, 67, 0.3), 0px 1px 3px 1px rgba(60, 64, 67, 0.15);\n",
              "      fill: #174EA6;\n",
              "    }\n",
              "\n",
              "    [theme=dark] .colab-df-convert {\n",
              "      background-color: #3B4455;\n",
              "      fill: #D2E3FC;\n",
              "    }\n",
              "\n",
              "    [theme=dark] .colab-df-convert:hover {\n",
              "      background-color: #434B5C;\n",
              "      box-shadow: 0px 1px 3px 1px rgba(0, 0, 0, 0.15);\n",
              "      filter: drop-shadow(0px 1px 2px rgba(0, 0, 0, 0.3));\n",
              "      fill: #FFFFFF;\n",
              "    }\n",
              "  </style>\n",
              "\n",
              "      <script>\n",
              "        const buttonEl =\n",
              "          document.querySelector('#df-f82eed3e-dfec-4f1b-9aa6-defd8cb6cc57 button.colab-df-convert');\n",
              "        buttonEl.style.display =\n",
              "          google.colab.kernel.accessAllowed ? 'block' : 'none';\n",
              "\n",
              "        async function convertToInteractive(key) {\n",
              "          const element = document.querySelector('#df-f82eed3e-dfec-4f1b-9aa6-defd8cb6cc57');\n",
              "          const dataTable =\n",
              "            await google.colab.kernel.invokeFunction('convertToInteractive',\n",
              "                                                     [key], {});\n",
              "          if (!dataTable) return;\n",
              "\n",
              "          const docLinkHtml = 'Like what you see? Visit the ' +\n",
              "            '<a target=\"_blank\" href=https://colab.research.google.com/notebooks/data_table.ipynb>data table notebook</a>'\n",
              "            + ' to learn more about interactive tables.';\n",
              "          element.innerHTML = '';\n",
              "          dataTable['output_type'] = 'display_data';\n",
              "          await google.colab.output.renderOutput(dataTable, element);\n",
              "          const docLink = document.createElement('div');\n",
              "          docLink.innerHTML = docLinkHtml;\n",
              "          element.appendChild(docLink);\n",
              "        }\n",
              "      </script>\n",
              "    </div>\n",
              "  </div>\n",
              "  "
            ],
            "text/plain": [
              "     Unnamed: 0              Country  Status  Life expectancy   \\\n",
              "0             0          Afghanistan       0          58.19375   \n",
              "1             1              Albania       0          75.15625   \n",
              "2             2              Algeria       0          73.61875   \n",
              "3             3               Angola       0          49.01875   \n",
              "4             4  Antigua and Barbuda       0          75.05625   \n",
              "..          ...                  ...     ...               ...   \n",
              "175         175              Vanuatu       0          71.38750   \n",
              "176         176             Viet Nam       0          74.77500   \n",
              "177         177                Yemen       0          63.86250   \n",
              "178         178               Zambia       0          53.90625   \n",
              "179         179             Zimbabwe       0          50.48750   \n",
              "\n",
              "     Adult Mortality  infant deaths  percentage expenditure  Hepatitis B  \\\n",
              "0           269.0625        78.2500               34.960110    64.562500   \n",
              "1            45.0625         0.6875              193.259091    98.000000   \n",
              "2           108.1875        20.3125              236.185241    78.000000   \n",
              "3           328.5625        83.7500              102.100268    70.222222   \n",
              "4           127.5000         0.0000             1001.585226    98.266667   \n",
              "..               ...            ...                     ...          ...   \n",
              "175         137.8750         0.0000              282.325746    56.125000   \n",
              "176         126.5625        29.1875                0.000000    87.538462   \n",
              "177         211.8125        39.3750                0.000000    55.687500   \n",
              "178         354.3125        33.4375               89.650407    69.818182   \n",
              "179         462.3750        26.5625               20.364271    70.562500   \n",
              "\n",
              "      Measles       BMI   ...          GDP    Population  FID  \\\n",
              "0    2362.2500  15.51875  ...   340.015425  9.972260e+06  192   \n",
              "1      53.3750  49.06875  ...  2119.726679  6.969116e+05  164   \n",
              "2    1943.8750  48.74375  ...  2847.853392  2.164983e+07  125   \n",
              "3    3561.3125  18.01875  ...  1975.143045  1.014710e+07   96   \n",
              "4       0.0000  38.42500  ...  9759.305728  8.486200e+04   29   \n",
              "..         ...       ...  ...          ...           ...  ...   \n",
              "175    20.8750  44.25625  ...  2000.245518  1.230962e+05  225   \n",
              "176  4232.9375  11.18750  ...  1474.187500  8.603386e+07  232   \n",
              "177  2761.1875  33.48750  ...  2406.881250  2.406881e+03  208   \n",
              "178  6563.8125  17.45000  ...   811.811841  6.260246e+06  114   \n",
              "179   923.0000  25.13750  ...   410.980194  8.021343e+06  115   \n",
              "\n",
              "                 COUNTRY  ISO           COUNTRYAFF  AFF_ISO SHAPE_Leng  \\\n",
              "0            Afghanistan   AF          Afghanistan       AF  50.803210   \n",
              "1                Albania   AL              Albania       AL   9.625038   \n",
              "2                Algeria   DZ              Algeria       DZ  70.540082   \n",
              "3                 Angola   AO               Angola       AO  58.873470   \n",
              "4    Antigua and Barbuda   AG  Antigua and Barbuda       AG   1.162901   \n",
              "..                   ...  ...                  ...      ...        ...   \n",
              "175              Vanuatu   VU              Vanuatu       VU  16.411468   \n",
              "176             Viet Nam   VN              Vietnam       VN  66.866802   \n",
              "177                Yemen   YE                Yemen       YE  34.011327   \n",
              "178               Zambia   ZM               Zambia       ZM  49.141439   \n",
              "179             Zimbabwe   ZW             Zimbabwe       ZW  26.298426   \n",
              "\n",
              "     SHAPE_Area                                           geometry  \n",
              "0     62.566714  POLYGON ((61.27655 35.60725, 61.29638 35.62854...  \n",
              "1      3.073540  POLYGON ((19.57083 41.68527, 19.58195 41.69569...  \n",
              "2    213.513461  POLYGON ((4.60335 36.88791, 4.63555 36.88638, ...  \n",
              "3    103.813059  MULTIPOLYGON (((23.47611 -17.62584, 23.28916 -...  \n",
              "4      0.045626  MULTIPOLYGON (((-61.73806 16.98972, -61.82917 ...  \n",
              "..          ...                                                ...  \n",
              "175    1.037135  MULTIPOLYGON (((167.10782 -15.12370, 167.13136...  \n",
              "176   27.556082  MULTIPOLYGON (((107.07896 17.10804, 107.08333 ...  \n",
              "177   38.289871  MULTIPOLYGON (((47.25445 13.61528, 47.16888 13...  \n",
              "178   62.814022  POLYGON ((30.21302 -14.98172, 30.21916 -15.096...  \n",
              "179   33.463130  POLYGON ((32.48887 -21.34445, 32.46541 -21.325...  \n",
              "\n",
              "[180 rows x 24 columns]"
            ]
          },
          "execution_count": 11,
          "metadata": {},
          "output_type": "execute_result"
        }
      ],
      "source": [
        "df_geometries= pd.merge(df_life,gdf_paises,left_on='Country',right_on='COUNTRY',how='left')\n",
        "df_geometries"
      ]
    },
    {
      "cell_type": "markdown",
      "metadata": {
        "id": "Cz1GUFhiHK6g"
      },
      "source": [
        "# 03. Preparación de los datos"
      ]
    },
    {
      "cell_type": "code",
      "execution_count": null,
      "metadata": {
        "colab": {
          "base_uri": "https://localhost:8080/"
        },
        "id": "nV5uNMWCHpSn",
        "outputId": "4952e37b-3340-4885-dcd5-cf373ef25fac"
      },
      "outputs": [
        {
          "data": {
            "text/plain": [
              "Index(['Unnamed: 0', 'Country', 'Status', 'Life expectancy ',\n",
              "       'Adult Mortality', 'infant deaths', 'percentage expenditure',\n",
              "       'Hepatitis B', 'Measles ', ' BMI ', 'under-five deaths ', 'Polio',\n",
              "       'Diphtheria ', ' HIV/AIDS', 'GDP', 'Population', 'FID', 'COUNTRY',\n",
              "       'ISO', 'COUNTRYAFF', 'AFF_ISO', 'SHAPE_Leng', 'SHAPE_Area', 'geometry'],\n",
              "      dtype='object')"
            ]
          },
          "execution_count": 12,
          "metadata": {},
          "output_type": "execute_result"
        }
      ],
      "source": [
        "df_geometries.columns"
      ]
    },
    {
      "cell_type": "code",
      "execution_count": null,
      "metadata": {
        "colab": {
          "base_uri": "https://localhost:8080/"
        },
        "id": "NMfaGbYyHxRW",
        "outputId": "a00ba14c-076c-4646-86a3-c723b6fbacd5"
      },
      "outputs": [
        {
          "data": {
            "text/plain": [
              "Index(['Country', 'Status', 'Life expectancy ', 'Adult Mortality',\n",
              "       'infant deaths', 'percentage expenditure', 'Hepatitis B', 'Measles ',\n",
              "       ' BMI ', 'under-five deaths ', 'Polio', 'Diphtheria ', ' HIV/AIDS',\n",
              "       'GDP', 'Population', 'geometry'],\n",
              "      dtype='object')"
            ]
          },
          "execution_count": 13,
          "metadata": {},
          "output_type": "execute_result"
        }
      ],
      "source": [
        "df_geometries.drop(['Unnamed: 0','FID', 'COUNTRY', 'ISO', 'COUNTRYAFF', 'AFF_ISO',\n",
        "                    'SHAPE_Leng', 'SHAPE_Area'],axis=1,inplace=True)\n",
        "df_geometries.columns"
      ]
    },
    {
      "cell_type": "code",
      "execution_count": null,
      "metadata": {
        "colab": {
          "base_uri": "https://localhost:8080/"
        },
        "id": "g2bs6g1VJVoC",
        "outputId": "ea1e2fa9-7214-4c04-84e0-438136cdd011"
      },
      "outputs": [
        {
          "data": {
            "text/plain": [
              "Index(['País', 'Estatus', 'Esperanza de Vida', 'Mortalidad adulta',\n",
              "       'Muertes Infantiles', 'Porcentaje de Gastos', 'Hepatitis B',\n",
              "       'Sarampión', 'IMC', 'Muertes de menores de 5 años', 'Polio', 'Difteria',\n",
              "       'VIH/SIDA', 'PIB', 'Polación', 'geometry'],\n",
              "      dtype='object')"
            ]
          },
          "execution_count": 14,
          "metadata": {},
          "output_type": "execute_result"
        }
      ],
      "source": [
        "df_geometries.columns=[\"País\",\"Estatus\",\"Esperanza de Vida\",\"Mortalidad adulta\",\"Muertes Infantiles\",\n",
        "                       \"Porcentaje de Gastos\",\"Hepatitis B\",\"Sarampión\",\"IMC\",\"Muertes de menores de 5 años\",\"Polio\",\"Difteria\",\n",
        "                       \"VIH/SIDA\",\"PIB\",\"Polación\",\"geometry\"]\n",
        "df_geometries.columns      "
      ]
    },
    {
      "cell_type": "code",
      "execution_count": null,
      "metadata": {
        "colab": {
          "base_uri": "https://localhost:8080/"
        },
        "id": "3M42WyX_JARA",
        "outputId": "a4658122-37f2-4520-ace9-6a4dbe9dfe8a"
      },
      "outputs": [
        {
          "data": {
            "text/plain": [
              "(180, 14)"
            ]
          },
          "execution_count": 15,
          "metadata": {},
          "output_type": "execute_result"
        }
      ],
      "source": [
        "X= df_geometries[['Estatus', 'Esperanza de Vida', 'Mortalidad adulta',\n",
        "       'Muertes Infantiles','Porcentaje de Gastos', 'Hepatitis B', 'Sarampión', 'IMC',\n",
        "       'Muertes de menores de 5 años', 'Polio', 'Difteria', 'VIH/SIDA', 'PIB',\n",
        "       'Polación']]\n",
        "X.shape"
      ]
    },
    {
      "cell_type": "code",
      "execution_count": null,
      "metadata": {
        "colab": {
          "base_uri": "https://localhost:8080/"
        },
        "id": "-1wbj_85K8J2",
        "outputId": "b7457192-5d06-4264-d3b9-d045bf541b87"
      },
      "outputs": [
        {
          "data": {
            "text/plain": [
              "array([[-0.46499055, -1.19038796,  1.07522186,  0.40690425, -0.48296997,\n",
              "        -0.41980166, -0.01274595, -1.41708287,  0.40958687, -2.11840575,\n",
              "        -1.80436466, -0.37500043, -0.65217732, -0.12135706],\n",
              "       [-0.46499055,  0.64840772, -1.24832059, -0.25832505, -0.37644401,\n",
              "         0.96356525, -0.29707751,  0.69875974, -0.26425129,  0.99039308,\n",
              "         0.95946546, -0.37500043, -0.49438477, -0.34205738],\n",
              "       [-0.46499055,  0.48173722, -0.59352766, -0.09000757, -0.34755723,\n",
              "         0.13613084, -0.06426767,  0.6782635 , -0.12166303,  0.59202941,\n",
              "         0.58566876, -0.37500043, -0.42982769,  0.15650237],\n",
              "       [-0.46499055, -2.18499078,  1.69241283,  0.45407603, -0.43778857,\n",
              "        -0.18564921,  0.13491527, -1.25941949,  0.56797438, -2.25900469,\n",
              "        -2.08376825,  0.13287662, -0.50720383, -0.11719688],\n",
              "       [-0.46499055,  0.63756736, -0.39319992, -0.26422153,  0.16751221,\n",
              "         0.97459771, -0.3036505 ,  0.02750788, -0.27017601,  0.91618809,\n",
              "         0.97456836, -0.36940399,  0.18295465, -0.35662067]])"
            ]
          },
          "execution_count": 16,
          "metadata": {},
          "output_type": "execute_result"
        }
      ],
      "source": [
        "scaler = StandardScaler()\n",
        "X_scaled = scaler.fit_transform(X)\n",
        "X_scaled[:5]"
      ]
    },
    {
      "cell_type": "code",
      "execution_count": null,
      "metadata": {
        "colab": {
          "base_uri": "https://localhost:8080/"
        },
        "id": "qWXHyQWiRIro",
        "outputId": "59873e06-c462-454d-f635-f8ef5e05f5bd"
      },
      "outputs": [
        {
          "data": {
            "text/plain": [
              "(180, 2)"
            ]
          },
          "execution_count": 17,
          "metadata": {},
          "output_type": "execute_result"
        }
      ],
      "source": [
        "pca=PCA(n_components=2)\n",
        "X_scaled_pca=pca.fit_transform(X_scaled)\n",
        "X_scaled_pca.shape"
      ]
    },
    {
      "cell_type": "code",
      "execution_count": null,
      "metadata": {
        "colab": {
          "base_uri": "https://localhost:8080/"
        },
        "id": "21PVIglITiuc",
        "outputId": "25518e45-3650-4a54-dcae-2bcb208e02af"
      },
      "outputs": [
        {
          "data": {
            "text/plain": [
              "(180, 18)"
            ]
          },
          "execution_count": 18,
          "metadata": {},
          "output_type": "execute_result"
        }
      ],
      "source": [
        "df_geometries[\"Dimension 1\"]=X_scaled_pca[:,0]\n",
        "df_geometries[\"Dimension 2\"]=X_scaled_pca[:,1]\n",
        "df_geometries.shape"
      ]
    },
    {
      "cell_type": "markdown",
      "metadata": {
        "id": "B1IWHy6j9lRv"
      },
      "source": [
        "# 04. Clustering"
      ]
    },
    {
      "cell_type": "markdown",
      "metadata": {
        "id": "mODZd9OhGH6-"
      },
      "source": [
        "## 04.1 K-Means"
      ]
    },
    {
      "cell_type": "markdown",
      "metadata": {
        "id": "Xf8sqFv0bveR"
      },
      "source": [
        "###04.1.1 Método del codo"
      ]
    },
    {
      "cell_type": "code",
      "execution_count": null,
      "metadata": {
        "id": "yIFWuL_5Mowx"
      },
      "outputs": [],
      "source": [
        "kmeans_kwargs = {\n",
        "     \"init\": \"random\",\n",
        "     \"n_init\": 10,\n",
        "     \"max_iter\": 300,\n",
        "     \"random_state\": 42,}\n",
        "\n",
        " # A list holds the SSE values for each k\n",
        "sse = []\n",
        "for k in range(1, 11):\n",
        "  kmeans = KMeans(n_clusters=k, **kmeans_kwargs)\n",
        "  kmeans.fit(X_scaled)\n",
        "  sse.append(kmeans.inertia_)"
      ]
    },
    {
      "cell_type": "code",
      "execution_count": null,
      "metadata": {
        "colab": {
          "base_uri": "https://localhost:8080/",
          "height": 304
        },
        "id": "HtwBrp89M1nc",
        "outputId": "ded4b97e-76cb-45e6-a101-c6af28add579"
      },
      "outputs": [
        {
          "data": {
            "image/png": "[encoded data removed]",
            "text/plain": [
              "<Figure size 432x288 with 1 Axes>"
            ]
          },
          "metadata": {},
          "output_type": "display_data"
        }
      ],
      "source": [
        "plt.style.use(\"fivethirtyeight\")\n",
        "plt.plot(range(1, 11), sse)\n",
        "plt.xticks(range(1, 11))\n",
        "plt.xlabel(\"Number of Clusters\")\n",
        "plt.ylabel(\"SSE\")\n",
        "plt.show()"
      ]
    },
    {
      "cell_type": "code",
      "execution_count": null,
      "metadata": {
        "colab": {
          "base_uri": "https://localhost:8080/"
        },
        "id": "NbPXY_vbM5WN",
        "outputId": "ccf72994-d767-4dae-b755-2ae1ecbf82c5"
      },
      "outputs": [
        {
          "data": {
            "text/plain": [
              "4"
            ]
          },
          "execution_count": 21,
          "metadata": {},
          "output_type": "execute_result"
        }
      ],
      "source": [
        "kl = KneeLocator(\n",
        "  range(1, 11), sse, curve=\"convex\", direction=\"decreasing\")\n",
        "\n",
        "kl.elbow"
      ]
    },
    {
      "cell_type": "markdown",
      "metadata": {
        "id": "7xHKlNTAb3YC"
      },
      "source": [
        "###04.1.2 K-Means implementación"
      ]
    },
    {
      "cell_type": "code",
      "execution_count": null,
      "metadata": {
        "colab": {
          "base_uri": "https://localhost:8080/"
        },
        "id": "g5sf44gIReqw",
        "outputId": "ebb7f230-84b3-45d8-dc4d-975e371909c7"
      },
      "outputs": [
        {
          "data": {
            "text/plain": [
              "KMeans(init='random', n_clusters=4, random_state=42)"
            ]
          },
          "execution_count": 22,
          "metadata": {},
          "output_type": "execute_result"
        }
      ],
      "source": [
        "kmeans = KMeans(n_clusters=4, **kmeans_kwargs)\n",
        "kmeans.fit(X_scaled)"
      ]
    },
    {
      "cell_type": "markdown",
      "metadata": {
        "id": "Go9oFIhLpZv2"
      },
      "source": [
        "Silhouette Coefficient"
      ]
    },
    {
      "cell_type": "code",
      "execution_count": null,
      "metadata": {
        "colab": {
          "base_uri": "https://localhost:8080/"
        },
        "id": "n2T7VOeeor0W",
        "outputId": "8cc1ec0f-8abd-455e-c3c4-52e1eb727abd"
      },
      "outputs": [
        {
          "data": {
            "text/plain": [
              "0.34381192387449017"
            ]
          },
          "execution_count": 23,
          "metadata": {},
          "output_type": "execute_result"
        }
      ],
      "source": [
        "labels = kmeans.labels_\n",
        "metrics.silhouette_score(X_scaled, labels, metric='euclidean')"
      ]
    },
    {
      "cell_type": "code",
      "execution_count": null,
      "metadata": {
        "id": "cQZ8DuV_mYYG"
      },
      "outputs": [],
      "source": [
        "df_geometries[\"Kmeans\"]=kmeans.labels_"
      ]
    },
    {
      "cell_type": "code",
      "execution_count": null,
      "metadata": {
        "colab": {
          "base_uri": "https://localhost:8080/"
        },
        "id": "e_Q4ReTHRQYB",
        "outputId": "49dff8ff-cc9f-4da2-a763-c91fb3da14c8"
      },
      "outputs": [
        {
          "data": {
            "text/plain": [
              "3    93\n",
              "0    55\n",
              "1    28\n",
              "2     4\n",
              "Name: Kmeans, dtype: int64"
            ]
          },
          "execution_count": 26,
          "metadata": {},
          "output_type": "execute_result"
        }
      ],
      "source": [
        "df_geometries[\"Kmeans\"].value_counts()"
      ]
    },
    {
      "cell_type": "code",
      "execution_count": null,
      "metadata": {
        "colab": {
          "base_uri": "https://localhost:8080/",
          "height": 542
        },
        "id": "CEMjHxvlsuII",
        "outputId": "edf9d353-d044-4c33-8ad7-24dcec407895"
      },
      "outputs": [
        {
          "data": {
            "text/html": [
              "<html>\n",
              "<head><meta charset=\"utf-8\" /></head>\n",
              "<body>\n",
              "    <div>            <script src=\"https://cdnjs.cloudflare.com/ajax/libs/mathjax/2.7.5/MathJax.js?config=TeX-AMS-MML_SVG\"></script><script type=\"text/javascript\">if (window.MathJax) {MathJax.Hub.Config({SVG: {font: \"STIX-Web\"}});}</script>                <script type=\"text/javascript\">window.PlotlyConfig = {MathJaxConfig: 'local'};</script>\n",
              "        <script src=\"https://cdn.plot.ly/plotly-2.8.3.min.js\"></script>                <div id=\"e5d9fd21-5a25-49c1-b3ca-3f84fd85921a\" class=\"plotly-graph-div\" style=\"height:525px; width:100%;\"></div>            <script type=\"text/javascript\">                                    window.PLOTLYENV=window.PLOTLYENV || {};                                    if (document.getElementById(\"e5d9fd21-5a25-49c1-b3ca-3f84fd85921a\")) {                    Plotly.newPlot(                        \"e5d9fd21-5a25-49c1-b3ca-3f84fd85921a\",                        [{\"customdata\":[[\"Afghanistan\"],[\"Albania\"],[\"Algeria\"],[\"Angola\"],[\"Antigua and Barbuda\"],[\"Argentina\"],[\"Armenia\"],[\"Australia\"],[\"Austria\"],[\"Azerbaijan\"],[\"Bahamas\"],[\"Bahrain\"],[\"Bangladesh\"],[\"Barbados\"],[\"Belarus\"],[\"Belgium\"],[\"Belize\"],[\"Benin\"],[\"Bhutan\"],[\"Bolivia (Plurinational State of)\"],[\"Bosnia and Herzegovina\"],[\"Botswana\"],[\"Brazil\"],[\"Brunei Darussalam\"],[\"Bulgaria\"],[\"Burkina Faso\"],[\"Burundi\"],[\"Cabo Verde\"],[\"Cambodia\"],[\"Cameroon\"],[\"Canada\"],[\"Central African Republic\"],[\"Chad\"],[\"Chile\"],[\"China\"],[\"Colombia\"],[\"Comoros\"],[\"Congo\"],[\"Costa Rica\"],[\"Croatia\"],[\"Cuba\"],[\"Cyprus\"],[\"Czechia\"],[\"C\\u00f4te d'Ivoire\"],[\"Democratic Republic of the Congo\"],[\"Denmark\"],[\"Djibouti\"],[\"Dominican Republic\"],[\"Ecuador\"],[\"Egypt\"],[\"El Salvador\"],[\"Equatorial Guinea\"],[\"Eritrea\"],[\"Estonia\"],[\"Ethiopia\"],[\"Fiji\"],[\"Finland\"],[\"France\"],[\"Gabon\"],[\"Gambia\"],[\"Georgia\"],[\"Germany\"],[\"Ghana\"],[\"Greece\"],[\"Grenada\"],[\"Guatemala\"],[\"Guinea\"],[\"Guinea-Bissau\"],[\"Guyana\"],[\"Haiti\"],[\"Honduras\"],[\"Hungary\"],[\"Iceland\"],[\"India\"],[\"Indonesia\"],[\"Iran (Islamic Republic of)\"],[\"Iraq\"],[\"Ireland\"],[\"Israel\"],[\"Italy\"],[\"Jamaica\"],[\"Japan\"],[\"Jordan\"],[\"Kazakhstan\"],[\"Kenya\"],[\"Kiribati\"],[\"Kuwait\"],[\"Kyrgyzstan\"],[\"Lao People's Democratic Republic\"],[\"Latvia\"],[\"Lebanon\"],[\"Lesotho\"],[\"Liberia\"],[\"Libya\"],[\"Lithuania\"],[\"Luxembourg\"],[\"Madagascar\"],[\"Malawi\"],[\"Malaysia\"],[\"Maldives\"],[\"Mali\"],[\"Malta\"],[\"Mauritania\"],[\"Mauritius\"],[\"Mexico\"],[\"Micronesia (Federated States of)\"],[\"Mongolia\"],[\"Montenegro\"],[\"Morocco\"],[\"Mozambique\"],[\"Myanmar\"],[\"Namibia\"],[\"Nepal\"],[\"Netherlands\"],[\"New Zealand\"],[\"Nicaragua\"],[\"Niger\"],[\"Nigeria\"],[\"Norway\"],[\"Oman\"],[\"Pakistan\"],[\"Panama\"],[\"Papua New Guinea\"],[\"Paraguay\"],[\"Peru\"],[\"Philippines\"],[\"Poland\"],[\"Portugal\"],[\"Qatar\"],[\"Republic of Korea\"],[\"Republic of Moldova\"],[\"Romania\"],[\"Russian Federation\"],[\"Rwanda\"],[\"Saint Lucia\"],[\"Saint Vincent and the Grenadines\"],[\"Samoa\"],[\"Sao Tome and Principe\"],[\"Saudi Arabia\"],[\"Senegal\"],[\"Serbia\"],[\"Seychelles\"],[\"Sierra Leone\"],[\"Singapore\"],[\"Slovakia\"],[\"Slovenia\"],[\"Solomon Islands\"],[\"Somalia\"],[\"South Africa\"],[\"South Sudan\"],[\"Spain\"],[\"Sri Lanka\"],[\"Sudan\"],[\"Suriname\"],[\"Swaziland\"],[\"Sweden\"],[\"Switzerland\"],[\"Syrian Arab Republic\"],[\"Tajikistan\"],[\"Thailand\"],[\"Timor-Leste\"],[\"Togo\"],[\"Tonga\"],[\"Trinidad and Tobago\"],[\"Tunisia\"],[\"Turkey\"],[\"Turkmenistan\"],[\"Uganda\"],[\"Ukraine\"],[\"United Arab Emirates\"],[\"United Kingdom of Great Britain and Northern Ireland\"],[\"United Republic of Tanzania\"],[\"United States of America\"],[\"Uruguay\"],[\"Uzbekistan\"],[\"Vanuatu\"],[\"Viet Nam\"],[\"Yemen\"],[\"Zambia\"],[\"Zimbabwe\"]],\"hovertemplate\":\"Dimension 1=%{x}<br>Dimension 2=%{y}<br>Pa\\u00eds=%{customdata[0]}<br>Kmeans=%{marker.color}<extra></extra>\",\"legendgroup\":\"\",\"marker\":{\"color\":[0,3,3,0,3,3,3,1,1,3,3,3,3,3,3,1,3,0,3,3,3,0,3,3,3,0,0,3,0,0,1,0,0,3,2,3,0,0,3,3,3,1,3,0,2,1,0,3,3,3,3,0,0,3,0,3,1,1,0,3,3,1,0,3,3,3,0,0,3,0,3,1,1,2,0,3,3,1,3,1,3,1,3,3,0,3,3,3,0,3,3,0,0,3,3,1,0,0,3,3,0,1,0,3,3,3,3,3,3,0,0,0,0,1,1,3,0,2,1,3,0,3,0,3,3,0,3,1,1,3,3,3,3,0,3,3,3,3,3,0,3,3,0,1,3,1,3,0,0,0,1,3,0,3,0,1,1,0,3,3,0,0,3,3,3,3,3,0,3,3,1,0,1,3,3,3,3,0,0,0],\"coloraxis\":\"coloraxis\",\"symbol\":\"circle\"},\"mode\":\"markers\",\"name\":\"\",\"orientation\":\"v\",\"showlegend\":false,\"x\":[3.1355698720993086,-1.5280065108383176,-0.787465071640448,3.921703424178189,-1.3431384875283316,-1.3322966495036512,-0.661622660200908,-3.848459968881046,-3.5202719687265827,-0.08732414751233548,-1.726968081327306,-1.8467240390895252,1.029330530305646,-1.0398719514834973,-0.559153261953605,-3.0676664528476176,-0.6035558929729951,2.2093015053693157,0.4727179660182285,0.018860884323062557,-0.6185482489800992,1.8334541984035315,-0.7382777488434477,-1.727196987322198,-1.820806085558006,2.250298878716569,1.7065966010661762,0.07560114915127249,1.449483989586468,2.5723009044435554,-2.756042025929702,4.262160829012826,4.358782365823835,-1.4105554390181414,2.0006768600907447,-0.4369070548673102,1.7508828629230901,3.1358199673474587,-0.7240569958666034,-2.401303770129874,-1.5695259608340801,-2.871874247098133,-2.607979382944055,3.305533122445296,5.20580446722758,-3.465579571759469,1.5483936793896462,-0.16827218458255516,-0.3872547061368202,-0.46162753332870227,-0.36139678344759973,3.676509671858723,1.4305262372723648,-1.3357199907530761,3.923911078953306,-0.8788804268292734,-2.5276470645222417,-2.7912059950024073,2.156590953822341,0.9434202463065042,-0.44330967992192705,-3.2445397502021978,1.4921635822085384,-2.3458947577785554,-0.9111416891971772,-0.036742790736014906,3.076014127046609,1.8316801726574692,0.18372464702620417,2.0852099691068955,-0.7202171134667822,-1.8995004696482929,-3.5064482115418545,8.476218197319097,2.3723341146868018,-0.9676228150610345,0.8227053144937663,-3.554503761598759,-2.265247514987486,-3.374977886580358,-0.6330406949851853,-2.7077153475963036,-1.2179062780759027,-0.3745755806655614,2.977460092112936,-0.19986639457838523,-2.6212201113807136,-0.30408316805219554,2.027569459861667,-1.8448007336245538,-0.4502810532764254,4.038643517356648,2.83741688675838,-1.1682067189983814,-1.904057713394501,-5.103261250100746,2.444222927165797,3.213399542183604,-0.7374400465148963,-0.9045157797401193,2.383465995600022,-2.71001462366783,1.703976552436664,-0.5821532564839205,-1.1669676093834462,-0.47099707572836746,-0.22728805333128202,-0.7830180714771818,-0.9436156479249931,3.0783179444543642,1.525659736887277,1.7869504762905293,1.3970672621933107,-3.778570161653645,-2.5395952488201736,-0.5185304774794168,3.277862459737541,7.074963035592919,-3.31023170285299,-1.551101214520749,2.8863426897754163,-0.7995101056208302,1.6341655511465667,-0.2685280664644051,-0.38643914066585955,1.4204665774518455,-2.185255875970969,-2.6628328792682456,-3.050254420194489,-1.2301114164083808,-0.0013320567151020879,-1.7228399770905078,-0.5270306045398561,1.3111046649108375,-0.5043538556503553,-0.9933124089268333,0.20574374922802993,0.25302056468358114,-1.806782067319208,1.258200389229251,-1.1356629996178738,-0.7610065531307451,2.7988020881737725,-3.0326959173265715,-2.259222681265439,-2.4325952945476206,0.08702325392029543,4.348046693900081,3.0339310056233186,3.5874187777838578,-3.2562089582262193,-0.34043099147859057,1.7401151761520062,-0.260297467280613,3.031129566611832,-3.9689523335700403,-5.245640465572309,0.8867068984198122,0.17596507638368347,-0.31354158851310043,1.5984009951112552,2.322487407381165,-0.3830852395650792,0.2991004666287055,-1.5906287981334968,-0.476590747237978,-0.1581769749588479,3.4106525812427924,0.4450246637946391,-2.2571025417635893,-2.8444085590732175,2.6293801020117153,-2.5096593493085235,-1.3247438495285158,-0.3041622899379234,0.5900203931524038,0.24388456239100043,1.3508905247505556,3.252555018215599,3.7479425807734987],\"xaxis\":\"x\",\"y\":[-0.3496835592873845,-0.43790140113385484,0.002555767193031884,-0.562882477444299,-0.43322618205894314,-0.021102314781041073,-0.5691355639347022,1.2986034572725513,1.3032533017568402,-0.34525401373469206,-0.13261661633346045,-0.2645455726247601,1.1229421930589731,-0.2780209869584386,-0.7240110422141943,0.7381958196165453,-0.7571069960515134,-0.9006263889611003,-1.077448709907865,-0.62092677425289,-0.29202939327243677,-2.087477810793761,0.8348823256291045,-0.09354555259598535,0.007929057329864831,-0.6281211504283258,-1.242213435955885,-0.6336353395260017,-0.7488554796572789,-0.8434055600321145,1.21883953276723,-1.4849464014523155,-0.5192844550757305,0.02862951671439502,4.786493116776548,-0.048713233602871886,-1.109687388433828,-0.6141968902114402,-0.21048865665387376,0.16930323111001475,-0.25657805767711434,0.3849696941186676,0.30024596872435144,-0.9494660560346239,3.59457945330217,1.850567307421864,-1.2655920893086143,-0.4217393517708837,-0.41049014350894686,0.5413150770203927,-0.6258507036078885,-0.8582637544385392,-1.2959461998775104,-0.4344585815947393,0.9528184073929841,-0.7229353705876133,1.0228451615714038,1.2014220005380172,-1.065925383926559,-1.300261191287965,-0.45620164815603503,1.4755955652922137,-0.3729407320265014,0.11873525355115509,-0.6299979773023013,-0.5001374324788673,-0.8688674056184619,-1.15162802152258,-0.9634854625439924,-0.6400581686797172,-0.673641325625762,0.6024189643009357,1.8013749720348808,16.96537635724138,2.3228219834122084,0.49670728313198187,0.04612739018622343,1.2073442677593542,0.08133574707117003,1.157075383211292,-0.6076438340123566,1.858913107760388,-0.5353130343996146,-0.7640893907575569,-0.8529193963918716,-0.6617836060714625,0.1949572795417387,-0.6875157760856099,-0.7495800742548614,-0.06821210894689143,-0.2447130538479336,-2.686632276138108,-0.9796232260623743,-0.5271903732804472,0.037598598238102354,1.8633125929440564,-0.17950055675931992,-1.6266988603291863,-0.4029827498532027,-0.5173578501885319,-0.5516541999517918,0.44614590411986255,-0.7251482988835594,-0.70278618289162,0.11931864104789393,-0.6364042575577852,-0.8860930047286081,-0.1640303922268295,-0.05495207632651138,-0.626153455944795,-0.05985177994677406,-1.6527261389400034,-0.17475394289344096,1.5091856967209898,0.7522250722684177,-0.6971234421499891,0.20552607067227496,6.568278033626715,1.6969231807232599,-0.3964021090416209,2.947499784455534,-0.3404728729959492,-0.7765453287253693,-0.568438431895315,-0.27720440140053293,0.37212755594081065,0.1614119147312432,0.433657346544434,0.5051542301267797,0.5591626024235048,-0.8697960272334635,0.023828990094240634,0.006925081435265831,-1.2038903801177518,-0.5665343497151843,-0.6441664851615476,-0.3878978601326476,-0.9280690525881914,-0.1532050106363604,-0.6385982539442255,-0.49473236943507737,-0.6938742953845494,-1.4345002429736184,0.7903456450309576,-0.00437496443306195,1.0000767847175267,-0.7287141431113935,-0.5929758921457313,-1.1661986573201786,-1.0121876182269332,0.9406904902271065,-0.6597281638711493,-0.1696468597900384,-0.6735196409212362,-2.539693454719436,1.3812776552953014,2.888951664412913,-0.4546822494873016,-0.7568436771566236,-0.1392257540620755,-0.9119063603128451,-1.3105579705899968,-0.5122991197057375,-0.4179258802078984,-0.3108502732506977,0.31921122553908166,-0.932991313926283,-0.02975825679969713,-0.24746119587295481,0.09542911110290613,2.109811615411318,-0.16570944102129345,4.367355009179579,-0.40176368354350617,-0.7499304128898012,-0.4851228917699803,0.62880886692032,-0.3697550089704127,-1.201203462399418,-2.181071745105928],\"yaxis\":\"y\",\"type\":\"scatter\"}],                        {\"template\":{\"data\":{\"bar\":[{\"error_x\":{\"color\":\"#2a3f5f\"},\"error_y\":{\"color\":\"#2a3f5f\"},\"marker\":{\"line\":{\"color\":\"#E5ECF6\",\"width\":0.5},\"pattern\":{\"fillmode\":\"overlay\",\"size\":10,\"solidity\":0.2}},\"type\":\"bar\"}],\"barpolar\":[{\"marker\":{\"line\":{\"color\":\"#E5ECF6\",\"width\":0.5},\"pattern\":{\"fillmode\":\"overlay\",\"size\":10,\"solidity\":0.2}},\"type\":\"barpolar\"}],\"carpet\":[{\"aaxis\":{\"endlinecolor\":\"#2a3f5f\",\"gridcolor\":\"white\",\"linecolor\":\"white\",\"minorgridcolor\":\"white\",\"startlinecolor\":\"#2a3f5f\"},\"baxis\":{\"endlinecolor\":\"#2a3f5f\",\"gridcolor\":\"white\",\"linecolor\":\"white\",\"minorgridcolor\":\"white\",\"startlinecolor\":\"#2a3f5f\"},\"type\":\"carpet\"}],\"choropleth\":[{\"colorbar\":{\"outlinewidth\":0,\"ticks\":\"\"},\"type\":\"choropleth\"}],\"contour\":[{\"colorbar\":{\"outlinewidth\":0,\"ticks\":\"\"},\"colorscale\":[[0.0,\"#0d0887\"],[0.1111111111111111,\"#46039f\"],[0.2222222222222222,\"#7201a8\"],[0.3333333333333333,\"#9c179e\"],[0.4444444444444444,\"#bd3786\"],[0.5555555555555556,\"#d8576b\"],[0.6666666666666666,\"#ed7953\"],[0.7777777777777778,\"#fb9f3a\"],[0.8888888888888888,\"#fdca26\"],[1.0,\"#f0f921\"]],\"type\":\"contour\"}],\"contourcarpet\":[{\"colorbar\":{\"outlinewidth\":0,\"ticks\":\"\"},\"type\":\"contourcarpet\"}],\"heatmap\":[{\"colorbar\":{\"outlinewidth\":0,\"ticks\":\"\"},\"colorscale\":[[0.0,\"#0d0887\"],[0.1111111111111111,\"#46039f\"],[0.2222222222222222,\"#7201a8\"],[0.3333333333333333,\"#9c179e\"],[0.4444444444444444,\"#bd3786\"],[0.5555555555555556,\"#d8576b\"],[0.6666666666666666,\"#ed7953\"],[0.7777777777777778,\"#fb9f3a\"],[0.8888888888888888,\"#fdca26\"],[1.0,\"#f0f921\"]],\"type\":\"heatmap\"}],\"heatmapgl\":[{\"colorbar\":{\"outlinewidth\":0,\"ticks\":\"\"},\"colorscale\":[[0.0,\"#0d0887\"],[0.1111111111111111,\"#46039f\"],[0.2222222222222222,\"#7201a8\"],[0.3333333333333333,\"#9c179e\"],[0.4444444444444444,\"#bd3786\"],[0.5555555555555556,\"#d8576b\"],[0.6666666666666666,\"#ed7953\"],[0.7777777777777778,\"#fb9f3a\"],[0.8888888888888888,\"#fdca26\"],[1.0,\"#f0f921\"]],\"type\":\"heatmapgl\"}],\"histogram\":[{\"marker\":{\"pattern\":{\"fillmode\":\"overlay\",\"size\":10,\"solidity\":0.2}},\"type\":\"histogram\"}],\"histogram2d\":[{\"colorbar\":{\"outlinewidth\":0,\"ticks\":\"\"},\"colorscale\":[[0.0,\"#0d0887\"],[0.1111111111111111,\"#46039f\"],[0.2222222222222222,\"#7201a8\"],[0.3333333333333333,\"#9c179e\"],[0.4444444444444444,\"#bd3786\"],[0.5555555555555556,\"#d8576b\"],[0.6666666666666666,\"#ed7953\"],[0.7777777777777778,\"#fb9f3a\"],[0.8888888888888888,\"#fdca26\"],[1.0,\"#f0f921\"]],\"type\":\"histogram2d\"}],\"histogram2dcontour\":[{\"colorbar\":{\"outlinewidth\":0,\"ticks\":\"\"},\"colorscale\":[[0.0,\"#0d0887\"],[0.1111111111111111,\"#46039f\"],[0.2222222222222222,\"#7201a8\"],[0.3333333333333333,\"#9c179e\"],[0.4444444444444444,\"#bd3786\"],[0.5555555555555556,\"#d8576b\"],[0.6666666666666666,\"#ed7953\"],[0.7777777777777778,\"#fb9f3a\"],[0.8888888888888888,\"#fdca26\"],[1.0,\"#f0f921\"]],\"type\":\"histogram2dcontour\"}],\"mesh3d\":[{\"colorbar\":{\"outlinewidth\":0,\"ticks\":\"\"},\"type\":\"mesh3d\"}],\"parcoords\":[{\"line\":{\"colorbar\":{\"outlinewidth\":0,\"ticks\":\"\"}},\"type\":\"parcoords\"}],\"pie\":[{\"automargin\":true,\"type\":\"pie\"}],\"scatter\":[{\"marker\":{\"colorbar\":{\"outlinewidth\":0,\"ticks\":\"\"}},\"type\":\"scatter\"}],\"scatter3d\":[{\"line\":{\"colorbar\":{\"outlinewidth\":0,\"ticks\":\"\"}},\"marker\":{\"colorbar\":{\"outlinewidth\":0,\"ticks\":\"\"}},\"type\":\"scatter3d\"}],\"scattercarpet\":[{\"marker\":{\"colorbar\":{\"outlinewidth\":0,\"ticks\":\"\"}},\"type\":\"scattercarpet\"}],\"scattergeo\":[{\"marker\":{\"colorbar\":{\"outlinewidth\":0,\"ticks\":\"\"}},\"type\":\"scattergeo\"}],\"scattergl\":[{\"marker\":{\"colorbar\":{\"outlinewidth\":0,\"ticks\":\"\"}},\"type\":\"scattergl\"}],\"scattermapbox\":[{\"marker\":{\"colorbar\":{\"outlinewidth\":0,\"ticks\":\"\"}},\"type\":\"scattermapbox\"}],\"scatterpolar\":[{\"marker\":{\"colorbar\":{\"outlinewidth\":0,\"ticks\":\"\"}},\"type\":\"scatterpolar\"}],\"scatterpolargl\":[{\"marker\":{\"colorbar\":{\"outlinewidth\":0,\"ticks\":\"\"}},\"type\":\"scatterpolargl\"}],\"scatterternary\":[{\"marker\":{\"colorbar\":{\"outlinewidth\":0,\"ticks\":\"\"}},\"type\":\"scatterternary\"}],\"surface\":[{\"colorbar\":{\"outlinewidth\":0,\"ticks\":\"\"},\"colorscale\":[[0.0,\"#0d0887\"],[0.1111111111111111,\"#46039f\"],[0.2222222222222222,\"#7201a8\"],[0.3333333333333333,\"#9c179e\"],[0.4444444444444444,\"#bd3786\"],[0.5555555555555556,\"#d8576b\"],[0.6666666666666666,\"#ed7953\"],[0.7777777777777778,\"#fb9f3a\"],[0.8888888888888888,\"#fdca26\"],[1.0,\"#f0f921\"]],\"type\":\"surface\"}],\"table\":[{\"cells\":{\"fill\":{\"color\":\"#EBF0F8\"},\"line\":{\"color\":\"white\"}},\"header\":{\"fill\":{\"color\":\"#C8D4E3\"},\"line\":{\"color\":\"white\"}},\"type\":\"table\"}]},\"layout\":{\"annotationdefaults\":{\"arrowcolor\":\"#2a3f5f\",\"arrowhead\":0,\"arrowwidth\":1},\"autotypenumbers\":\"strict\",\"coloraxis\":{\"colorbar\":{\"outlinewidth\":0,\"ticks\":\"\"}},\"colorscale\":{\"diverging\":[[0,\"#8e0152\"],[0.1,\"#c51b7d\"],[0.2,\"#de77ae\"],[0.3,\"#f1b6da\"],[0.4,\"#fde0ef\"],[0.5,\"#f7f7f7\"],[0.6,\"#e6f5d0\"],[0.7,\"#b8e186\"],[0.8,\"#7fbc41\"],[0.9,\"#4d9221\"],[1,\"#276419\"]],\"sequential\":[[0.0,\"#0d0887\"],[0.1111111111111111,\"#46039f\"],[0.2222222222222222,\"#7201a8\"],[0.3333333333333333,\"#9c179e\"],[0.4444444444444444,\"#bd3786\"],[0.5555555555555556,\"#d8576b\"],[0.6666666666666666,\"#ed7953\"],[0.7777777777777778,\"#fb9f3a\"],[0.8888888888888888,\"#fdca26\"],[1.0,\"#f0f921\"]],\"sequentialminus\":[[0.0,\"#0d0887\"],[0.1111111111111111,\"#46039f\"],[0.2222222222222222,\"#7201a8\"],[0.3333333333333333,\"#9c179e\"],[0.4444444444444444,\"#bd3786\"],[0.5555555555555556,\"#d8576b\"],[0.6666666666666666,\"#ed7953\"],[0.7777777777777778,\"#fb9f3a\"],[0.8888888888888888,\"#fdca26\"],[1.0,\"#f0f921\"]]},\"colorway\":[\"#636efa\",\"#EF553B\",\"#00cc96\",\"#ab63fa\",\"#FFA15A\",\"#19d3f3\",\"#FF6692\",\"#B6E880\",\"#FF97FF\",\"#FECB52\"],\"font\":{\"color\":\"#2a3f5f\"},\"geo\":{\"bgcolor\":\"white\",\"lakecolor\":\"white\",\"landcolor\":\"#E5ECF6\",\"showlakes\":true,\"showland\":true,\"subunitcolor\":\"white\"},\"hoverlabel\":{\"align\":\"left\"},\"hovermode\":\"closest\",\"mapbox\":{\"style\":\"light\"},\"paper_bgcolor\":\"white\",\"plot_bgcolor\":\"#E5ECF6\",\"polar\":{\"angularaxis\":{\"gridcolor\":\"white\",\"linecolor\":\"white\",\"ticks\":\"\"},\"bgcolor\":\"#E5ECF6\",\"radialaxis\":{\"gridcolor\":\"white\",\"linecolor\":\"white\",\"ticks\":\"\"}},\"scene\":{\"xaxis\":{\"backgroundcolor\":\"#E5ECF6\",\"gridcolor\":\"white\",\"gridwidth\":2,\"linecolor\":\"white\",\"showbackground\":true,\"ticks\":\"\",\"zerolinecolor\":\"white\"},\"yaxis\":{\"backgroundcolor\":\"#E5ECF6\",\"gridcolor\":\"white\",\"gridwidth\":2,\"linecolor\":\"white\",\"showbackground\":true,\"ticks\":\"\",\"zerolinecolor\":\"white\"},\"zaxis\":{\"backgroundcolor\":\"#E5ECF6\",\"gridcolor\":\"white\",\"gridwidth\":2,\"linecolor\":\"white\",\"showbackground\":true,\"ticks\":\"\",\"zerolinecolor\":\"white\"}},\"shapedefaults\":{\"line\":{\"color\":\"#2a3f5f\"}},\"ternary\":{\"aaxis\":{\"gridcolor\":\"white\",\"linecolor\":\"white\",\"ticks\":\"\"},\"baxis\":{\"gridcolor\":\"white\",\"linecolor\":\"white\",\"ticks\":\"\"},\"bgcolor\":\"#E5ECF6\",\"caxis\":{\"gridcolor\":\"white\",\"linecolor\":\"white\",\"ticks\":\"\"}},\"title\":{\"x\":0.05},\"xaxis\":{\"automargin\":true,\"gridcolor\":\"white\",\"linecolor\":\"white\",\"ticks\":\"\",\"title\":{\"standoff\":15},\"zerolinecolor\":\"white\",\"zerolinewidth\":2},\"yaxis\":{\"automargin\":true,\"gridcolor\":\"white\",\"linecolor\":\"white\",\"ticks\":\"\",\"title\":{\"standoff\":15},\"zerolinecolor\":\"white\",\"zerolinewidth\":2}}},\"xaxis\":{\"anchor\":\"y\",\"domain\":[0.0,1.0],\"title\":{\"text\":\"Dimension 1\"}},\"yaxis\":{\"anchor\":\"x\",\"domain\":[0.0,1.0],\"title\":{\"text\":\"Dimension 2\"}},\"coloraxis\":{\"colorbar\":{\"title\":{\"text\":\"Kmeans\"}},\"colorscale\":[[0.0,\"#0d0887\"],[0.1111111111111111,\"#46039f\"],[0.2222222222222222,\"#7201a8\"],[0.3333333333333333,\"#9c179e\"],[0.4444444444444444,\"#bd3786\"],[0.5555555555555556,\"#d8576b\"],[0.6666666666666666,\"#ed7953\"],[0.7777777777777778,\"#fb9f3a\"],[0.8888888888888888,\"#fdca26\"],[1.0,\"#f0f921\"]]},\"legend\":{\"tracegroupgap\":0},\"margin\":{\"t\":60}},                        {\"responsive\": true}                    ).then(function(){\n",
              "                            \n",
              "var gd = document.getElementById('e5d9fd21-5a25-49c1-b3ca-3f84fd85921a');\n",
              "var x = new MutationObserver(function (mutations, observer) {{\n",
              "        var display = window.getComputedStyle(gd).display;\n",
              "        if (!display || display === 'none') {{\n",
              "            console.log([gd, 'removed!']);\n",
              "            Plotly.purge(gd);\n",
              "            observer.disconnect();\n",
              "        }}\n",
              "}});\n",
              "\n",
              "// Listen for the removal of the full notebook cells\n",
              "var notebookContainer = gd.closest('#notebook-container');\n",
              "if (notebookContainer) {{\n",
              "    x.observe(notebookContainer, {childList: true});\n",
              "}}\n",
              "\n",
              "// Listen for the clearing of the current output cell\n",
              "var outputEl = gd.closest('.output');\n",
              "if (outputEl) {{\n",
              "    x.observe(outputEl, {childList: true});\n",
              "}}\n",
              "\n",
              "                        })                };                            </script>        </div>\n",
              "</body>\n",
              "</html>"
            ]
          },
          "metadata": {},
          "output_type": "display_data"
        }
      ],
      "source": [
        "fig = px.scatter(df_geometries, x=\"Dimension 1\", y=\"Dimension 2\", color=\"Kmeans\",\n",
        "                 hover_data=['País'])\n",
        "fig.show()"
      ]
    },
    {
      "cell_type": "markdown",
      "metadata": {
        "id": "w662_w-dGhmZ"
      },
      "source": [
        "## 04.2 Affinity Propagation - *Adrián Landaverde Nava*\n",
        "https://scikit-learn.org/stable/modules/generated/sklearn.cluster.AffinityPropagation.html#sklearn.cluster.AffinityPropagation"
      ]
    },
    {
      "cell_type": "code",
      "execution_count": null,
      "metadata": {
        "colab": {
          "base_uri": "https://localhost:8080/"
        },
        "id": "WQZhz63gLIeU",
        "outputId": "f6576173-962e-4af2-cf9c-2d3de26df2d3"
      },
      "outputs": [
        {
          "data": {
            "text/plain": [
              "0      8\n",
              "1     19\n",
              "2     11\n",
              "3      3\n",
              "4      1\n",
              "5     15\n",
              "6      1\n",
              "7     27\n",
              "8     16\n",
              "9      1\n",
              "10    24\n",
              "11    22\n",
              "12     1\n",
              "13     4\n",
              "14     2\n",
              "15     3\n",
              "16     1\n",
              "17     7\n",
              "18     1\n",
              "19     7\n",
              "20     6\n",
              "Name: Affinity Propagation, dtype: int64"
            ]
          },
          "execution_count": 28,
          "metadata": {},
          "output_type": "execute_result"
        }
      ],
      "source": [
        "clustering = AffinityPropagation(random_state=5)\n",
        "clustering.fit(X_scaled)\n",
        "df_geometries[\"Affinity Propagation\"]=clustering.labels_\n",
        "df_geometries['Affinity Propagation'].value_counts().sort_index()"
      ]
    },
    {
      "cell_type": "code",
      "execution_count": null,
      "metadata": {
        "colab": {
          "base_uri": "https://localhost:8080/",
          "height": 542
        },
        "id": "xGTL9QgOM_4Z",
        "outputId": "af6fbd9d-ddd2-40ab-b297-192d19d4a203"
      },
      "outputs": [
        {
          "data": {
            "text/html": [
              "<html>\n",
              "<head><meta charset=\"utf-8\" /></head>\n",
              "<body>\n",
              "    <div>            <script src=\"https://cdnjs.cloudflare.com/ajax/libs/mathjax/2.7.5/MathJax.js?config=TeX-AMS-MML_SVG\"></script><script type=\"text/javascript\">if (window.MathJax) {MathJax.Hub.Config({SVG: {font: \"STIX-Web\"}});}</script>                <script type=\"text/javascript\">window.PlotlyConfig = {MathJaxConfig: 'local'};</script>\n",
              "        <script src=\"https://cdn.plot.ly/plotly-2.8.3.min.js\"></script>                <div id=\"41421b79-2941-44ef-826f-2d589fa14745\" class=\"plotly-graph-div\" style=\"height:525px; width:100%;\"></div>            <script type=\"text/javascript\">                                    window.PLOTLYENV=window.PLOTLYENV || {};                                    if (document.getElementById(\"41421b79-2941-44ef-826f-2d589fa14745\")) {                    Plotly.newPlot(                        \"41421b79-2941-44ef-826f-2d589fa14745\",                        [{\"customdata\":[[\"Afghanistan\"],[\"Albania\"],[\"Algeria\"],[\"Angola\"],[\"Antigua and Barbuda\"],[\"Argentina\"],[\"Armenia\"],[\"Australia\"],[\"Austria\"],[\"Azerbaijan\"],[\"Bahamas\"],[\"Bahrain\"],[\"Bangladesh\"],[\"Barbados\"],[\"Belarus\"],[\"Belgium\"],[\"Belize\"],[\"Benin\"],[\"Bhutan\"],[\"Bolivia (Plurinational State of)\"],[\"Bosnia and Herzegovina\"],[\"Botswana\"],[\"Brazil\"],[\"Brunei Darussalam\"],[\"Bulgaria\"],[\"Burkina Faso\"],[\"Burundi\"],[\"Cabo Verde\"],[\"Cambodia\"],[\"Cameroon\"],[\"Canada\"],[\"Central African Republic\"],[\"Chad\"],[\"Chile\"],[\"China\"],[\"Colombia\"],[\"Comoros\"],[\"Congo\"],[\"Costa Rica\"],[\"Croatia\"],[\"Cuba\"],[\"Cyprus\"],[\"Czechia\"],[\"C\\u00f4te d'Ivoire\"],[\"Democratic Republic of the Congo\"],[\"Denmark\"],[\"Djibouti\"],[\"Dominican Republic\"],[\"Ecuador\"],[\"Egypt\"],[\"El Salvador\"],[\"Equatorial Guinea\"],[\"Eritrea\"],[\"Estonia\"],[\"Ethiopia\"],[\"Fiji\"],[\"Finland\"],[\"France\"],[\"Gabon\"],[\"Gambia\"],[\"Georgia\"],[\"Germany\"],[\"Ghana\"],[\"Greece\"],[\"Grenada\"],[\"Guatemala\"],[\"Guinea\"],[\"Guinea-Bissau\"],[\"Guyana\"],[\"Haiti\"],[\"Honduras\"],[\"Hungary\"],[\"Iceland\"],[\"India\"],[\"Indonesia\"],[\"Iran (Islamic Republic of)\"],[\"Iraq\"],[\"Ireland\"],[\"Israel\"],[\"Italy\"],[\"Jamaica\"],[\"Japan\"],[\"Jordan\"],[\"Kazakhstan\"],[\"Kenya\"],[\"Kiribati\"],[\"Kuwait\"],[\"Kyrgyzstan\"],[\"Lao People's Democratic Republic\"],[\"Latvia\"],[\"Lebanon\"],[\"Lesotho\"],[\"Liberia\"],[\"Libya\"],[\"Lithuania\"],[\"Luxembourg\"],[\"Madagascar\"],[\"Malawi\"],[\"Malaysia\"],[\"Maldives\"],[\"Mali\"],[\"Malta\"],[\"Mauritania\"],[\"Mauritius\"],[\"Mexico\"],[\"Micronesia (Federated States of)\"],[\"Mongolia\"],[\"Montenegro\"],[\"Morocco\"],[\"Mozambique\"],[\"Myanmar\"],[\"Namibia\"],[\"Nepal\"],[\"Netherlands\"],[\"New Zealand\"],[\"Nicaragua\"],[\"Niger\"],[\"Nigeria\"],[\"Norway\"],[\"Oman\"],[\"Pakistan\"],[\"Panama\"],[\"Papua New Guinea\"],[\"Paraguay\"],[\"Peru\"],[\"Philippines\"],[\"Poland\"],[\"Portugal\"],[\"Qatar\"],[\"Republic of Korea\"],[\"Republic of Moldova\"],[\"Romania\"],[\"Russian Federation\"],[\"Rwanda\"],[\"Saint Lucia\"],[\"Saint Vincent and the Grenadines\"],[\"Samoa\"],[\"Sao Tome and Principe\"],[\"Saudi Arabia\"],[\"Senegal\"],[\"Serbia\"],[\"Seychelles\"],[\"Sierra Leone\"],[\"Singapore\"],[\"Slovakia\"],[\"Slovenia\"],[\"Solomon Islands\"],[\"Somalia\"],[\"South Africa\"],[\"South Sudan\"],[\"Spain\"],[\"Sri Lanka\"],[\"Sudan\"],[\"Suriname\"],[\"Swaziland\"],[\"Sweden\"],[\"Switzerland\"],[\"Syrian Arab Republic\"],[\"Tajikistan\"],[\"Thailand\"],[\"Timor-Leste\"],[\"Togo\"],[\"Tonga\"],[\"Trinidad and Tobago\"],[\"Tunisia\"],[\"Turkey\"],[\"Turkmenistan\"],[\"Uganda\"],[\"Ukraine\"],[\"United Arab Emirates\"],[\"United Kingdom of Great Britain and Northern Ireland\"],[\"United Republic of Tanzania\"],[\"United States of America\"],[\"Uruguay\"],[\"Uzbekistan\"],[\"Vanuatu\"],[\"Viet Nam\"],[\"Yemen\"],[\"Zambia\"],[\"Zimbabwe\"]],\"hovertemplate\":\"Dimension 1=%{x}<br>Dimension 2=%{y}<br>Pa\\u00eds=%{customdata[0]}<br>Affinity Propagation=%{marker.color}<extra></extra>\",\"legendgroup\":\"\",\"marker\":{\"color\":[8,11,11,8,11,11,7,0,0,7,17,11,1,7,10,5,10,1,10,7,7,20,11,17,5,1,2,7,1,2,3,8,8,7,4,7,1,8,7,5,11,5,5,2,6,13,1,7,7,11,7,8,1,11,8,11,3,3,8,10,7,0,1,17,10,7,8,1,10,8,10,15,13,9,14,11,19,0,17,5,7,13,11,10,2,7,17,10,8,5,7,20,8,11,5,0,8,20,10,10,1,5,1,10,11,7,10,7,11,2,1,2,1,0,5,10,8,12,13,11,14,7,19,7,7,1,5,5,17,11,10,5,11,1,7,10,19,10,11,1,11,10,2,0,5,15,7,8,20,8,5,10,1,7,20,0,16,19,10,10,1,2,7,19,11,7,10,2,19,17,15,2,18,11,10,19,10,1,2,20],\"coloraxis\":\"coloraxis\",\"symbol\":\"circle\"},\"mode\":\"markers\",\"name\":\"\",\"orientation\":\"v\",\"showlegend\":false,\"x\":[3.1355698720993086,-1.5280065108383176,-0.787465071640448,3.921703424178189,-1.3431384875283316,-1.3322966495036512,-0.661622660200908,-3.848459968881046,-3.5202719687265827,-0.08732414751233548,-1.726968081327306,-1.8467240390895252,1.029330530305646,-1.0398719514834973,-0.559153261953605,-3.0676664528476176,-0.6035558929729951,2.2093015053693157,0.4727179660182285,0.018860884323062557,-0.6185482489800992,1.8334541984035315,-0.7382777488434477,-1.727196987322198,-1.820806085558006,2.250298878716569,1.7065966010661762,0.07560114915127249,1.449483989586468,2.5723009044435554,-2.756042025929702,4.262160829012826,4.358782365823835,-1.4105554390181414,2.0006768600907447,-0.4369070548673102,1.7508828629230901,3.1358199673474587,-0.7240569958666034,-2.401303770129874,-1.5695259608340801,-2.871874247098133,-2.607979382944055,3.305533122445296,5.20580446722758,-3.465579571759469,1.5483936793896462,-0.16827218458255516,-0.3872547061368202,-0.46162753332870227,-0.36139678344759973,3.676509671858723,1.4305262372723648,-1.3357199907530761,3.923911078953306,-0.8788804268292734,-2.5276470645222417,-2.7912059950024073,2.156590953822341,0.9434202463065042,-0.44330967992192705,-3.2445397502021978,1.4921635822085384,-2.3458947577785554,-0.9111416891971772,-0.036742790736014906,3.076014127046609,1.8316801726574692,0.18372464702620417,2.0852099691068955,-0.7202171134667822,-1.8995004696482929,-3.5064482115418545,8.476218197319097,2.3723341146868018,-0.9676228150610345,0.8227053144937663,-3.554503761598759,-2.265247514987486,-3.374977886580358,-0.6330406949851853,-2.7077153475963036,-1.2179062780759027,-0.3745755806655614,2.977460092112936,-0.19986639457838523,-2.6212201113807136,-0.30408316805219554,2.027569459861667,-1.8448007336245538,-0.4502810532764254,4.038643517356648,2.83741688675838,-1.1682067189983814,-1.904057713394501,-5.103261250100746,2.444222927165797,3.213399542183604,-0.7374400465148963,-0.9045157797401193,2.383465995600022,-2.71001462366783,1.703976552436664,-0.5821532564839205,-1.1669676093834462,-0.47099707572836746,-0.22728805333128202,-0.7830180714771818,-0.9436156479249931,3.0783179444543642,1.525659736887277,1.7869504762905293,1.3970672621933107,-3.778570161653645,-2.5395952488201736,-0.5185304774794168,3.277862459737541,7.074963035592919,-3.31023170285299,-1.551101214520749,2.8863426897754163,-0.7995101056208302,1.6341655511465667,-0.2685280664644051,-0.38643914066585955,1.4204665774518455,-2.185255875970969,-2.6628328792682456,-3.050254420194489,-1.2301114164083808,-0.0013320567151020879,-1.7228399770905078,-0.5270306045398561,1.3111046649108375,-0.5043538556503553,-0.9933124089268333,0.20574374922802993,0.25302056468358114,-1.806782067319208,1.258200389229251,-1.1356629996178738,-0.7610065531307451,2.7988020881737725,-3.0326959173265715,-2.259222681265439,-2.4325952945476206,0.08702325392029543,4.348046693900081,3.0339310056233186,3.5874187777838578,-3.2562089582262193,-0.34043099147859057,1.7401151761520062,-0.260297467280613,3.031129566611832,-3.9689523335700403,-5.245640465572309,0.8867068984198122,0.17596507638368347,-0.31354158851310043,1.5984009951112552,2.322487407381165,-0.3830852395650792,0.2991004666287055,-1.5906287981334968,-0.476590747237978,-0.1581769749588479,3.4106525812427924,0.4450246637946391,-2.2571025417635893,-2.8444085590732175,2.6293801020117153,-2.5096593493085235,-1.3247438495285158,-0.3041622899379234,0.5900203931524038,0.24388456239100043,1.3508905247505556,3.252555018215599,3.7479425807734987],\"xaxis\":\"x\",\"y\":[-0.3496835592873845,-0.43790140113385484,0.002555767193031884,-0.562882477444299,-0.43322618205894314,-0.021102314781041073,-0.5691355639347022,1.2986034572725513,1.3032533017568402,-0.34525401373469206,-0.13261661633346045,-0.2645455726247601,1.1229421930589731,-0.2780209869584386,-0.7240110422141943,0.7381958196165453,-0.7571069960515134,-0.9006263889611003,-1.077448709907865,-0.62092677425289,-0.29202939327243677,-2.087477810793761,0.8348823256291045,-0.09354555259598535,0.007929057329864831,-0.6281211504283258,-1.242213435955885,-0.6336353395260017,-0.7488554796572789,-0.8434055600321145,1.21883953276723,-1.4849464014523155,-0.5192844550757305,0.02862951671439502,4.786493116776548,-0.048713233602871886,-1.109687388433828,-0.6141968902114402,-0.21048865665387376,0.16930323111001475,-0.25657805767711434,0.3849696941186676,0.30024596872435144,-0.9494660560346239,3.59457945330217,1.850567307421864,-1.2655920893086143,-0.4217393517708837,-0.41049014350894686,0.5413150770203927,-0.6258507036078885,-0.8582637544385392,-1.2959461998775104,-0.4344585815947393,0.9528184073929841,-0.7229353705876133,1.0228451615714038,1.2014220005380172,-1.065925383926559,-1.300261191287965,-0.45620164815603503,1.4755955652922137,-0.3729407320265014,0.11873525355115509,-0.6299979773023013,-0.5001374324788673,-0.8688674056184619,-1.15162802152258,-0.9634854625439924,-0.6400581686797172,-0.673641325625762,0.6024189643009357,1.8013749720348808,16.96537635724138,2.3228219834122084,0.49670728313198187,0.04612739018622343,1.2073442677593542,0.08133574707117003,1.157075383211292,-0.6076438340123566,1.858913107760388,-0.5353130343996146,-0.7640893907575569,-0.8529193963918716,-0.6617836060714625,0.1949572795417387,-0.6875157760856099,-0.7495800742548614,-0.06821210894689143,-0.2447130538479336,-2.686632276138108,-0.9796232260623743,-0.5271903732804472,0.037598598238102354,1.8633125929440564,-0.17950055675931992,-1.6266988603291863,-0.4029827498532027,-0.5173578501885319,-0.5516541999517918,0.44614590411986255,-0.7251482988835594,-0.70278618289162,0.11931864104789393,-0.6364042575577852,-0.8860930047286081,-0.1640303922268295,-0.05495207632651138,-0.626153455944795,-0.05985177994677406,-1.6527261389400034,-0.17475394289344096,1.5091856967209898,0.7522250722684177,-0.6971234421499891,0.20552607067227496,6.568278033626715,1.6969231807232599,-0.3964021090416209,2.947499784455534,-0.3404728729959492,-0.7765453287253693,-0.568438431895315,-0.27720440140053293,0.37212755594081065,0.1614119147312432,0.433657346544434,0.5051542301267797,0.5591626024235048,-0.8697960272334635,0.023828990094240634,0.006925081435265831,-1.2038903801177518,-0.5665343497151843,-0.6441664851615476,-0.3878978601326476,-0.9280690525881914,-0.1532050106363604,-0.6385982539442255,-0.49473236943507737,-0.6938742953845494,-1.4345002429736184,0.7903456450309576,-0.00437496443306195,1.0000767847175267,-0.7287141431113935,-0.5929758921457313,-1.1661986573201786,-1.0121876182269332,0.9406904902271065,-0.6597281638711493,-0.1696468597900384,-0.6735196409212362,-2.539693454719436,1.3812776552953014,2.888951664412913,-0.4546822494873016,-0.7568436771566236,-0.1392257540620755,-0.9119063603128451,-1.3105579705899968,-0.5122991197057375,-0.4179258802078984,-0.3108502732506977,0.31921122553908166,-0.932991313926283,-0.02975825679969713,-0.24746119587295481,0.09542911110290613,2.109811615411318,-0.16570944102129345,4.367355009179579,-0.40176368354350617,-0.7499304128898012,-0.4851228917699803,0.62880886692032,-0.3697550089704127,-1.201203462399418,-2.181071745105928],\"yaxis\":\"y\",\"type\":\"scatter\"}],                        {\"template\":{\"data\":{\"bar\":[{\"error_x\":{\"color\":\"#2a3f5f\"},\"error_y\":{\"color\":\"#2a3f5f\"},\"marker\":{\"line\":{\"color\":\"#E5ECF6\",\"width\":0.5},\"pattern\":{\"fillmode\":\"overlay\",\"size\":10,\"solidity\":0.2}},\"type\":\"bar\"}],\"barpolar\":[{\"marker\":{\"line\":{\"color\":\"#E5ECF6\",\"width\":0.5},\"pattern\":{\"fillmode\":\"overlay\",\"size\":10,\"solidity\":0.2}},\"type\":\"barpolar\"}],\"carpet\":[{\"aaxis\":{\"endlinecolor\":\"#2a3f5f\",\"gridcolor\":\"white\",\"linecolor\":\"white\",\"minorgridcolor\":\"white\",\"startlinecolor\":\"#2a3f5f\"},\"baxis\":{\"endlinecolor\":\"#2a3f5f\",\"gridcolor\":\"white\",\"linecolor\":\"white\",\"minorgridcolor\":\"white\",\"startlinecolor\":\"#2a3f5f\"},\"type\":\"carpet\"}],\"choropleth\":[{\"colorbar\":{\"outlinewidth\":0,\"ticks\":\"\"},\"type\":\"choropleth\"}],\"contour\":[{\"colorbar\":{\"outlinewidth\":0,\"ticks\":\"\"},\"colorscale\":[[0.0,\"#0d0887\"],[0.1111111111111111,\"#46039f\"],[0.2222222222222222,\"#7201a8\"],[0.3333333333333333,\"#9c179e\"],[0.4444444444444444,\"#bd3786\"],[0.5555555555555556,\"#d8576b\"],[0.6666666666666666,\"#ed7953\"],[0.7777777777777778,\"#fb9f3a\"],[0.8888888888888888,\"#fdca26\"],[1.0,\"#f0f921\"]],\"type\":\"contour\"}],\"contourcarpet\":[{\"colorbar\":{\"outlinewidth\":0,\"ticks\":\"\"},\"type\":\"contourcarpet\"}],\"heatmap\":[{\"colorbar\":{\"outlinewidth\":0,\"ticks\":\"\"},\"colorscale\":[[0.0,\"#0d0887\"],[0.1111111111111111,\"#46039f\"],[0.2222222222222222,\"#7201a8\"],[0.3333333333333333,\"#9c179e\"],[0.4444444444444444,\"#bd3786\"],[0.5555555555555556,\"#d8576b\"],[0.6666666666666666,\"#ed7953\"],[0.7777777777777778,\"#fb9f3a\"],[0.8888888888888888,\"#fdca26\"],[1.0,\"#f0f921\"]],\"type\":\"heatmap\"}],\"heatmapgl\":[{\"colorbar\":{\"outlinewidth\":0,\"ticks\":\"\"},\"colorscale\":[[0.0,\"#0d0887\"],[0.1111111111111111,\"#46039f\"],[0.2222222222222222,\"#7201a8\"],[0.3333333333333333,\"#9c179e\"],[0.4444444444444444,\"#bd3786\"],[0.5555555555555556,\"#d8576b\"],[0.6666666666666666,\"#ed7953\"],[0.7777777777777778,\"#fb9f3a\"],[0.8888888888888888,\"#fdca26\"],[1.0,\"#f0f921\"]],\"type\":\"heatmapgl\"}],\"histogram\":[{\"marker\":{\"pattern\":{\"fillmode\":\"overlay\",\"size\":10,\"solidity\":0.2}},\"type\":\"histogram\"}],\"histogram2d\":[{\"colorbar\":{\"outlinewidth\":0,\"ticks\":\"\"},\"colorscale\":[[0.0,\"#0d0887\"],[0.1111111111111111,\"#46039f\"],[0.2222222222222222,\"#7201a8\"],[0.3333333333333333,\"#9c179e\"],[0.4444444444444444,\"#bd3786\"],[0.5555555555555556,\"#d8576b\"],[0.6666666666666666,\"#ed7953\"],[0.7777777777777778,\"#fb9f3a\"],[0.8888888888888888,\"#fdca26\"],[1.0,\"#f0f921\"]],\"type\":\"histogram2d\"}],\"histogram2dcontour\":[{\"colorbar\":{\"outlinewidth\":0,\"ticks\":\"\"},\"colorscale\":[[0.0,\"#0d0887\"],[0.1111111111111111,\"#46039f\"],[0.2222222222222222,\"#7201a8\"],[0.3333333333333333,\"#9c179e\"],[0.4444444444444444,\"#bd3786\"],[0.5555555555555556,\"#d8576b\"],[0.6666666666666666,\"#ed7953\"],[0.7777777777777778,\"#fb9f3a\"],[0.8888888888888888,\"#fdca26\"],[1.0,\"#f0f921\"]],\"type\":\"histogram2dcontour\"}],\"mesh3d\":[{\"colorbar\":{\"outlinewidth\":0,\"ticks\":\"\"},\"type\":\"mesh3d\"}],\"parcoords\":[{\"line\":{\"colorbar\":{\"outlinewidth\":0,\"ticks\":\"\"}},\"type\":\"parcoords\"}],\"pie\":[{\"automargin\":true,\"type\":\"pie\"}],\"scatter\":[{\"marker\":{\"colorbar\":{\"outlinewidth\":0,\"ticks\":\"\"}},\"type\":\"scatter\"}],\"scatter3d\":[{\"line\":{\"colorbar\":{\"outlinewidth\":0,\"ticks\":\"\"}},\"marker\":{\"colorbar\":{\"outlinewidth\":0,\"ticks\":\"\"}},\"type\":\"scatter3d\"}],\"scattercarpet\":[{\"marker\":{\"colorbar\":{\"outlinewidth\":0,\"ticks\":\"\"}},\"type\":\"scattercarpet\"}],\"scattergeo\":[{\"marker\":{\"colorbar\":{\"outlinewidth\":0,\"ticks\":\"\"}},\"type\":\"scattergeo\"}],\"scattergl\":[{\"marker\":{\"colorbar\":{\"outlinewidth\":0,\"ticks\":\"\"}},\"type\":\"scattergl\"}],\"scattermapbox\":[{\"marker\":{\"colorbar\":{\"outlinewidth\":0,\"ticks\":\"\"}},\"type\":\"scattermapbox\"}],\"scatterpolar\":[{\"marker\":{\"colorbar\":{\"outlinewidth\":0,\"ticks\":\"\"}},\"type\":\"scatterpolar\"}],\"scatterpolargl\":[{\"marker\":{\"colorbar\":{\"outlinewidth\":0,\"ticks\":\"\"}},\"type\":\"scatterpolargl\"}],\"scatterternary\":[{\"marker\":{\"colorbar\":{\"outlinewidth\":0,\"ticks\":\"\"}},\"type\":\"scatterternary\"}],\"surface\":[{\"colorbar\":{\"outlinewidth\":0,\"ticks\":\"\"},\"colorscale\":[[0.0,\"#0d0887\"],[0.1111111111111111,\"#46039f\"],[0.2222222222222222,\"#7201a8\"],[0.3333333333333333,\"#9c179e\"],[0.4444444444444444,\"#bd3786\"],[0.5555555555555556,\"#d8576b\"],[0.6666666666666666,\"#ed7953\"],[0.7777777777777778,\"#fb9f3a\"],[0.8888888888888888,\"#fdca26\"],[1.0,\"#f0f921\"]],\"type\":\"surface\"}],\"table\":[{\"cells\":{\"fill\":{\"color\":\"#EBF0F8\"},\"line\":{\"color\":\"white\"}},\"header\":{\"fill\":{\"color\":\"#C8D4E3\"},\"line\":{\"color\":\"white\"}},\"type\":\"table\"}]},\"layout\":{\"annotationdefaults\":{\"arrowcolor\":\"#2a3f5f\",\"arrowhead\":0,\"arrowwidth\":1},\"autotypenumbers\":\"strict\",\"coloraxis\":{\"colorbar\":{\"outlinewidth\":0,\"ticks\":\"\"}},\"colorscale\":{\"diverging\":[[0,\"#8e0152\"],[0.1,\"#c51b7d\"],[0.2,\"#de77ae\"],[0.3,\"#f1b6da\"],[0.4,\"#fde0ef\"],[0.5,\"#f7f7f7\"],[0.6,\"#e6f5d0\"],[0.7,\"#b8e186\"],[0.8,\"#7fbc41\"],[0.9,\"#4d9221\"],[1,\"#276419\"]],\"sequential\":[[0.0,\"#0d0887\"],[0.1111111111111111,\"#46039f\"],[0.2222222222222222,\"#7201a8\"],[0.3333333333333333,\"#9c179e\"],[0.4444444444444444,\"#bd3786\"],[0.5555555555555556,\"#d8576b\"],[0.6666666666666666,\"#ed7953\"],[0.7777777777777778,\"#fb9f3a\"],[0.8888888888888888,\"#fdca26\"],[1.0,\"#f0f921\"]],\"sequentialminus\":[[0.0,\"#0d0887\"],[0.1111111111111111,\"#46039f\"],[0.2222222222222222,\"#7201a8\"],[0.3333333333333333,\"#9c179e\"],[0.4444444444444444,\"#bd3786\"],[0.5555555555555556,\"#d8576b\"],[0.6666666666666666,\"#ed7953\"],[0.7777777777777778,\"#fb9f3a\"],[0.8888888888888888,\"#fdca26\"],[1.0,\"#f0f921\"]]},\"colorway\":[\"#636efa\",\"#EF553B\",\"#00cc96\",\"#ab63fa\",\"#FFA15A\",\"#19d3f3\",\"#FF6692\",\"#B6E880\",\"#FF97FF\",\"#FECB52\"],\"font\":{\"color\":\"#2a3f5f\"},\"geo\":{\"bgcolor\":\"white\",\"lakecolor\":\"white\",\"landcolor\":\"#E5ECF6\",\"showlakes\":true,\"showland\":true,\"subunitcolor\":\"white\"},\"hoverlabel\":{\"align\":\"left\"},\"hovermode\":\"closest\",\"mapbox\":{\"style\":\"light\"},\"paper_bgcolor\":\"white\",\"plot_bgcolor\":\"#E5ECF6\",\"polar\":{\"angularaxis\":{\"gridcolor\":\"white\",\"linecolor\":\"white\",\"ticks\":\"\"},\"bgcolor\":\"#E5ECF6\",\"radialaxis\":{\"gridcolor\":\"white\",\"linecolor\":\"white\",\"ticks\":\"\"}},\"scene\":{\"xaxis\":{\"backgroundcolor\":\"#E5ECF6\",\"gridcolor\":\"white\",\"gridwidth\":2,\"linecolor\":\"white\",\"showbackground\":true,\"ticks\":\"\",\"zerolinecolor\":\"white\"},\"yaxis\":{\"backgroundcolor\":\"#E5ECF6\",\"gridcolor\":\"white\",\"gridwidth\":2,\"linecolor\":\"white\",\"showbackground\":true,\"ticks\":\"\",\"zerolinecolor\":\"white\"},\"zaxis\":{\"backgroundcolor\":\"#E5ECF6\",\"gridcolor\":\"white\",\"gridwidth\":2,\"linecolor\":\"white\",\"showbackground\":true,\"ticks\":\"\",\"zerolinecolor\":\"white\"}},\"shapedefaults\":{\"line\":{\"color\":\"#2a3f5f\"}},\"ternary\":{\"aaxis\":{\"gridcolor\":\"white\",\"linecolor\":\"white\",\"ticks\":\"\"},\"baxis\":{\"gridcolor\":\"white\",\"linecolor\":\"white\",\"ticks\":\"\"},\"bgcolor\":\"#E5ECF6\",\"caxis\":{\"gridcolor\":\"white\",\"linecolor\":\"white\",\"ticks\":\"\"}},\"title\":{\"x\":0.05},\"xaxis\":{\"automargin\":true,\"gridcolor\":\"white\",\"linecolor\":\"white\",\"ticks\":\"\",\"title\":{\"standoff\":15},\"zerolinecolor\":\"white\",\"zerolinewidth\":2},\"yaxis\":{\"automargin\":true,\"gridcolor\":\"white\",\"linecolor\":\"white\",\"ticks\":\"\",\"title\":{\"standoff\":15},\"zerolinecolor\":\"white\",\"zerolinewidth\":2}}},\"xaxis\":{\"anchor\":\"y\",\"domain\":[0.0,1.0],\"title\":{\"text\":\"Dimension 1\"}},\"yaxis\":{\"anchor\":\"x\",\"domain\":[0.0,1.0],\"title\":{\"text\":\"Dimension 2\"}},\"coloraxis\":{\"colorbar\":{\"title\":{\"text\":\"Affinity Propagation\"}},\"colorscale\":[[0.0,\"#0d0887\"],[0.1111111111111111,\"#46039f\"],[0.2222222222222222,\"#7201a8\"],[0.3333333333333333,\"#9c179e\"],[0.4444444444444444,\"#bd3786\"],[0.5555555555555556,\"#d8576b\"],[0.6666666666666666,\"#ed7953\"],[0.7777777777777778,\"#fb9f3a\"],[0.8888888888888888,\"#fdca26\"],[1.0,\"#f0f921\"]]},\"legend\":{\"tracegroupgap\":0},\"margin\":{\"t\":60}},                        {\"responsive\": true}                    ).then(function(){\n",
              "                            \n",
              "var gd = document.getElementById('41421b79-2941-44ef-826f-2d589fa14745');\n",
              "var x = new MutationObserver(function (mutations, observer) {{\n",
              "        var display = window.getComputedStyle(gd).display;\n",
              "        if (!display || display === 'none') {{\n",
              "            console.log([gd, 'removed!']);\n",
              "            Plotly.purge(gd);\n",
              "            observer.disconnect();\n",
              "        }}\n",
              "}});\n",
              "\n",
              "// Listen for the removal of the full notebook cells\n",
              "var notebookContainer = gd.closest('#notebook-container');\n",
              "if (notebookContainer) {{\n",
              "    x.observe(notebookContainer, {childList: true});\n",
              "}}\n",
              "\n",
              "// Listen for the clearing of the current output cell\n",
              "var outputEl = gd.closest('.output');\n",
              "if (outputEl) {{\n",
              "    x.observe(outputEl, {childList: true});\n",
              "}}\n",
              "\n",
              "                        })                };                            </script>        </div>\n",
              "</body>\n",
              "</html>"
            ]
          },
          "metadata": {},
          "output_type": "display_data"
        }
      ],
      "source": [
        "fig = px.scatter(df_geometries, x=\"Dimension 1\", y=\"Dimension 2\", color=\"Affinity Propagation\",\n",
        "                 hover_data=['País'])\n",
        "fig.show()"
      ]
    },
    {
      "cell_type": "code",
      "execution_count": null,
      "metadata": {
        "colab": {
          "base_uri": "https://localhost:8080/"
        },
        "id": "W4WY_FfKvHMj",
        "outputId": "db5fd66e-8146-4c29-ee4d-e627fb9c1c98"
      },
      "outputs": [
        {
          "data": {
            "text/plain": [
              "0.25183584181868046"
            ]
          },
          "execution_count": 30,
          "metadata": {},
          "output_type": "execute_result"
        }
      ],
      "source": [
        "metrics.silhouette_score(X_scaled, clustering.labels_, metric='euclidean')"
      ]
    },
    {
      "cell_type": "markdown",
      "metadata": {
        "id": "yFrZfRLFGw7_"
      },
      "source": [
        "## 04.3 Spectral clustering - *Naomi Padilla Mora*\n",
        "https://scikit-learn.org/stable/modules/generated/sklearn.cluster.SpectralClustering.html#sklearn.cluster.SpectralClustering"
      ]
    },
    {
      "cell_type": "markdown",
      "metadata": {
        "id": "DpN68QAVcNGW"
      },
      "source": [
        "Para conocer el número de clusters a implementar en el Spectral clustering se utilizó el método del codo, mismo que se observa en el apartado 4.1.1, con la diferencia que para este se utilizará el X_scaled_pca puesto que es necesario aplicar la reducción de dimensiones antes que llevar a cabo el método."
      ]
    },
    {
      "cell_type": "code",
      "execution_count": null,
      "metadata": {
        "id": "MbinP7tCHvyh"
      },
      "outputs": [],
      "source": [
        "kmeans_kwargs = {\n",
        "     \"init\": \"random\",\n",
        "     \"n_init\": 10,\n",
        "     \"max_iter\": 300,\n",
        "     \"random_state\": 42,}\n",
        "\n",
        " # A list holds the SSE values for each k\n",
        "sse = []\n",
        "for k in range(1, 11):\n",
        "  kmeans = KMeans(n_clusters=k, **kmeans_kwargs)\n",
        "  kmeans.fit(X_scaled_pca)\n",
        "  sse.append(kmeans.inertia_)"
      ]
    },
    {
      "cell_type": "code",
      "execution_count": null,
      "metadata": {
        "colab": {
          "base_uri": "https://localhost:8080/",
          "height": 304
        },
        "id": "MFBfZ1cWH5D8",
        "outputId": "6bab7c0b-a5cb-406a-cf3e-5fc1e81a7799"
      },
      "outputs": [
        {
          "data": {
            "image/png": "[encoded data removed]",
            "text/plain": [
              "<Figure size 432x288 with 1 Axes>"
            ]
          },
          "metadata": {},
          "output_type": "display_data"
        }
      ],
      "source": [
        "plt.style.use(\"fivethirtyeight\")\n",
        "plt.plot(range(1, 11), sse)\n",
        "plt.xticks(range(1, 11))\n",
        "plt.xlabel(\"Number of Clusters\")\n",
        "plt.ylabel(\"SSE\")\n",
        "plt.show()"
      ]
    },
    {
      "cell_type": "code",
      "execution_count": null,
      "metadata": {
        "colab": {
          "base_uri": "https://localhost:8080/"
        },
        "id": "m8l5KkbBH5D-",
        "outputId": "3b2e919f-ce38-4581-ccd7-7591e807f6b7"
      },
      "outputs": [
        {
          "data": {
            "text/plain": [
              "4"
            ]
          },
          "execution_count": 33,
          "metadata": {},
          "output_type": "execute_result"
        }
      ],
      "source": [
        "kl = KneeLocator(\n",
        "  range(1, 11), sse, curve=\"convex\", direction=\"decreasing\")\n",
        "\n",
        "kl.elbow"
      ]
    },
    {
      "cell_type": "code",
      "execution_count": null,
      "metadata": {
        "colab": {
          "base_uri": "https://localhost:8080/"
        },
        "id": "7VOMhGijIy52",
        "outputId": "0dbeccbc-cf59-416a-c0a8-e734ec951542"
      },
      "outputs": [
        {
          "data": {
            "text/plain": [
              "array([0, 0, 0, 0, 0, 0, 0, 3, 3, 0, 0, 0, 0, 0, 0, 3, 0, 0, 0, 0, 0, 0,\n",
              "       0, 0, 0, 0, 0, 0, 0, 0, 3, 0, 0, 0, 2, 0, 0, 0, 0, 0, 0, 3, 3, 0,\n",
              "       2, 3, 0, 0, 0, 0, 0, 0, 0, 0, 0, 0, 3, 3, 0, 0, 0, 3, 0, 0, 0, 0,\n",
              "       0, 0, 0, 0, 0, 0, 3, 1, 2, 0, 0, 3, 0, 3, 0, 3, 0, 0, 0, 0, 3, 0,\n",
              "       0, 0, 0, 0, 0, 0, 0, 3, 0, 0, 0, 0, 0, 3, 0, 0, 0, 0, 0, 0, 0, 0,\n",
              "       0, 0, 0, 3, 3, 0, 0, 2, 3, 0, 2, 0, 0, 0, 0, 0, 0, 3, 3, 0, 0, 0,\n",
              "       0, 0, 0, 0, 0, 0, 0, 0, 0, 0, 0, 3, 0, 3, 0, 0, 0, 0, 3, 0, 0, 0,\n",
              "       0, 3, 3, 0, 0, 0, 0, 0, 0, 0, 0, 0, 0, 0, 0, 0, 3, 0, 3, 0, 0, 0,\n",
              "       0, 0, 0, 0], dtype=int32)"
            ]
          },
          "execution_count": 34,
          "metadata": {},
          "output_type": "execute_result"
        }
      ],
      "source": [
        "clusterings = SpectralClustering(n_clusters=4,assign_labels='kmeans',random_state=0).fit(X_scaled_pca)\n",
        "clusterings.labels_"
      ]
    },
    {
      "cell_type": "code",
      "execution_count": null,
      "metadata": {
        "colab": {
          "base_uri": "https://localhost:8080/"
        },
        "id": "eMLVIc6dNxNL",
        "outputId": "4fd6b7a7-8cc4-4846-c20d-8406d85574b4"
      },
      "outputs": [
        {
          "data": {
            "text/plain": [
              "0    145\n",
              "1      1\n",
              "2      5\n",
              "3     29\n",
              "Name: Spectral Clustering, dtype: int64"
            ]
          },
          "execution_count": 35,
          "metadata": {},
          "output_type": "execute_result"
        }
      ],
      "source": [
        "df_geometries[\"Spectral Clustering\"]=clusterings.labels_\n",
        "df_geometries['Spectral Clustering'].value_counts().sort_index()"
      ]
    },
    {
      "cell_type": "code",
      "execution_count": null,
      "metadata": {
        "colab": {
          "base_uri": "https://localhost:8080/",
          "height": 542
        },
        "id": "L3xcPU6FOAjt",
        "outputId": "e69124df-8c11-4f8c-f7d8-708c6ea6ec52"
      },
      "outputs": [
        {
          "data": {
            "text/html": [
              "<html>\n",
              "<head><meta charset=\"utf-8\" /></head>\n",
              "<body>\n",
              "    <div>            <script src=\"https://cdnjs.cloudflare.com/ajax/libs/mathjax/2.7.5/MathJax.js?config=TeX-AMS-MML_SVG\"></script><script type=\"text/javascript\">if (window.MathJax) {MathJax.Hub.Config({SVG: {font: \"STIX-Web\"}});}</script>                <script type=\"text/javascript\">window.PlotlyConfig = {MathJaxConfig: 'local'};</script>\n",
              "        <script src=\"https://cdn.plot.ly/plotly-2.8.3.min.js\"></script>                <div id=\"b7ae3c83-495d-46f0-b982-0a9c0c7fa83a\" class=\"plotly-graph-div\" style=\"height:525px; width:100%;\"></div>            <script type=\"text/javascript\">                                    window.PLOTLYENV=window.PLOTLYENV || {};                                    if (document.getElementById(\"b7ae3c83-495d-46f0-b982-0a9c0c7fa83a\")) {                    Plotly.newPlot(                        \"b7ae3c83-495d-46f0-b982-0a9c0c7fa83a\",                        [{\"customdata\":[[\"Afghanistan\"],[\"Albania\"],[\"Algeria\"],[\"Angola\"],[\"Antigua and Barbuda\"],[\"Argentina\"],[\"Armenia\"],[\"Australia\"],[\"Austria\"],[\"Azerbaijan\"],[\"Bahamas\"],[\"Bahrain\"],[\"Bangladesh\"],[\"Barbados\"],[\"Belarus\"],[\"Belgium\"],[\"Belize\"],[\"Benin\"],[\"Bhutan\"],[\"Bolivia (Plurinational State of)\"],[\"Bosnia and Herzegovina\"],[\"Botswana\"],[\"Brazil\"],[\"Brunei Darussalam\"],[\"Bulgaria\"],[\"Burkina Faso\"],[\"Burundi\"],[\"Cabo Verde\"],[\"Cambodia\"],[\"Cameroon\"],[\"Canada\"],[\"Central African Republic\"],[\"Chad\"],[\"Chile\"],[\"China\"],[\"Colombia\"],[\"Comoros\"],[\"Congo\"],[\"Costa Rica\"],[\"Croatia\"],[\"Cuba\"],[\"Cyprus\"],[\"Czechia\"],[\"C\\u00f4te d'Ivoire\"],[\"Democratic Republic of the Congo\"],[\"Denmark\"],[\"Djibouti\"],[\"Dominican Republic\"],[\"Ecuador\"],[\"Egypt\"],[\"El Salvador\"],[\"Equatorial Guinea\"],[\"Eritrea\"],[\"Estonia\"],[\"Ethiopia\"],[\"Fiji\"],[\"Finland\"],[\"France\"],[\"Gabon\"],[\"Gambia\"],[\"Georgia\"],[\"Germany\"],[\"Ghana\"],[\"Greece\"],[\"Grenada\"],[\"Guatemala\"],[\"Guinea\"],[\"Guinea-Bissau\"],[\"Guyana\"],[\"Haiti\"],[\"Honduras\"],[\"Hungary\"],[\"Iceland\"],[\"India\"],[\"Indonesia\"],[\"Iran (Islamic Republic of)\"],[\"Iraq\"],[\"Ireland\"],[\"Israel\"],[\"Italy\"],[\"Jamaica\"],[\"Japan\"],[\"Jordan\"],[\"Kazakhstan\"],[\"Kenya\"],[\"Kiribati\"],[\"Kuwait\"],[\"Kyrgyzstan\"],[\"Lao People's Democratic Republic\"],[\"Latvia\"],[\"Lebanon\"],[\"Lesotho\"],[\"Liberia\"],[\"Libya\"],[\"Lithuania\"],[\"Luxembourg\"],[\"Madagascar\"],[\"Malawi\"],[\"Malaysia\"],[\"Maldives\"],[\"Mali\"],[\"Malta\"],[\"Mauritania\"],[\"Mauritius\"],[\"Mexico\"],[\"Micronesia (Federated States of)\"],[\"Mongolia\"],[\"Montenegro\"],[\"Morocco\"],[\"Mozambique\"],[\"Myanmar\"],[\"Namibia\"],[\"Nepal\"],[\"Netherlands\"],[\"New Zealand\"],[\"Nicaragua\"],[\"Niger\"],[\"Nigeria\"],[\"Norway\"],[\"Oman\"],[\"Pakistan\"],[\"Panama\"],[\"Papua New Guinea\"],[\"Paraguay\"],[\"Peru\"],[\"Philippines\"],[\"Poland\"],[\"Portugal\"],[\"Qatar\"],[\"Republic of Korea\"],[\"Republic of Moldova\"],[\"Romania\"],[\"Russian Federation\"],[\"Rwanda\"],[\"Saint Lucia\"],[\"Saint Vincent and the Grenadines\"],[\"Samoa\"],[\"Sao Tome and Principe\"],[\"Saudi Arabia\"],[\"Senegal\"],[\"Serbia\"],[\"Seychelles\"],[\"Sierra Leone\"],[\"Singapore\"],[\"Slovakia\"],[\"Slovenia\"],[\"Solomon Islands\"],[\"Somalia\"],[\"South Africa\"],[\"South Sudan\"],[\"Spain\"],[\"Sri Lanka\"],[\"Sudan\"],[\"Suriname\"],[\"Swaziland\"],[\"Sweden\"],[\"Switzerland\"],[\"Syrian Arab Republic\"],[\"Tajikistan\"],[\"Thailand\"],[\"Timor-Leste\"],[\"Togo\"],[\"Tonga\"],[\"Trinidad and Tobago\"],[\"Tunisia\"],[\"Turkey\"],[\"Turkmenistan\"],[\"Uganda\"],[\"Ukraine\"],[\"United Arab Emirates\"],[\"United Kingdom of Great Britain and Northern Ireland\"],[\"United Republic of Tanzania\"],[\"United States of America\"],[\"Uruguay\"],[\"Uzbekistan\"],[\"Vanuatu\"],[\"Viet Nam\"],[\"Yemen\"],[\"Zambia\"],[\"Zimbabwe\"]],\"hovertemplate\":\"Dimension 1=%{x}<br>Dimension 2=%{y}<br>Pa\\u00eds=%{customdata[0]}<br>Spectral Clustering=%{marker.color}<extra></extra>\",\"legendgroup\":\"\",\"marker\":{\"color\":[0,0,0,0,0,0,0,3,3,0,0,0,0,0,0,3,0,0,0,0,0,0,0,0,0,0,0,0,0,0,3,0,0,0,2,0,0,0,0,0,0,3,3,0,2,3,0,0,0,0,0,0,0,0,0,0,3,3,0,0,0,3,0,0,0,0,0,0,0,0,0,0,3,1,2,0,0,3,0,3,0,3,0,0,0,0,3,0,0,0,0,0,0,0,0,3,0,0,0,0,0,3,0,0,0,0,0,0,0,0,0,0,0,3,3,0,0,2,3,0,2,0,0,0,0,0,0,3,3,0,0,0,0,0,0,0,0,0,0,0,0,0,0,3,0,3,0,0,0,0,3,0,0,0,0,3,3,0,0,0,0,0,0,0,0,0,0,0,0,0,3,0,3,0,0,0,0,0,0,0],\"coloraxis\":\"coloraxis\",\"symbol\":\"circle\"},\"mode\":\"markers\",\"name\":\"\",\"orientation\":\"v\",\"showlegend\":false,\"x\":[3.1355698720993086,-1.5280065108383176,-0.787465071640448,3.921703424178189,-1.3431384875283316,-1.3322966495036512,-0.661622660200908,-3.848459968881046,-3.5202719687265827,-0.08732414751233548,-1.726968081327306,-1.8467240390895252,1.029330530305646,-1.0398719514834973,-0.559153261953605,-3.0676664528476176,-0.6035558929729951,2.2093015053693157,0.4727179660182285,0.018860884323062557,-0.6185482489800992,1.8334541984035315,-0.7382777488434477,-1.727196987322198,-1.820806085558006,2.250298878716569,1.7065966010661762,0.07560114915127249,1.449483989586468,2.5723009044435554,-2.756042025929702,4.262160829012826,4.358782365823835,-1.4105554390181414,2.0006768600907447,-0.4369070548673102,1.7508828629230901,3.1358199673474587,-0.7240569958666034,-2.401303770129874,-1.5695259608340801,-2.871874247098133,-2.607979382944055,3.305533122445296,5.20580446722758,-3.465579571759469,1.5483936793896462,-0.16827218458255516,-0.3872547061368202,-0.46162753332870227,-0.36139678344759973,3.676509671858723,1.4305262372723648,-1.3357199907530761,3.923911078953306,-0.8788804268292734,-2.5276470645222417,-2.7912059950024073,2.156590953822341,0.9434202463065042,-0.44330967992192705,-3.2445397502021978,1.4921635822085384,-2.3458947577785554,-0.9111416891971772,-0.036742790736014906,3.076014127046609,1.8316801726574692,0.18372464702620417,2.0852099691068955,-0.7202171134667822,-1.8995004696482929,-3.5064482115418545,8.476218197319097,2.3723341146868018,-0.9676228150610345,0.8227053144937663,-3.554503761598759,-2.265247514987486,-3.374977886580358,-0.6330406949851853,-2.7077153475963036,-1.2179062780759027,-0.3745755806655614,2.977460092112936,-0.19986639457838523,-2.6212201113807136,-0.30408316805219554,2.027569459861667,-1.8448007336245538,-0.4502810532764254,4.038643517356648,2.83741688675838,-1.1682067189983814,-1.904057713394501,-5.103261250100746,2.444222927165797,3.213399542183604,-0.7374400465148963,-0.9045157797401193,2.383465995600022,-2.71001462366783,1.703976552436664,-0.5821532564839205,-1.1669676093834462,-0.47099707572836746,-0.22728805333128202,-0.7830180714771818,-0.9436156479249931,3.0783179444543642,1.525659736887277,1.7869504762905293,1.3970672621933107,-3.778570161653645,-2.5395952488201736,-0.5185304774794168,3.277862459737541,7.074963035592919,-3.31023170285299,-1.551101214520749,2.8863426897754163,-0.7995101056208302,1.6341655511465667,-0.2685280664644051,-0.38643914066585955,1.4204665774518455,-2.185255875970969,-2.6628328792682456,-3.050254420194489,-1.2301114164083808,-0.0013320567151020879,-1.7228399770905078,-0.5270306045398561,1.3111046649108375,-0.5043538556503553,-0.9933124089268333,0.20574374922802993,0.25302056468358114,-1.806782067319208,1.258200389229251,-1.1356629996178738,-0.7610065531307451,2.7988020881737725,-3.0326959173265715,-2.259222681265439,-2.4325952945476206,0.08702325392029543,4.348046693900081,3.0339310056233186,3.5874187777838578,-3.2562089582262193,-0.34043099147859057,1.7401151761520062,-0.260297467280613,3.031129566611832,-3.9689523335700403,-5.245640465572309,0.8867068984198122,0.17596507638368347,-0.31354158851310043,1.5984009951112552,2.322487407381165,-0.3830852395650792,0.2991004666287055,-1.5906287981334968,-0.476590747237978,-0.1581769749588479,3.4106525812427924,0.4450246637946391,-2.2571025417635893,-2.8444085590732175,2.6293801020117153,-2.5096593493085235,-1.3247438495285158,-0.3041622899379234,0.5900203931524038,0.24388456239100043,1.3508905247505556,3.252555018215599,3.7479425807734987],\"xaxis\":\"x\",\"y\":[-0.3496835592873845,-0.43790140113385484,0.002555767193031884,-0.562882477444299,-0.43322618205894314,-0.021102314781041073,-0.5691355639347022,1.2986034572725513,1.3032533017568402,-0.34525401373469206,-0.13261661633346045,-0.2645455726247601,1.1229421930589731,-0.2780209869584386,-0.7240110422141943,0.7381958196165453,-0.7571069960515134,-0.9006263889611003,-1.077448709907865,-0.62092677425289,-0.29202939327243677,-2.087477810793761,0.8348823256291045,-0.09354555259598535,0.007929057329864831,-0.6281211504283258,-1.242213435955885,-0.6336353395260017,-0.7488554796572789,-0.8434055600321145,1.21883953276723,-1.4849464014523155,-0.5192844550757305,0.02862951671439502,4.786493116776548,-0.048713233602871886,-1.109687388433828,-0.6141968902114402,-0.21048865665387376,0.16930323111001475,-0.25657805767711434,0.3849696941186676,0.30024596872435144,-0.9494660560346239,3.59457945330217,1.850567307421864,-1.2655920893086143,-0.4217393517708837,-0.41049014350894686,0.5413150770203927,-0.6258507036078885,-0.8582637544385392,-1.2959461998775104,-0.4344585815947393,0.9528184073929841,-0.7229353705876133,1.0228451615714038,1.2014220005380172,-1.065925383926559,-1.300261191287965,-0.45620164815603503,1.4755955652922137,-0.3729407320265014,0.11873525355115509,-0.6299979773023013,-0.5001374324788673,-0.8688674056184619,-1.15162802152258,-0.9634854625439924,-0.6400581686797172,-0.673641325625762,0.6024189643009357,1.8013749720348808,16.96537635724138,2.3228219834122084,0.49670728313198187,0.04612739018622343,1.2073442677593542,0.08133574707117003,1.157075383211292,-0.6076438340123566,1.858913107760388,-0.5353130343996146,-0.7640893907575569,-0.8529193963918716,-0.6617836060714625,0.1949572795417387,-0.6875157760856099,-0.7495800742548614,-0.06821210894689143,-0.2447130538479336,-2.686632276138108,-0.9796232260623743,-0.5271903732804472,0.037598598238102354,1.8633125929440564,-0.17950055675931992,-1.6266988603291863,-0.4029827498532027,-0.5173578501885319,-0.5516541999517918,0.44614590411986255,-0.7251482988835594,-0.70278618289162,0.11931864104789393,-0.6364042575577852,-0.8860930047286081,-0.1640303922268295,-0.05495207632651138,-0.626153455944795,-0.05985177994677406,-1.6527261389400034,-0.17475394289344096,1.5091856967209898,0.7522250722684177,-0.6971234421499891,0.20552607067227496,6.568278033626715,1.6969231807232599,-0.3964021090416209,2.947499784455534,-0.3404728729959492,-0.7765453287253693,-0.568438431895315,-0.27720440140053293,0.37212755594081065,0.1614119147312432,0.433657346544434,0.5051542301267797,0.5591626024235048,-0.8697960272334635,0.023828990094240634,0.006925081435265831,-1.2038903801177518,-0.5665343497151843,-0.6441664851615476,-0.3878978601326476,-0.9280690525881914,-0.1532050106363604,-0.6385982539442255,-0.49473236943507737,-0.6938742953845494,-1.4345002429736184,0.7903456450309576,-0.00437496443306195,1.0000767847175267,-0.7287141431113935,-0.5929758921457313,-1.1661986573201786,-1.0121876182269332,0.9406904902271065,-0.6597281638711493,-0.1696468597900384,-0.6735196409212362,-2.539693454719436,1.3812776552953014,2.888951664412913,-0.4546822494873016,-0.7568436771566236,-0.1392257540620755,-0.9119063603128451,-1.3105579705899968,-0.5122991197057375,-0.4179258802078984,-0.3108502732506977,0.31921122553908166,-0.932991313926283,-0.02975825679969713,-0.24746119587295481,0.09542911110290613,2.109811615411318,-0.16570944102129345,4.367355009179579,-0.40176368354350617,-0.7499304128898012,-0.4851228917699803,0.62880886692032,-0.3697550089704127,-1.201203462399418,-2.181071745105928],\"yaxis\":\"y\",\"type\":\"scatter\"}],                        {\"template\":{\"data\":{\"bar\":[{\"error_x\":{\"color\":\"#2a3f5f\"},\"error_y\":{\"color\":\"#2a3f5f\"},\"marker\":{\"line\":{\"color\":\"#E5ECF6\",\"width\":0.5},\"pattern\":{\"fillmode\":\"overlay\",\"size\":10,\"solidity\":0.2}},\"type\":\"bar\"}],\"barpolar\":[{\"marker\":{\"line\":{\"color\":\"#E5ECF6\",\"width\":0.5},\"pattern\":{\"fillmode\":\"overlay\",\"size\":10,\"solidity\":0.2}},\"type\":\"barpolar\"}],\"carpet\":[{\"aaxis\":{\"endlinecolor\":\"#2a3f5f\",\"gridcolor\":\"white\",\"linecolor\":\"white\",\"minorgridcolor\":\"white\",\"startlinecolor\":\"#2a3f5f\"},\"baxis\":{\"endlinecolor\":\"#2a3f5f\",\"gridcolor\":\"white\",\"linecolor\":\"white\",\"minorgridcolor\":\"white\",\"startlinecolor\":\"#2a3f5f\"},\"type\":\"carpet\"}],\"choropleth\":[{\"colorbar\":{\"outlinewidth\":0,\"ticks\":\"\"},\"type\":\"choropleth\"}],\"contour\":[{\"colorbar\":{\"outlinewidth\":0,\"ticks\":\"\"},\"colorscale\":[[0.0,\"#0d0887\"],[0.1111111111111111,\"#46039f\"],[0.2222222222222222,\"#7201a8\"],[0.3333333333333333,\"#9c179e\"],[0.4444444444444444,\"#bd3786\"],[0.5555555555555556,\"#d8576b\"],[0.6666666666666666,\"#ed7953\"],[0.7777777777777778,\"#fb9f3a\"],[0.8888888888888888,\"#fdca26\"],[1.0,\"#f0f921\"]],\"type\":\"contour\"}],\"contourcarpet\":[{\"colorbar\":{\"outlinewidth\":0,\"ticks\":\"\"},\"type\":\"contourcarpet\"}],\"heatmap\":[{\"colorbar\":{\"outlinewidth\":0,\"ticks\":\"\"},\"colorscale\":[[0.0,\"#0d0887\"],[0.1111111111111111,\"#46039f\"],[0.2222222222222222,\"#7201a8\"],[0.3333333333333333,\"#9c179e\"],[0.4444444444444444,\"#bd3786\"],[0.5555555555555556,\"#d8576b\"],[0.6666666666666666,\"#ed7953\"],[0.7777777777777778,\"#fb9f3a\"],[0.8888888888888888,\"#fdca26\"],[1.0,\"#f0f921\"]],\"type\":\"heatmap\"}],\"heatmapgl\":[{\"colorbar\":{\"outlinewidth\":0,\"ticks\":\"\"},\"colorscale\":[[0.0,\"#0d0887\"],[0.1111111111111111,\"#46039f\"],[0.2222222222222222,\"#7201a8\"],[0.3333333333333333,\"#9c179e\"],[0.4444444444444444,\"#bd3786\"],[0.5555555555555556,\"#d8576b\"],[0.6666666666666666,\"#ed7953\"],[0.7777777777777778,\"#fb9f3a\"],[0.8888888888888888,\"#fdca26\"],[1.0,\"#f0f921\"]],\"type\":\"heatmapgl\"}],\"histogram\":[{\"marker\":{\"pattern\":{\"fillmode\":\"overlay\",\"size\":10,\"solidity\":0.2}},\"type\":\"histogram\"}],\"histogram2d\":[{\"colorbar\":{\"outlinewidth\":0,\"ticks\":\"\"},\"colorscale\":[[0.0,\"#0d0887\"],[0.1111111111111111,\"#46039f\"],[0.2222222222222222,\"#7201a8\"],[0.3333333333333333,\"#9c179e\"],[0.4444444444444444,\"#bd3786\"],[0.5555555555555556,\"#d8576b\"],[0.6666666666666666,\"#ed7953\"],[0.7777777777777778,\"#fb9f3a\"],[0.8888888888888888,\"#fdca26\"],[1.0,\"#f0f921\"]],\"type\":\"histogram2d\"}],\"histogram2dcontour\":[{\"colorbar\":{\"outlinewidth\":0,\"ticks\":\"\"},\"colorscale\":[[0.0,\"#0d0887\"],[0.1111111111111111,\"#46039f\"],[0.2222222222222222,\"#7201a8\"],[0.3333333333333333,\"#9c179e\"],[0.4444444444444444,\"#bd3786\"],[0.5555555555555556,\"#d8576b\"],[0.6666666666666666,\"#ed7953\"],[0.7777777777777778,\"#fb9f3a\"],[0.8888888888888888,\"#fdca26\"],[1.0,\"#f0f921\"]],\"type\":\"histogram2dcontour\"}],\"mesh3d\":[{\"colorbar\":{\"outlinewidth\":0,\"ticks\":\"\"},\"type\":\"mesh3d\"}],\"parcoords\":[{\"line\":{\"colorbar\":{\"outlinewidth\":0,\"ticks\":\"\"}},\"type\":\"parcoords\"}],\"pie\":[{\"automargin\":true,\"type\":\"pie\"}],\"scatter\":[{\"marker\":{\"colorbar\":{\"outlinewidth\":0,\"ticks\":\"\"}},\"type\":\"scatter\"}],\"scatter3d\":[{\"line\":{\"colorbar\":{\"outlinewidth\":0,\"ticks\":\"\"}},\"marker\":{\"colorbar\":{\"outlinewidth\":0,\"ticks\":\"\"}},\"type\":\"scatter3d\"}],\"scattercarpet\":[{\"marker\":{\"colorbar\":{\"outlinewidth\":0,\"ticks\":\"\"}},\"type\":\"scattercarpet\"}],\"scattergeo\":[{\"marker\":{\"colorbar\":{\"outlinewidth\":0,\"ticks\":\"\"}},\"type\":\"scattergeo\"}],\"scattergl\":[{\"marker\":{\"colorbar\":{\"outlinewidth\":0,\"ticks\":\"\"}},\"type\":\"scattergl\"}],\"scattermapbox\":[{\"marker\":{\"colorbar\":{\"outlinewidth\":0,\"ticks\":\"\"}},\"type\":\"scattermapbox\"}],\"scatterpolar\":[{\"marker\":{\"colorbar\":{\"outlinewidth\":0,\"ticks\":\"\"}},\"type\":\"scatterpolar\"}],\"scatterpolargl\":[{\"marker\":{\"colorbar\":{\"outlinewidth\":0,\"ticks\":\"\"}},\"type\":\"scatterpolargl\"}],\"scatterternary\":[{\"marker\":{\"colorbar\":{\"outlinewidth\":0,\"ticks\":\"\"}},\"type\":\"scatterternary\"}],\"surface\":[{\"colorbar\":{\"outlinewidth\":0,\"ticks\":\"\"},\"colorscale\":[[0.0,\"#0d0887\"],[0.1111111111111111,\"#46039f\"],[0.2222222222222222,\"#7201a8\"],[0.3333333333333333,\"#9c179e\"],[0.4444444444444444,\"#bd3786\"],[0.5555555555555556,\"#d8576b\"],[0.6666666666666666,\"#ed7953\"],[0.7777777777777778,\"#fb9f3a\"],[0.8888888888888888,\"#fdca26\"],[1.0,\"#f0f921\"]],\"type\":\"surface\"}],\"table\":[{\"cells\":{\"fill\":{\"color\":\"#EBF0F8\"},\"line\":{\"color\":\"white\"}},\"header\":{\"fill\":{\"color\":\"#C8D4E3\"},\"line\":{\"color\":\"white\"}},\"type\":\"table\"}]},\"layout\":{\"annotationdefaults\":{\"arrowcolor\":\"#2a3f5f\",\"arrowhead\":0,\"arrowwidth\":1},\"autotypenumbers\":\"strict\",\"coloraxis\":{\"colorbar\":{\"outlinewidth\":0,\"ticks\":\"\"}},\"colorscale\":{\"diverging\":[[0,\"#8e0152\"],[0.1,\"#c51b7d\"],[0.2,\"#de77ae\"],[0.3,\"#f1b6da\"],[0.4,\"#fde0ef\"],[0.5,\"#f7f7f7\"],[0.6,\"#e6f5d0\"],[0.7,\"#b8e186\"],[0.8,\"#7fbc41\"],[0.9,\"#4d9221\"],[1,\"#276419\"]],\"sequential\":[[0.0,\"#0d0887\"],[0.1111111111111111,\"#46039f\"],[0.2222222222222222,\"#7201a8\"],[0.3333333333333333,\"#9c179e\"],[0.4444444444444444,\"#bd3786\"],[0.5555555555555556,\"#d8576b\"],[0.6666666666666666,\"#ed7953\"],[0.7777777777777778,\"#fb9f3a\"],[0.8888888888888888,\"#fdca26\"],[1.0,\"#f0f921\"]],\"sequentialminus\":[[0.0,\"#0d0887\"],[0.1111111111111111,\"#46039f\"],[0.2222222222222222,\"#7201a8\"],[0.3333333333333333,\"#9c179e\"],[0.4444444444444444,\"#bd3786\"],[0.5555555555555556,\"#d8576b\"],[0.6666666666666666,\"#ed7953\"],[0.7777777777777778,\"#fb9f3a\"],[0.8888888888888888,\"#fdca26\"],[1.0,\"#f0f921\"]]},\"colorway\":[\"#636efa\",\"#EF553B\",\"#00cc96\",\"#ab63fa\",\"#FFA15A\",\"#19d3f3\",\"#FF6692\",\"#B6E880\",\"#FF97FF\",\"#FECB52\"],\"font\":{\"color\":\"#2a3f5f\"},\"geo\":{\"bgcolor\":\"white\",\"lakecolor\":\"white\",\"landcolor\":\"#E5ECF6\",\"showlakes\":true,\"showland\":true,\"subunitcolor\":\"white\"},\"hoverlabel\":{\"align\":\"left\"},\"hovermode\":\"closest\",\"mapbox\":{\"style\":\"light\"},\"paper_bgcolor\":\"white\",\"plot_bgcolor\":\"#E5ECF6\",\"polar\":{\"angularaxis\":{\"gridcolor\":\"white\",\"linecolor\":\"white\",\"ticks\":\"\"},\"bgcolor\":\"#E5ECF6\",\"radialaxis\":{\"gridcolor\":\"white\",\"linecolor\":\"white\",\"ticks\":\"\"}},\"scene\":{\"xaxis\":{\"backgroundcolor\":\"#E5ECF6\",\"gridcolor\":\"white\",\"gridwidth\":2,\"linecolor\":\"white\",\"showbackground\":true,\"ticks\":\"\",\"zerolinecolor\":\"white\"},\"yaxis\":{\"backgroundcolor\":\"#E5ECF6\",\"gridcolor\":\"white\",\"gridwidth\":2,\"linecolor\":\"white\",\"showbackground\":true,\"ticks\":\"\",\"zerolinecolor\":\"white\"},\"zaxis\":{\"backgroundcolor\":\"#E5ECF6\",\"gridcolor\":\"white\",\"gridwidth\":2,\"linecolor\":\"white\",\"showbackground\":true,\"ticks\":\"\",\"zerolinecolor\":\"white\"}},\"shapedefaults\":{\"line\":{\"color\":\"#2a3f5f\"}},\"ternary\":{\"aaxis\":{\"gridcolor\":\"white\",\"linecolor\":\"white\",\"ticks\":\"\"},\"baxis\":{\"gridcolor\":\"white\",\"linecolor\":\"white\",\"ticks\":\"\"},\"bgcolor\":\"#E5ECF6\",\"caxis\":{\"gridcolor\":\"white\",\"linecolor\":\"white\",\"ticks\":\"\"}},\"title\":{\"x\":0.05},\"xaxis\":{\"automargin\":true,\"gridcolor\":\"white\",\"linecolor\":\"white\",\"ticks\":\"\",\"title\":{\"standoff\":15},\"zerolinecolor\":\"white\",\"zerolinewidth\":2},\"yaxis\":{\"automargin\":true,\"gridcolor\":\"white\",\"linecolor\":\"white\",\"ticks\":\"\",\"title\":{\"standoff\":15},\"zerolinecolor\":\"white\",\"zerolinewidth\":2}}},\"xaxis\":{\"anchor\":\"y\",\"domain\":[0.0,1.0],\"title\":{\"text\":\"Dimension 1\"}},\"yaxis\":{\"anchor\":\"x\",\"domain\":[0.0,1.0],\"title\":{\"text\":\"Dimension 2\"}},\"coloraxis\":{\"colorbar\":{\"title\":{\"text\":\"Spectral Clustering\"}},\"colorscale\":[[0.0,\"#0d0887\"],[0.1111111111111111,\"#46039f\"],[0.2222222222222222,\"#7201a8\"],[0.3333333333333333,\"#9c179e\"],[0.4444444444444444,\"#bd3786\"],[0.5555555555555556,\"#d8576b\"],[0.6666666666666666,\"#ed7953\"],[0.7777777777777778,\"#fb9f3a\"],[0.8888888888888888,\"#fdca26\"],[1.0,\"#f0f921\"]]},\"legend\":{\"tracegroupgap\":0},\"margin\":{\"t\":60}},                        {\"responsive\": true}                    ).then(function(){\n",
              "                            \n",
              "var gd = document.getElementById('b7ae3c83-495d-46f0-b982-0a9c0c7fa83a');\n",
              "var x = new MutationObserver(function (mutations, observer) {{\n",
              "        var display = window.getComputedStyle(gd).display;\n",
              "        if (!display || display === 'none') {{\n",
              "            console.log([gd, 'removed!']);\n",
              "            Plotly.purge(gd);\n",
              "            observer.disconnect();\n",
              "        }}\n",
              "}});\n",
              "\n",
              "// Listen for the removal of the full notebook cells\n",
              "var notebookContainer = gd.closest('#notebook-container');\n",
              "if (notebookContainer) {{\n",
              "    x.observe(notebookContainer, {childList: true});\n",
              "}}\n",
              "\n",
              "// Listen for the clearing of the current output cell\n",
              "var outputEl = gd.closest('.output');\n",
              "if (outputEl) {{\n",
              "    x.observe(outputEl, {childList: true});\n",
              "}}\n",
              "\n",
              "                        })                };                            </script>        </div>\n",
              "</body>\n",
              "</html>"
            ]
          },
          "metadata": {},
          "output_type": "display_data"
        }
      ],
      "source": [
        "fig = px.scatter(df_geometries, x=\"Dimension 1\", y=\"Dimension 2\", color=\"Spectral Clustering\",\n",
        "                 hover_data=['País'])\n",
        "fig.show()"
      ]
    },
    {
      "cell_type": "code",
      "execution_count": null,
      "metadata": {
        "colab": {
          "base_uri": "https://localhost:8080/"
        },
        "id": "TgGvaZnWvWU6",
        "outputId": "b6761346-d30d-45b5-f3af-1b17fbe6800c"
      },
      "outputs": [
        {
          "data": {
            "text/plain": [
              "0.35388461627917484"
            ]
          },
          "execution_count": 37,
          "metadata": {},
          "output_type": "execute_result"
        }
      ],
      "source": [
        "metrics.silhouette_score(X_scaled, clusterings.labels_, metric='euclidean')"
      ]
    },
    {
      "cell_type": "markdown",
      "metadata": {
        "id": "hbieVNyOGL-f"
      },
      "source": [
        "## 04.4 DBSCAN - *Sabrina Nicole Rodríguez Salgado*\n",
        "\n",
        "https://scikit-learn.org/stable/modules/generated/sklearn.cluster.DBSCAN.html#sklearn.cluster.DBSCAN\n",
        "\n",
        "https://machinelearningknowledge.ai/tutorial-for-dbscan-clustering-in-python-sklearn/\n",
        "\n",
        "https://github.com/christianversloot/machine-learning-articles/blob/main/performing-dbscan-clustering-with-python-and-scikit-learn.md"
      ]
    },
    {
      "cell_type": "code",
      "execution_count": null,
      "metadata": {
        "colab": {
          "base_uri": "https://localhost:8080/",
          "height": 379
        },
        "id": "f0ka0O9k5fil",
        "outputId": "eb85ccb9-49df-4181-8dd5-70ba67443a83"
      },
      "outputs": [
        {
          "data": {
            "text/plain": [
              "Text(0, 0.5, 'Distancia')"
            ]
          },
          "execution_count": 38,
          "metadata": {},
          "output_type": "execute_result"
        },
        {
          "data": {
            "image/png": "[encoded data removed]",
            "text/plain": [
              "<Figure size 360x360 with 1 Axes>"
            ]
          },
          "metadata": {},
          "output_type": "display_data"
        }
      ],
      "source": [
        "#Para encontrar el mejor valor de epsilon:\n",
        "dfEps = df_geometries.filter(['Dimension 1','Dimension 2'], axis=1)\n",
        "\n",
        "nearest_neighbors = NearestNeighbors(n_neighbors=11)\n",
        "neighbors = nearest_neighbors.fit(dfEps)\n",
        "\n",
        "distances, indices = neighbors.kneighbors(dfEps)\n",
        "distances = np.sort(distances[:,10], axis=0)\n",
        "\n",
        "fig = plt.figure(figsize=(5, 5))\n",
        "plt.plot(distances)\n",
        "plt.xlabel(\"Puntos\")\n",
        "plt.ylabel(\"Distancia\")"
      ]
    },
    {
      "cell_type": "code",
      "execution_count": null,
      "metadata": {
        "colab": {
          "base_uri": "https://localhost:8080/",
          "height": 476
        },
        "id": "XsTWSbwR7wqe",
        "outputId": "4f73d163-bdc5-4bfc-c0b6-eae16f63f9a4"
      },
      "outputs": [
        {
          "name": "stdout",
          "output_type": "stream",
          "text": [
            "1.1105896604679124\n"
          ]
        },
        {
          "data": {
            "text/plain": [
              "<Figure size 360x360 with 0 Axes>"
            ]
          },
          "metadata": {},
          "output_type": "display_data"
        },
        {
          "data": {
            "image/png": "[encoded data removed]",
            "text/plain": [
              "<Figure size 432x432 with 1 Axes>"
            ]
          },
          "metadata": {},
          "output_type": "display_data"
        }
      ],
      "source": [
        "#Para identificar el codo\n",
        "i = np.arange(len(distances))\n",
        "knee = KneeLocator(i, distances, S=1, curve='convex', direction='increasing', interp_method='polynomial')\n",
        "\n",
        "fig = plt.figure(figsize=(5, 5))\n",
        "knee.plot_knee()\n",
        "plt.xlabel(\"Points\")\n",
        "plt.ylabel(\"Distance\")\n",
        "\n",
        "print(distances[knee.knee])"
      ]
    },
    {
      "cell_type": "markdown",
      "metadata": {
        "id": "eaRtrZm58pzc"
      },
      "source": [
        "Valor óptimo de epsilon: 1.1105896604679124"
      ]
    },
    {
      "cell_type": "code",
      "execution_count": null,
      "metadata": {
        "colab": {
          "base_uri": "https://localhost:8080/"
        },
        "id": "5M61X47ZxFxN",
        "outputId": "24525eb1-8b5e-4a85-e526-84c708ec4af8"
      },
      "outputs": [
        {
          "data": {
            "text/plain": [
              "array([ 7,  0,  0, -1,  0,  0,  0,  1,  1,  0, -1,  0, -1,  0,  0,  2,  0,\n",
              "        3,  0,  0,  0, -1,  4, -1,  2,  3,  0, -1,  3,  3, -1, -1, -1,  0,\n",
              "       -1,  0,  3, -1,  0,  2,  0,  2,  2, -1, -1,  5,  3,  0,  0,  4,  0,\n",
              "       -1,  0,  0, -1,  0, -1, -1, -1,  0,  0, -1,  3,  6,  0,  0,  7, -1,\n",
              "        0, -1,  0, -1,  5, -1, -1,  4, -1,  1,  6,  2,  0, -1,  0,  0,  3,\n",
              "        0,  6,  0,  3,  2,  0, -1,  7,  0,  2, -1, -1, -1,  0,  0,  3, -1,\n",
              "        3,  0,  0,  0,  0,  0,  0, -1,  3, -1,  3, -1, -1,  0, -1, -1,  5,\n",
              "        0, -1,  0, -1,  0,  0, -1,  2,  2, -1, -1, -1,  2,  4,  0,  0,  0,\n",
              "       -1,  0,  0,  3,  0,  0, -1, -1,  2, -1,  0, -1, -1, -1,  2,  0,  3,\n",
              "        0, -1, -1, -1,  8,  0,  0,  3,  3,  0,  8,  0,  0,  0, -1, -1,  6,\n",
              "       -1, -1, -1,  0,  0,  8, -1, -1, -1, -1])"
            ]
          },
          "execution_count": 40,
          "metadata": {},
          "output_type": "execute_result"
        }
      ],
      "source": [
        "clusteringDBSCAN = DBSCAN(eps=1.1105896604679124, min_samples=3).fit(X_scaled)\n",
        "clusteringDBSCAN.labels_"
      ]
    },
    {
      "cell_type": "code",
      "execution_count": null,
      "metadata": {
        "colab": {
          "base_uri": "https://localhost:8080/"
        },
        "id": "_4vf55aBzGpx",
        "outputId": "00860323-ef29-47ed-eb23-96fde4f499aa"
      },
      "outputs": [
        {
          "name": "stdout",
          "output_type": "stream",
          "text": [
            "Número estimado de clusters: 10\n",
            "Número estimado de puntos de ruido: 62\n"
          ]
        }
      ],
      "source": [
        "core_samples_mask = np.zeros_like(clusteringDBSCAN.labels_, dtype=bool)\n",
        "core_samples_mask[clusteringDBSCAN.core_sample_indices_] = True\n",
        "labels = clusteringDBSCAN.labels_\n",
        "\n",
        "# Número de clusters para cada label, el ruido se ignora\n",
        "no_clusters = len(np.unique(labels) )\n",
        "no_noise = np.sum(np.array(labels) == -1, axis=0)\n",
        "\n",
        "print('Número estimado de clusters: %d' % no_clusters)\n",
        "print('Número estimado de puntos de ruido: %d' % no_noise)\n"
      ]
    },
    {
      "cell_type": "code",
      "execution_count": null,
      "metadata": {
        "colab": {
          "base_uri": "https://localhost:8080/"
        },
        "id": "X22ZrzwT2p4a",
        "outputId": "c2baf379-eff0-4dda-d0b7-1d5b7e3d9731"
      },
      "outputs": [
        {
          "data": {
            "text/plain": [
              "-1    62\n",
              " 0    68\n",
              " 1     3\n",
              " 2    13\n",
              " 3    17\n",
              " 4     4\n",
              " 5     3\n",
              " 6     4\n",
              " 7     3\n",
              " 8     3\n",
              "Name: DBSCAN, dtype: int64"
            ]
          },
          "execution_count": 42,
          "metadata": {},
          "output_type": "execute_result"
        }
      ],
      "source": [
        "df_geometries[\"DBSCAN\"]=clusteringDBSCAN.labels_\n",
        "df_geometries[\"DBSCAN\"].value_counts().sort_index()"
      ]
    },
    {
      "cell_type": "code",
      "execution_count": null,
      "metadata": {
        "colab": {
          "base_uri": "https://localhost:8080/",
          "height": 542
        },
        "id": "DQbfHZwY4BaQ",
        "outputId": "b875c952-c4c6-4e6a-8413-c94564eead40"
      },
      "outputs": [
        {
          "data": {
            "text/html": [
              "<html>\n",
              "<head><meta charset=\"utf-8\" /></head>\n",
              "<body>\n",
              "    <div>            <script src=\"https://cdnjs.cloudflare.com/ajax/libs/mathjax/2.7.5/MathJax.js?config=TeX-AMS-MML_SVG\"></script><script type=\"text/javascript\">if (window.MathJax) {MathJax.Hub.Config({SVG: {font: \"STIX-Web\"}});}</script>                <script type=\"text/javascript\">window.PlotlyConfig = {MathJaxConfig: 'local'};</script>\n",
              "        <script src=\"https://cdn.plot.ly/plotly-2.8.3.min.js\"></script>                <div id=\"f213e6aa-bed4-4c59-a344-f500c5021dc5\" class=\"plotly-graph-div\" style=\"height:525px; width:100%;\"></div>            <script type=\"text/javascript\">                                    window.PLOTLYENV=window.PLOTLYENV || {};                                    if (document.getElementById(\"f213e6aa-bed4-4c59-a344-f500c5021dc5\")) {                    Plotly.newPlot(                        \"f213e6aa-bed4-4c59-a344-f500c5021dc5\",                        [{\"customdata\":[[\"Afghanistan\"],[\"Albania\"],[\"Algeria\"],[\"Angola\"],[\"Antigua and Barbuda\"],[\"Argentina\"],[\"Armenia\"],[\"Australia\"],[\"Austria\"],[\"Azerbaijan\"],[\"Bahamas\"],[\"Bahrain\"],[\"Bangladesh\"],[\"Barbados\"],[\"Belarus\"],[\"Belgium\"],[\"Belize\"],[\"Benin\"],[\"Bhutan\"],[\"Bolivia (Plurinational State of)\"],[\"Bosnia and Herzegovina\"],[\"Botswana\"],[\"Brazil\"],[\"Brunei Darussalam\"],[\"Bulgaria\"],[\"Burkina Faso\"],[\"Burundi\"],[\"Cabo Verde\"],[\"Cambodia\"],[\"Cameroon\"],[\"Canada\"],[\"Central African Republic\"],[\"Chad\"],[\"Chile\"],[\"China\"],[\"Colombia\"],[\"Comoros\"],[\"Congo\"],[\"Costa Rica\"],[\"Croatia\"],[\"Cuba\"],[\"Cyprus\"],[\"Czechia\"],[\"C\\u00f4te d'Ivoire\"],[\"Democratic Republic of the Congo\"],[\"Denmark\"],[\"Djibouti\"],[\"Dominican Republic\"],[\"Ecuador\"],[\"Egypt\"],[\"El Salvador\"],[\"Equatorial Guinea\"],[\"Eritrea\"],[\"Estonia\"],[\"Ethiopia\"],[\"Fiji\"],[\"Finland\"],[\"France\"],[\"Gabon\"],[\"Gambia\"],[\"Georgia\"],[\"Germany\"],[\"Ghana\"],[\"Greece\"],[\"Grenada\"],[\"Guatemala\"],[\"Guinea\"],[\"Guinea-Bissau\"],[\"Guyana\"],[\"Haiti\"],[\"Honduras\"],[\"Hungary\"],[\"Iceland\"],[\"India\"],[\"Indonesia\"],[\"Iran (Islamic Republic of)\"],[\"Iraq\"],[\"Ireland\"],[\"Israel\"],[\"Italy\"],[\"Jamaica\"],[\"Japan\"],[\"Jordan\"],[\"Kazakhstan\"],[\"Kenya\"],[\"Kiribati\"],[\"Kuwait\"],[\"Kyrgyzstan\"],[\"Lao People's Democratic Republic\"],[\"Latvia\"],[\"Lebanon\"],[\"Lesotho\"],[\"Liberia\"],[\"Libya\"],[\"Lithuania\"],[\"Luxembourg\"],[\"Madagascar\"],[\"Malawi\"],[\"Malaysia\"],[\"Maldives\"],[\"Mali\"],[\"Malta\"],[\"Mauritania\"],[\"Mauritius\"],[\"Mexico\"],[\"Micronesia (Federated States of)\"],[\"Mongolia\"],[\"Montenegro\"],[\"Morocco\"],[\"Mozambique\"],[\"Myanmar\"],[\"Namibia\"],[\"Nepal\"],[\"Netherlands\"],[\"New Zealand\"],[\"Nicaragua\"],[\"Niger\"],[\"Nigeria\"],[\"Norway\"],[\"Oman\"],[\"Pakistan\"],[\"Panama\"],[\"Papua New Guinea\"],[\"Paraguay\"],[\"Peru\"],[\"Philippines\"],[\"Poland\"],[\"Portugal\"],[\"Qatar\"],[\"Republic of Korea\"],[\"Republic of Moldova\"],[\"Romania\"],[\"Russian Federation\"],[\"Rwanda\"],[\"Saint Lucia\"],[\"Saint Vincent and the Grenadines\"],[\"Samoa\"],[\"Sao Tome and Principe\"],[\"Saudi Arabia\"],[\"Senegal\"],[\"Serbia\"],[\"Seychelles\"],[\"Sierra Leone\"],[\"Singapore\"],[\"Slovakia\"],[\"Slovenia\"],[\"Solomon Islands\"],[\"Somalia\"],[\"South Africa\"],[\"South Sudan\"],[\"Spain\"],[\"Sri Lanka\"],[\"Sudan\"],[\"Suriname\"],[\"Swaziland\"],[\"Sweden\"],[\"Switzerland\"],[\"Syrian Arab Republic\"],[\"Tajikistan\"],[\"Thailand\"],[\"Timor-Leste\"],[\"Togo\"],[\"Tonga\"],[\"Trinidad and Tobago\"],[\"Tunisia\"],[\"Turkey\"],[\"Turkmenistan\"],[\"Uganda\"],[\"Ukraine\"],[\"United Arab Emirates\"],[\"United Kingdom of Great Britain and Northern Ireland\"],[\"United Republic of Tanzania\"],[\"United States of America\"],[\"Uruguay\"],[\"Uzbekistan\"],[\"Vanuatu\"],[\"Viet Nam\"],[\"Yemen\"],[\"Zambia\"],[\"Zimbabwe\"]],\"hovertemplate\":\"Dimension 1=%{x}<br>Dimension 2=%{y}<br>Pa\\u00eds=%{customdata[0]}<br>DBSCAN=%{marker.color}<extra></extra>\",\"legendgroup\":\"\",\"marker\":{\"color\":[7,0,0,-1,0,0,0,1,1,0,-1,0,-1,0,0,2,0,3,0,0,0,-1,4,-1,2,3,0,-1,3,3,-1,-1,-1,0,-1,0,3,-1,0,2,0,2,2,-1,-1,5,3,0,0,4,0,-1,0,0,-1,0,-1,-1,-1,0,0,-1,3,6,0,0,7,-1,0,-1,0,-1,5,-1,-1,4,-1,1,6,2,0,-1,0,0,3,0,6,0,3,2,0,-1,7,0,2,-1,-1,-1,0,0,3,-1,3,0,0,0,0,0,0,-1,3,-1,3,-1,-1,0,-1,-1,5,0,-1,0,-1,0,0,-1,2,2,-1,-1,-1,2,4,0,0,0,-1,0,0,3,0,0,-1,-1,2,-1,0,-1,-1,-1,2,0,3,0,-1,-1,-1,8,0,0,3,3,0,8,0,0,0,-1,-1,6,-1,-1,-1,0,0,8,-1,-1,-1,-1],\"coloraxis\":\"coloraxis\",\"symbol\":\"circle\"},\"mode\":\"markers\",\"name\":\"\",\"orientation\":\"v\",\"showlegend\":false,\"x\":[3.1355698720993086,-1.5280065108383176,-0.787465071640448,3.921703424178189,-1.3431384875283316,-1.3322966495036512,-0.661622660200908,-3.848459968881046,-3.5202719687265827,-0.08732414751233548,-1.726968081327306,-1.8467240390895252,1.029330530305646,-1.0398719514834973,-0.559153261953605,-3.0676664528476176,-0.6035558929729951,2.2093015053693157,0.4727179660182285,0.018860884323062557,-0.6185482489800992,1.8334541984035315,-0.7382777488434477,-1.727196987322198,-1.820806085558006,2.250298878716569,1.7065966010661762,0.07560114915127249,1.449483989586468,2.5723009044435554,-2.756042025929702,4.262160829012826,4.358782365823835,-1.4105554390181414,2.0006768600907447,-0.4369070548673102,1.7508828629230901,3.1358199673474587,-0.7240569958666034,-2.401303770129874,-1.5695259608340801,-2.871874247098133,-2.607979382944055,3.305533122445296,5.20580446722758,-3.465579571759469,1.5483936793896462,-0.16827218458255516,-0.3872547061368202,-0.46162753332870227,-0.36139678344759973,3.676509671858723,1.4305262372723648,-1.3357199907530761,3.923911078953306,-0.8788804268292734,-2.5276470645222417,-2.7912059950024073,2.156590953822341,0.9434202463065042,-0.44330967992192705,-3.2445397502021978,1.4921635822085384,-2.3458947577785554,-0.9111416891971772,-0.036742790736014906,3.076014127046609,1.8316801726574692,0.18372464702620417,2.0852099691068955,-0.7202171134667822,-1.8995004696482929,-3.5064482115418545,8.476218197319097,2.3723341146868018,-0.9676228150610345,0.8227053144937663,-3.554503761598759,-2.265247514987486,-3.374977886580358,-0.6330406949851853,-2.7077153475963036,-1.2179062780759027,-0.3745755806655614,2.977460092112936,-0.19986639457838523,-2.6212201113807136,-0.30408316805219554,2.027569459861667,-1.8448007336245538,-0.4502810532764254,4.038643517356648,2.83741688675838,-1.1682067189983814,-1.904057713394501,-5.103261250100746,2.444222927165797,3.213399542183604,-0.7374400465148963,-0.9045157797401193,2.383465995600022,-2.71001462366783,1.703976552436664,-0.5821532564839205,-1.1669676093834462,-0.47099707572836746,-0.22728805333128202,-0.7830180714771818,-0.9436156479249931,3.0783179444543642,1.525659736887277,1.7869504762905293,1.3970672621933107,-3.778570161653645,-2.5395952488201736,-0.5185304774794168,3.277862459737541,7.074963035592919,-3.31023170285299,-1.551101214520749,2.8863426897754163,-0.7995101056208302,1.6341655511465667,-0.2685280664644051,-0.38643914066585955,1.4204665774518455,-2.185255875970969,-2.6628328792682456,-3.050254420194489,-1.2301114164083808,-0.0013320567151020879,-1.7228399770905078,-0.5270306045398561,1.3111046649108375,-0.5043538556503553,-0.9933124089268333,0.20574374922802993,0.25302056468358114,-1.806782067319208,1.258200389229251,-1.1356629996178738,-0.7610065531307451,2.7988020881737725,-3.0326959173265715,-2.259222681265439,-2.4325952945476206,0.08702325392029543,4.348046693900081,3.0339310056233186,3.5874187777838578,-3.2562089582262193,-0.34043099147859057,1.7401151761520062,-0.260297467280613,3.031129566611832,-3.9689523335700403,-5.245640465572309,0.8867068984198122,0.17596507638368347,-0.31354158851310043,1.5984009951112552,2.322487407381165,-0.3830852395650792,0.2991004666287055,-1.5906287981334968,-0.476590747237978,-0.1581769749588479,3.4106525812427924,0.4450246637946391,-2.2571025417635893,-2.8444085590732175,2.6293801020117153,-2.5096593493085235,-1.3247438495285158,-0.3041622899379234,0.5900203931524038,0.24388456239100043,1.3508905247505556,3.252555018215599,3.7479425807734987],\"xaxis\":\"x\",\"y\":[-0.3496835592873845,-0.43790140113385484,0.002555767193031884,-0.562882477444299,-0.43322618205894314,-0.021102314781041073,-0.5691355639347022,1.2986034572725513,1.3032533017568402,-0.34525401373469206,-0.13261661633346045,-0.2645455726247601,1.1229421930589731,-0.2780209869584386,-0.7240110422141943,0.7381958196165453,-0.7571069960515134,-0.9006263889611003,-1.077448709907865,-0.62092677425289,-0.29202939327243677,-2.087477810793761,0.8348823256291045,-0.09354555259598535,0.007929057329864831,-0.6281211504283258,-1.242213435955885,-0.6336353395260017,-0.7488554796572789,-0.8434055600321145,1.21883953276723,-1.4849464014523155,-0.5192844550757305,0.02862951671439502,4.786493116776548,-0.048713233602871886,-1.109687388433828,-0.6141968902114402,-0.21048865665387376,0.16930323111001475,-0.25657805767711434,0.3849696941186676,0.30024596872435144,-0.9494660560346239,3.59457945330217,1.850567307421864,-1.2655920893086143,-0.4217393517708837,-0.41049014350894686,0.5413150770203927,-0.6258507036078885,-0.8582637544385392,-1.2959461998775104,-0.4344585815947393,0.9528184073929841,-0.7229353705876133,1.0228451615714038,1.2014220005380172,-1.065925383926559,-1.300261191287965,-0.45620164815603503,1.4755955652922137,-0.3729407320265014,0.11873525355115509,-0.6299979773023013,-0.5001374324788673,-0.8688674056184619,-1.15162802152258,-0.9634854625439924,-0.6400581686797172,-0.673641325625762,0.6024189643009357,1.8013749720348808,16.96537635724138,2.3228219834122084,0.49670728313198187,0.04612739018622343,1.2073442677593542,0.08133574707117003,1.157075383211292,-0.6076438340123566,1.858913107760388,-0.5353130343996146,-0.7640893907575569,-0.8529193963918716,-0.6617836060714625,0.1949572795417387,-0.6875157760856099,-0.7495800742548614,-0.06821210894689143,-0.2447130538479336,-2.686632276138108,-0.9796232260623743,-0.5271903732804472,0.037598598238102354,1.8633125929440564,-0.17950055675931992,-1.6266988603291863,-0.4029827498532027,-0.5173578501885319,-0.5516541999517918,0.44614590411986255,-0.7251482988835594,-0.70278618289162,0.11931864104789393,-0.6364042575577852,-0.8860930047286081,-0.1640303922268295,-0.05495207632651138,-0.626153455944795,-0.05985177994677406,-1.6527261389400034,-0.17475394289344096,1.5091856967209898,0.7522250722684177,-0.6971234421499891,0.20552607067227496,6.568278033626715,1.6969231807232599,-0.3964021090416209,2.947499784455534,-0.3404728729959492,-0.7765453287253693,-0.568438431895315,-0.27720440140053293,0.37212755594081065,0.1614119147312432,0.433657346544434,0.5051542301267797,0.5591626024235048,-0.8697960272334635,0.023828990094240634,0.006925081435265831,-1.2038903801177518,-0.5665343497151843,-0.6441664851615476,-0.3878978601326476,-0.9280690525881914,-0.1532050106363604,-0.6385982539442255,-0.49473236943507737,-0.6938742953845494,-1.4345002429736184,0.7903456450309576,-0.00437496443306195,1.0000767847175267,-0.7287141431113935,-0.5929758921457313,-1.1661986573201786,-1.0121876182269332,0.9406904902271065,-0.6597281638711493,-0.1696468597900384,-0.6735196409212362,-2.539693454719436,1.3812776552953014,2.888951664412913,-0.4546822494873016,-0.7568436771566236,-0.1392257540620755,-0.9119063603128451,-1.3105579705899968,-0.5122991197057375,-0.4179258802078984,-0.3108502732506977,0.31921122553908166,-0.932991313926283,-0.02975825679969713,-0.24746119587295481,0.09542911110290613,2.109811615411318,-0.16570944102129345,4.367355009179579,-0.40176368354350617,-0.7499304128898012,-0.4851228917699803,0.62880886692032,-0.3697550089704127,-1.201203462399418,-2.181071745105928],\"yaxis\":\"y\",\"type\":\"scatter\"}],                        {\"template\":{\"data\":{\"bar\":[{\"error_x\":{\"color\":\"#2a3f5f\"},\"error_y\":{\"color\":\"#2a3f5f\"},\"marker\":{\"line\":{\"color\":\"#E5ECF6\",\"width\":0.5},\"pattern\":{\"fillmode\":\"overlay\",\"size\":10,\"solidity\":0.2}},\"type\":\"bar\"}],\"barpolar\":[{\"marker\":{\"line\":{\"color\":\"#E5ECF6\",\"width\":0.5},\"pattern\":{\"fillmode\":\"overlay\",\"size\":10,\"solidity\":0.2}},\"type\":\"barpolar\"}],\"carpet\":[{\"aaxis\":{\"endlinecolor\":\"#2a3f5f\",\"gridcolor\":\"white\",\"linecolor\":\"white\",\"minorgridcolor\":\"white\",\"startlinecolor\":\"#2a3f5f\"},\"baxis\":{\"endlinecolor\":\"#2a3f5f\",\"gridcolor\":\"white\",\"linecolor\":\"white\",\"minorgridcolor\":\"white\",\"startlinecolor\":\"#2a3f5f\"},\"type\":\"carpet\"}],\"choropleth\":[{\"colorbar\":{\"outlinewidth\":0,\"ticks\":\"\"},\"type\":\"choropleth\"}],\"contour\":[{\"colorbar\":{\"outlinewidth\":0,\"ticks\":\"\"},\"colorscale\":[[0.0,\"#0d0887\"],[0.1111111111111111,\"#46039f\"],[0.2222222222222222,\"#7201a8\"],[0.3333333333333333,\"#9c179e\"],[0.4444444444444444,\"#bd3786\"],[0.5555555555555556,\"#d8576b\"],[0.6666666666666666,\"#ed7953\"],[0.7777777777777778,\"#fb9f3a\"],[0.8888888888888888,\"#fdca26\"],[1.0,\"#f0f921\"]],\"type\":\"contour\"}],\"contourcarpet\":[{\"colorbar\":{\"outlinewidth\":0,\"ticks\":\"\"},\"type\":\"contourcarpet\"}],\"heatmap\":[{\"colorbar\":{\"outlinewidth\":0,\"ticks\":\"\"},\"colorscale\":[[0.0,\"#0d0887\"],[0.1111111111111111,\"#46039f\"],[0.2222222222222222,\"#7201a8\"],[0.3333333333333333,\"#9c179e\"],[0.4444444444444444,\"#bd3786\"],[0.5555555555555556,\"#d8576b\"],[0.6666666666666666,\"#ed7953\"],[0.7777777777777778,\"#fb9f3a\"],[0.8888888888888888,\"#fdca26\"],[1.0,\"#f0f921\"]],\"type\":\"heatmap\"}],\"heatmapgl\":[{\"colorbar\":{\"outlinewidth\":0,\"ticks\":\"\"},\"colorscale\":[[0.0,\"#0d0887\"],[0.1111111111111111,\"#46039f\"],[0.2222222222222222,\"#7201a8\"],[0.3333333333333333,\"#9c179e\"],[0.4444444444444444,\"#bd3786\"],[0.5555555555555556,\"#d8576b\"],[0.6666666666666666,\"#ed7953\"],[0.7777777777777778,\"#fb9f3a\"],[0.8888888888888888,\"#fdca26\"],[1.0,\"#f0f921\"]],\"type\":\"heatmapgl\"}],\"histogram\":[{\"marker\":{\"pattern\":{\"fillmode\":\"overlay\",\"size\":10,\"solidity\":0.2}},\"type\":\"histogram\"}],\"histogram2d\":[{\"colorbar\":{\"outlinewidth\":0,\"ticks\":\"\"},\"colorscale\":[[0.0,\"#0d0887\"],[0.1111111111111111,\"#46039f\"],[0.2222222222222222,\"#7201a8\"],[0.3333333333333333,\"#9c179e\"],[0.4444444444444444,\"#bd3786\"],[0.5555555555555556,\"#d8576b\"],[0.6666666666666666,\"#ed7953\"],[0.7777777777777778,\"#fb9f3a\"],[0.8888888888888888,\"#fdca26\"],[1.0,\"#f0f921\"]],\"type\":\"histogram2d\"}],\"histogram2dcontour\":[{\"colorbar\":{\"outlinewidth\":0,\"ticks\":\"\"},\"colorscale\":[[0.0,\"#0d0887\"],[0.1111111111111111,\"#46039f\"],[0.2222222222222222,\"#7201a8\"],[0.3333333333333333,\"#9c179e\"],[0.4444444444444444,\"#bd3786\"],[0.5555555555555556,\"#d8576b\"],[0.6666666666666666,\"#ed7953\"],[0.7777777777777778,\"#fb9f3a\"],[0.8888888888888888,\"#fdca26\"],[1.0,\"#f0f921\"]],\"type\":\"histogram2dcontour\"}],\"mesh3d\":[{\"colorbar\":{\"outlinewidth\":0,\"ticks\":\"\"},\"type\":\"mesh3d\"}],\"parcoords\":[{\"line\":{\"colorbar\":{\"outlinewidth\":0,\"ticks\":\"\"}},\"type\":\"parcoords\"}],\"pie\":[{\"automargin\":true,\"type\":\"pie\"}],\"scatter\":[{\"marker\":{\"colorbar\":{\"outlinewidth\":0,\"ticks\":\"\"}},\"type\":\"scatter\"}],\"scatter3d\":[{\"line\":{\"colorbar\":{\"outlinewidth\":0,\"ticks\":\"\"}},\"marker\":{\"colorbar\":{\"outlinewidth\":0,\"ticks\":\"\"}},\"type\":\"scatter3d\"}],\"scattercarpet\":[{\"marker\":{\"colorbar\":{\"outlinewidth\":0,\"ticks\":\"\"}},\"type\":\"scattercarpet\"}],\"scattergeo\":[{\"marker\":{\"colorbar\":{\"outlinewidth\":0,\"ticks\":\"\"}},\"type\":\"scattergeo\"}],\"scattergl\":[{\"marker\":{\"colorbar\":{\"outlinewidth\":0,\"ticks\":\"\"}},\"type\":\"scattergl\"}],\"scattermapbox\":[{\"marker\":{\"colorbar\":{\"outlinewidth\":0,\"ticks\":\"\"}},\"type\":\"scattermapbox\"}],\"scatterpolar\":[{\"marker\":{\"colorbar\":{\"outlinewidth\":0,\"ticks\":\"\"}},\"type\":\"scatterpolar\"}],\"scatterpolargl\":[{\"marker\":{\"colorbar\":{\"outlinewidth\":0,\"ticks\":\"\"}},\"type\":\"scatterpolargl\"}],\"scatterternary\":[{\"marker\":{\"colorbar\":{\"outlinewidth\":0,\"ticks\":\"\"}},\"type\":\"scatterternary\"}],\"surface\":[{\"colorbar\":{\"outlinewidth\":0,\"ticks\":\"\"},\"colorscale\":[[0.0,\"#0d0887\"],[0.1111111111111111,\"#46039f\"],[0.2222222222222222,\"#7201a8\"],[0.3333333333333333,\"#9c179e\"],[0.4444444444444444,\"#bd3786\"],[0.5555555555555556,\"#d8576b\"],[0.6666666666666666,\"#ed7953\"],[0.7777777777777778,\"#fb9f3a\"],[0.8888888888888888,\"#fdca26\"],[1.0,\"#f0f921\"]],\"type\":\"surface\"}],\"table\":[{\"cells\":{\"fill\":{\"color\":\"#EBF0F8\"},\"line\":{\"color\":\"white\"}},\"header\":{\"fill\":{\"color\":\"#C8D4E3\"},\"line\":{\"color\":\"white\"}},\"type\":\"table\"}]},\"layout\":{\"annotationdefaults\":{\"arrowcolor\":\"#2a3f5f\",\"arrowhead\":0,\"arrowwidth\":1},\"autotypenumbers\":\"strict\",\"coloraxis\":{\"colorbar\":{\"outlinewidth\":0,\"ticks\":\"\"}},\"colorscale\":{\"diverging\":[[0,\"#8e0152\"],[0.1,\"#c51b7d\"],[0.2,\"#de77ae\"],[0.3,\"#f1b6da\"],[0.4,\"#fde0ef\"],[0.5,\"#f7f7f7\"],[0.6,\"#e6f5d0\"],[0.7,\"#b8e186\"],[0.8,\"#7fbc41\"],[0.9,\"#4d9221\"],[1,\"#276419\"]],\"sequential\":[[0.0,\"#0d0887\"],[0.1111111111111111,\"#46039f\"],[0.2222222222222222,\"#7201a8\"],[0.3333333333333333,\"#9c179e\"],[0.4444444444444444,\"#bd3786\"],[0.5555555555555556,\"#d8576b\"],[0.6666666666666666,\"#ed7953\"],[0.7777777777777778,\"#fb9f3a\"],[0.8888888888888888,\"#fdca26\"],[1.0,\"#f0f921\"]],\"sequentialminus\":[[0.0,\"#0d0887\"],[0.1111111111111111,\"#46039f\"],[0.2222222222222222,\"#7201a8\"],[0.3333333333333333,\"#9c179e\"],[0.4444444444444444,\"#bd3786\"],[0.5555555555555556,\"#d8576b\"],[0.6666666666666666,\"#ed7953\"],[0.7777777777777778,\"#fb9f3a\"],[0.8888888888888888,\"#fdca26\"],[1.0,\"#f0f921\"]]},\"colorway\":[\"#636efa\",\"#EF553B\",\"#00cc96\",\"#ab63fa\",\"#FFA15A\",\"#19d3f3\",\"#FF6692\",\"#B6E880\",\"#FF97FF\",\"#FECB52\"],\"font\":{\"color\":\"#2a3f5f\"},\"geo\":{\"bgcolor\":\"white\",\"lakecolor\":\"white\",\"landcolor\":\"#E5ECF6\",\"showlakes\":true,\"showland\":true,\"subunitcolor\":\"white\"},\"hoverlabel\":{\"align\":\"left\"},\"hovermode\":\"closest\",\"mapbox\":{\"style\":\"light\"},\"paper_bgcolor\":\"white\",\"plot_bgcolor\":\"#E5ECF6\",\"polar\":{\"angularaxis\":{\"gridcolor\":\"white\",\"linecolor\":\"white\",\"ticks\":\"\"},\"bgcolor\":\"#E5ECF6\",\"radialaxis\":{\"gridcolor\":\"white\",\"linecolor\":\"white\",\"ticks\":\"\"}},\"scene\":{\"xaxis\":{\"backgroundcolor\":\"#E5ECF6\",\"gridcolor\":\"white\",\"gridwidth\":2,\"linecolor\":\"white\",\"showbackground\":true,\"ticks\":\"\",\"zerolinecolor\":\"white\"},\"yaxis\":{\"backgroundcolor\":\"#E5ECF6\",\"gridcolor\":\"white\",\"gridwidth\":2,\"linecolor\":\"white\",\"showbackground\":true,\"ticks\":\"\",\"zerolinecolor\":\"white\"},\"zaxis\":{\"backgroundcolor\":\"#E5ECF6\",\"gridcolor\":\"white\",\"gridwidth\":2,\"linecolor\":\"white\",\"showbackground\":true,\"ticks\":\"\",\"zerolinecolor\":\"white\"}},\"shapedefaults\":{\"line\":{\"color\":\"#2a3f5f\"}},\"ternary\":{\"aaxis\":{\"gridcolor\":\"white\",\"linecolor\":\"white\",\"ticks\":\"\"},\"baxis\":{\"gridcolor\":\"white\",\"linecolor\":\"white\",\"ticks\":\"\"},\"bgcolor\":\"#E5ECF6\",\"caxis\":{\"gridcolor\":\"white\",\"linecolor\":\"white\",\"ticks\":\"\"}},\"title\":{\"x\":0.05},\"xaxis\":{\"automargin\":true,\"gridcolor\":\"white\",\"linecolor\":\"white\",\"ticks\":\"\",\"title\":{\"standoff\":15},\"zerolinecolor\":\"white\",\"zerolinewidth\":2},\"yaxis\":{\"automargin\":true,\"gridcolor\":\"white\",\"linecolor\":\"white\",\"ticks\":\"\",\"title\":{\"standoff\":15},\"zerolinecolor\":\"white\",\"zerolinewidth\":2}}},\"xaxis\":{\"anchor\":\"y\",\"domain\":[0.0,1.0],\"title\":{\"text\":\"Dimension 1\"}},\"yaxis\":{\"anchor\":\"x\",\"domain\":[0.0,1.0],\"title\":{\"text\":\"Dimension 2\"}},\"coloraxis\":{\"colorbar\":{\"title\":{\"text\":\"DBSCAN\"}},\"colorscale\":[[0.0,\"#0d0887\"],[0.1111111111111111,\"#46039f\"],[0.2222222222222222,\"#7201a8\"],[0.3333333333333333,\"#9c179e\"],[0.4444444444444444,\"#bd3786\"],[0.5555555555555556,\"#d8576b\"],[0.6666666666666666,\"#ed7953\"],[0.7777777777777778,\"#fb9f3a\"],[0.8888888888888888,\"#fdca26\"],[1.0,\"#f0f921\"]]},\"legend\":{\"tracegroupgap\":0},\"margin\":{\"t\":60}},                        {\"responsive\": true}                    ).then(function(){\n",
              "                            \n",
              "var gd = document.getElementById('f213e6aa-bed4-4c59-a344-f500c5021dc5');\n",
              "var x = new MutationObserver(function (mutations, observer) {{\n",
              "        var display = window.getComputedStyle(gd).display;\n",
              "        if (!display || display === 'none') {{\n",
              "            console.log([gd, 'removed!']);\n",
              "            Plotly.purge(gd);\n",
              "            observer.disconnect();\n",
              "        }}\n",
              "}});\n",
              "\n",
              "// Listen for the removal of the full notebook cells\n",
              "var notebookContainer = gd.closest('#notebook-container');\n",
              "if (notebookContainer) {{\n",
              "    x.observe(notebookContainer, {childList: true});\n",
              "}}\n",
              "\n",
              "// Listen for the clearing of the current output cell\n",
              "var outputEl = gd.closest('.output');\n",
              "if (outputEl) {{\n",
              "    x.observe(outputEl, {childList: true});\n",
              "}}\n",
              "\n",
              "                        })                };                            </script>        </div>\n",
              "</body>\n",
              "</html>"
            ]
          },
          "metadata": {},
          "output_type": "display_data"
        }
      ],
      "source": [
        "fig = px.scatter(df_geometries, x=\"Dimension 1\", y=\"Dimension 2\", color=\"DBSCAN\",hover_data=['País'])\n",
        "fig.show()"
      ]
    },
    {
      "cell_type": "code",
      "execution_count": null,
      "metadata": {
        "colab": {
          "base_uri": "https://localhost:8080/"
        },
        "id": "bJ3XAp0RvkQC",
        "outputId": "f645ad2b-d528-4993-9b03-bd7d98853ebb"
      },
      "outputs": [
        {
          "data": {
            "text/plain": [
              "-0.002850664119779683"
            ]
          },
          "execution_count": 44,
          "metadata": {},
          "output_type": "execute_result"
        }
      ],
      "source": [
        "metrics.silhouette_score(X_scaled, clusteringDBSCAN.labels_, metric='euclidean')"
      ]
    },
    {
      "cell_type": "markdown",
      "metadata": {
        "id": "nTRqhCLp9nxy"
      },
      "source": [
        "# Visualización"
      ]
    },
    {
      "cell_type": "code",
      "execution_count": null,
      "metadata": {
        "colab": {
          "base_uri": "https://localhost:8080/"
        },
        "id": "HsRUAnpevEM8",
        "outputId": "73048a67-30a7-466a-bd99-4476b08e987d"
      },
      "outputs": [
        {
          "data": {
            "text/plain": [
              "geopandas.geodataframe.GeoDataFrame"
            ]
          },
          "execution_count": 45,
          "metadata": {},
          "output_type": "execute_result"
        }
      ],
      "source": [
        "gdf_geometries = gpd.GeoDataFrame(df_geometries, geometry='geometry')\n",
        "type(gdf_geometries)"
      ]
    },
    {
      "cell_type": "code",
      "execution_count": null,
      "metadata": {
        "colab": {
          "background_save": true
        },
        "id": "Q1L4tDZGyw4K"
      },
      "outputs": [],
      "source": [
        "map= folium.Map(location=[0,0],tiles=\"stamenwatercolor\", zoom_start=3)\n",
        "tiles = ['stamenwatercolor', 'cartodbpositron', 'openstreetmap', 'stamenterrain']\n",
        "for tile in tiles:\n",
        "    folium.TileLayer(tile).add_to(map)\n",
        "zones= gdf_geometries\n",
        "\n",
        "KM = folium.Choropleth(\n",
        "    geo_data=zones.__geo_interface__,\n",
        "    name=\"K-means\",\n",
        "    data=gdf_geometries,\n",
        "    columns=[\"País\", \"Kmeans\"],\n",
        "    key_on=\"feature.properties.País\",\n",
        "    fill_color=\"Set3\",\n",
        "    fill_opacity=0.7,\n",
        "    line_opacity=0.2,\n",
        "    legend_name=\"Clustering por K-means\"\n",
        ").add_to(map)\n",
        "KM.geojson.add_child(\n",
        "    folium.features.GeoJsonTooltip(['País', 'Estatus', 'Esperanza de Vida', 'Mortalidad adulta',\n",
        "       'Muertes Infantiles', 'Hepatitis B', 'Sarampión', 'IMC',\n",
        "       'Muertes de menores de 5 años', 'Polio', 'Difteria', 'VIH/SIDA', 'PIB',\n",
        "       'Polación','Kmeans'], labels=True))\n",
        "\n",
        "AP = folium.Choropleth(\n",
        "    geo_data=zones.__geo_interface__,\n",
        "    name=\"Affinity Propagation\",\n",
        "    data=gdf_geometries,\n",
        "    columns=[\"País\", \"Affinity Propagation\"],\n",
        "    key_on=\"feature.properties.País\",\n",
        "    fill_color=\"Accent\",\n",
        "    fill_opacity=0.7,\n",
        "    line_opacity=0.2,\n",
        "    legend_name=\"Clustering por Affinity Propagation\"\n",
        ").add_to(map)\n",
        "AP.geojson.add_child(\n",
        "    folium.features.GeoJsonTooltip(['País', 'Estatus', 'Esperanza de Vida', 'Mortalidad adulta',\n",
        "       'Muertes Infantiles', 'Hepatitis B', 'Sarampión', 'IMC',\n",
        "       'Muertes de menores de 5 años', 'Polio', 'Difteria', 'VIH/SIDA', 'PIB',\n",
        "       'Polación','Affinity Propagation'], labels=True))\n",
        "\n",
        "DBScan = folium.Choropleth(\n",
        "    geo_data=zones.__geo_interface__,\n",
        "    name=\"DBSCAN\",\n",
        "    data=gdf_geometries,\n",
        "    columns=[\"País\", \"DBSCAN\"],\n",
        "    key_on=\"feature.properties.País\",\n",
        "    fill_color=\"Set2\",\n",
        "    fill_opacity=0.7,\n",
        "    line_opacity=0.2,\n",
        "    legend_name=\"Clustering por DBSCAN\"\n",
        ").add_to(map)\n",
        "DBScan.geojson.add_child(\n",
        "    folium.features.GeoJsonTooltip(['País', 'Estatus', 'Esperanza de Vida', 'Mortalidad adulta',\n",
        "       'Muertes Infantiles', 'Hepatitis B', 'Sarampión', 'IMC',\n",
        "       'Muertes de menores de 5 años', 'Polio', 'Difteria', 'VIH/SIDA', 'PIB',\n",
        "       'Polación','DBSCAN'], labels=True))\n",
        "\n",
        "SC = folium.Choropleth(\n",
        "    geo_data=zones.__geo_interface__,\n",
        "    name=\"Spectral Clustering\",\n",
        "    data=gdf_geometries,\n",
        "    columns=[\"País\", \"Spectral Clustering\"],\n",
        "    key_on=\"feature.properties.País\",\n",
        "    fill_color=\"Dark2\",\n",
        "    fill_opacity=0.7,\n",
        "    line_opacity=0.2,\n",
        "    legend_name=\"Clustering por Spectral Clustering\"\n",
        ").add_to(map)\n",
        "SC.geojson.add_child(\n",
        "    folium.features.GeoJsonTooltip(['País', 'Estatus', 'Esperanza de Vida', 'Mortalidad adulta',\n",
        "       'Muertes Infantiles', 'Hepatitis B', 'Sarampión', 'IMC',\n",
        "       'Muertes de menores de 5 años', 'Polio', 'Difteria', 'VIH/SIDA', 'PIB',\n",
        "       'Polación','Spectral Clustering'], labels=True))\n",
        "\n",
        "folium.LayerControl().add_to(map)\n",
        "map"
      ]
    },
    {
      "cell_type": "code",
      "execution_count": null,
      "metadata": {
        "id": "dqWDLts2Npvf"
      },
      "outputs": [],
      "source": [
        "map.save(\"MapaNoSupervisado.html\")"
      ]
    },
    {
      "cell_type": "code",
      "execution_count": null,
      "metadata": {
        "id": "SCFCf83yGzP1"
      },
      "outputs": [],
      "source": [
        ""
      ]
    }
  ],
  "metadata": {
    "colab": {
      "collapsed_sections": [],
      "name": "E6_Life Expectancy Unsupervised Learning.ipynb",
      "provenance": []
    },
    "kernelspec": {
      "display_name": "Python 3",
      "name": "python3"
    },
    "language_info": {
      "name": "python"
    }
  },
  "nbformat": 4,
  "nbformat_minor": 0
}